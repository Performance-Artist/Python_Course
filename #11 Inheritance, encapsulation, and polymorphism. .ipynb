{
 "cells": [
  {
   "cell_type": "code",
   "execution_count": 1,
   "metadata": {},
   "outputs": [],
   "source": [
    "# Inheritance, encapsulation, and polymorphism. "
   ]
  },
  {
   "cell_type": "code",
   "execution_count": 2,
   "metadata": {},
   "outputs": [],
   "source": [
    "# The OOP is based onf four columns. Abstraction, Inheritence, Encapsulation and\n",
    "# Polymotphism. Today we will talk only about the last 3."
   ]
  },
  {
   "cell_type": "code",
   "execution_count": 3,
   "metadata": {},
   "outputs": [],
   "source": [
    "# Abstraction just to mention is the fenomena that an A class is interpreted as a B class\n",
    "# if it behaves like a A class object."
   ]
  },
  {
   "cell_type": "code",
   "execution_count": 4,
   "metadata": {},
   "outputs": [],
   "source": [
    "# INHERITANCE"
   ]
  },
  {
   "cell_type": "code",
   "execution_count": 5,
   "metadata": {},
   "outputs": [],
   "source": [
    "# We will continue or example wiht cake, only we will extend it.\n",
    "# Inheritance is the act of inheritance of public and private fields and functions by a \n",
    "# class from other. As we know generaly speaking all cakes are dishes, do we can inherit\n",
    "# BakingForm from Dish class. Let's do it."
   ]
  },
  {
   "cell_type": "code",
   "execution_count": 6,
   "metadata": {},
   "outputs": [],
   "source": [
    "class Dish:\n",
    "    # We will set only 2 values for this clas, if the dish is sweet and if it's vegan\n",
    "    def __init__(self, sweet, vegan):\n",
    "        self._sweet = sweet\n",
    "        self._vegan = vegan\n",
    "    \n",
    "    # And we will create a function that will print out the sweetnes and veganness of the \n",
    "    # dish\n",
    "    def info(self):\n",
    "        print(f\"Sweet - {self._sweet}\\nVegan - {self._vegan}\")"
   ]
  },
  {
   "cell_type": "code",
   "execution_count": 7,
   "metadata": {},
   "outputs": [
    {
     "name": "stdout",
     "output_type": "stream",
     "text": [
      "Sweet - True\n",
      "Vegan - False\n"
     ]
    }
   ],
   "source": [
    "# let's test our class\n",
    "pancake = Dish(True, False)\n",
    "pancake.info()"
   ]
  },
  {
   "cell_type": "code",
   "execution_count": 8,
   "metadata": {},
   "outputs": [],
   "source": [
    "# Sweet it's working, now we can get to the child class"
   ]
  },
  {
   "cell_type": "code",
   "execution_count": 9,
   "metadata": {},
   "outputs": [],
   "source": [
    "class BakingForm(Dish):\n",
    "    def __init__(self, filling, shape, kcal):\n",
    "        # Firstly we need to call the constructor of the parent class\n",
    "        # Usually cakes are sweet and not vegan.\n",
    "        super().__init__(True, False)\n",
    "        self._filling = filling\n",
    "        self._shape = shape\n",
    "        self._kcal = kcal"
   ]
  },
  {
   "cell_type": "code",
   "execution_count": 10,
   "metadata": {},
   "outputs": [],
   "source": [
    "# Now let's 'bake' a cake\n",
    "napoleon = BakingForm('cream', 'shape', 'kcal')"
   ]
  },
  {
   "cell_type": "code",
   "execution_count": 11,
   "metadata": {},
   "outputs": [],
   "source": [
    "# Now we cal print out the cake's parameters"
   ]
  },
  {
   "cell_type": "code",
   "execution_count": 12,
   "metadata": {},
   "outputs": [
    {
     "name": "stdout",
     "output_type": "stream",
     "text": [
      "cream\n",
      "shape\n",
      "kcal\n"
     ]
    }
   ],
   "source": [
    "print(napoleon._filling)\n",
    "print(napoleon._shape)\n",
    "print(napoleon._kcal)"
   ]
  },
  {
   "cell_type": "code",
   "execution_count": 13,
   "metadata": {},
   "outputs": [
    {
     "name": "stdout",
     "output_type": "stream",
     "text": [
      "True\n",
      "False\n"
     ]
    }
   ],
   "source": [
    "# Now let's see the napoleon's inherited field.\n",
    "print(napoleon._sweet)\n",
    "print(napoleon._vegan)"
   ]
  },
  {
   "cell_type": "code",
   "execution_count": 14,
   "metadata": {},
   "outputs": [
    {
     "name": "stdout",
     "output_type": "stream",
     "text": [
      "Sweet - True\n",
      "Vegan - False\n"
     ]
    }
   ],
   "source": [
    "# Also let's call the inherited function\n",
    "napoleon.info()"
   ]
  },
  {
   "cell_type": "code",
   "execution_count": 15,
   "metadata": {},
   "outputs": [],
   "source": [
    "# Good, but suppose we need to setup the parent class when creating the child."
   ]
  },
  {
   "cell_type": "code",
   "execution_count": 16,
   "metadata": {},
   "outputs": [],
   "source": [
    "# Let's ad another class - Salad - they can be sweet and not, also vegan and not."
   ]
  },
  {
   "cell_type": "code",
   "execution_count": 17,
   "metadata": {},
   "outputs": [],
   "source": [
    "class Salad(Dish):\n",
    "    # To set up the parent class we must add it's parameters in the child class constructor\n",
    "    def __init__(self, sweet, vegan, oil, salt_amount):\n",
    "        super().__init__(sweet, vegan)\n",
    "        self._oil = oil\n",
    "        self._salt_amount = salt_amount"
   ]
  },
  {
   "cell_type": "code",
   "execution_count": 18,
   "metadata": {},
   "outputs": [],
   "source": [
    "# Let's prepare a cesar salad."
   ]
  },
  {
   "cell_type": "code",
   "execution_count": 19,
   "metadata": {},
   "outputs": [],
   "source": [
    "cezar = Salad(False, False, True, 2)"
   ]
  },
  {
   "cell_type": "code",
   "execution_count": 20,
   "metadata": {},
   "outputs": [],
   "source": [
    "# Now let's see it parameters."
   ]
  },
  {
   "cell_type": "code",
   "execution_count": 21,
   "metadata": {},
   "outputs": [
    {
     "name": "stdout",
     "output_type": "stream",
     "text": [
      "True\n",
      "2\n"
     ]
    }
   ],
   "source": [
    "print(cezar._oil)\n",
    "print(cezar._salt_amount)"
   ]
  },
  {
   "cell_type": "code",
   "execution_count": 22,
   "metadata": {},
   "outputs": [
    {
     "name": "stdout",
     "output_type": "stream",
     "text": [
      "False\n",
      "False\n"
     ]
    }
   ],
   "source": [
    "# And the inherited fields.\n",
    "print(cezar._sweet)\n",
    "print(cezar._vegan)"
   ]
  },
  {
   "cell_type": "code",
   "execution_count": 23,
   "metadata": {},
   "outputs": [
    {
     "name": "stdout",
     "output_type": "stream",
     "text": [
      "Sweet - False\n",
      "Vegan - False\n"
     ]
    }
   ],
   "source": [
    "cezar.info()"
   ]
  },
  {
   "cell_type": "code",
   "execution_count": 24,
   "metadata": {},
   "outputs": [],
   "source": [
    "# ENCAPSULATION"
   ]
  },
  {
   "cell_type": "code",
   "execution_count": 25,
   "metadata": {},
   "outputs": [],
   "source": [
    "# The fenomena of having some fields as objects of other classes.\n",
    "# Afterall everything in python is a object.\n",
    "# So let's see an example."
   ]
  },
  {
   "cell_type": "code",
   "execution_count": 27,
   "metadata": {},
   "outputs": [],
   "source": [
    "# Let's suppose we have a restaurant, and it has only 2 types of dishes: Cakes and Salads.\n",
    "# But we will slightly change the structure of the salad and cake"
   ]
  },
  {
   "cell_type": "code",
   "execution_count": 28,
   "metadata": {},
   "outputs": [],
   "source": [
    "class BakingForm(Dish):\n",
    "    def __init__(self, filling, shape, kcal, name):\n",
    "        # Firstly we need to call the constructor of the parent class\n",
    "        # Usually cakes are sweet and not vegan.\n",
    "        super().__init__(True, False)\n",
    "        self.name = name\n",
    "        self._filling = filling\n",
    "        self._shape = shape\n",
    "        self._kcal = kcal"
   ]
  },
  {
   "cell_type": "code",
   "execution_count": 29,
   "metadata": {},
   "outputs": [],
   "source": [
    "class Salad(Dish):\n",
    "    # To set up the parent class we must add it's parameters in the child class constructor\n",
    "    def __init__(self, sweet, vegan, oil, salt_amount, name):\n",
    "        super().__init__(sweet, vegan)\n",
    "        self.name = name\n",
    "        self._oil = oil\n",
    "        self._salt_amount = salt_amount"
   ]
  },
  {
   "cell_type": "code",
   "execution_count": 30,
   "metadata": {},
   "outputs": [],
   "source": [
    "class Menu:\n",
    "    def __init__(self, dishes, prices):\n",
    "        if len(dishes) != len(prices):\n",
    "            raise ValueError(\"The list of dishes and the list of prices have diferent lenghts\")\n",
    "        else:\n",
    "            self.dishes = dishes\n",
    "            self.prices = prices\n",
    "    \n",
    "    def preaty_print(self):\n",
    "        for i in range(len(self.dishes)):\n",
    "            print(f\"{self.dishes[i].name} - {self.prices[i]}\")"
   ]
  },
  {
   "cell_type": "code",
   "execution_count": 31,
   "metadata": {},
   "outputs": [],
   "source": [
    "# Creatting some dishes\n",
    "napoleon = BakingForm('cream', 'square', 95, 'napoleon')\n",
    "chocolate_cake = BakingForm('chocolare', 'circle', 100, 'chocolate price')\n",
    "cezar = Salad(False, False, True, 10, 'caezar')\n",
    "crab_salad = Salad(False, False, False, 0, 'crab salad')"
   ]
  },
  {
   "cell_type": "code",
   "execution_count": 32,
   "metadata": {},
   "outputs": [],
   "source": [
    "# Creatting the menu\n",
    "menu = Menu(\n",
    "    [napoleon, chocolate_cake, cezar, crab_salad],\n",
    "    [100, 150, 70, 80])"
   ]
  },
  {
   "cell_type": "code",
   "execution_count": 33,
   "metadata": {},
   "outputs": [
    {
     "name": "stdout",
     "output_type": "stream",
     "text": [
      "napoleon - 100\n",
      "chocolate price - 150\n",
      "caezar - 70\n",
      "crab salad - 80\n"
     ]
    }
   ],
   "source": [
    "# Printing out the menu\n",
    "menu.preaty_print()"
   ]
  },
  {
   "cell_type": "code",
   "execution_count": 34,
   "metadata": {},
   "outputs": [],
   "source": [
    "# Polymorphism"
   ]
  },
  {
   "cell_type": "code",
   "execution_count": 35,
   "metadata": {},
   "outputs": [],
   "source": [
    "# There are 2 types of polymorphism in python:\n",
    "# 1. When the same class have many functions with the same name but diferent number of \n",
    "# arguments\n",
    "# 2. When diferent classes have a function with the same name."
   ]
  },
  {
   "cell_type": "code",
   "execution_count": 36,
   "metadata": {},
   "outputs": [],
   "source": [
    "# Let's try the first example and change our menu class"
   ]
  },
  {
   "cell_type": "code",
   "execution_count": 37,
   "metadata": {},
   "outputs": [],
   "source": [
    "# Let's create 2 functions that will do the same but will take diferent types of arguments.\n",
    "# We will create a function add_item - It will add an item into the menu."
   ]
  },
  {
   "cell_type": "code",
   "execution_count": 42,
   "metadata": {},
   "outputs": [],
   "source": [
    "class Menu:\n",
    "    def __init__(self, dishes, prices):\n",
    "        if len(dishes) != len(prices):\n",
    "            raise ValueError(\"The list of dishes and the list of prices have diferent lenghts\")\n",
    "        else:\n",
    "            self.dishes = dishes\n",
    "            self.prices = prices\n",
    "    \n",
    "    def preaty_print(self):\n",
    "        for i in range(len(self.dishes)):\n",
    "            print(f\"{self.dishes[i].name} - {self.prices[i]}\")\n",
    "    \n",
    "    def add_item(self, dish, price=None):\n",
    "        if price is None:\n",
    "            self.dishes.append(dish[0])\n",
    "            self.prices.append(dish[1])\n",
    "        else:\n",
    "            self.dishes.append(dish)\n",
    "            self.prices.append(price)"
   ]
  },
  {
   "cell_type": "code",
   "execution_count": 43,
   "metadata": {},
   "outputs": [],
   "source": [
    "# Let's recreate our menu\n",
    "menu = Menu(\n",
    "    [napoleon, chocolate_cake, cezar, crab_salad],\n",
    "    [100, 150, 70, 80])"
   ]
  },
  {
   "cell_type": "code",
   "execution_count": 44,
   "metadata": {},
   "outputs": [
    {
     "name": "stdout",
     "output_type": "stream",
     "text": [
      "napoleon - 100\n",
      "chocolate price - 150\n",
      "caezar - 70\n",
      "crab salad - 80\n"
     ]
    }
   ],
   "source": [
    "menu.preaty_print()"
   ]
  },
  {
   "cell_type": "code",
   "execution_count": 45,
   "metadata": {},
   "outputs": [],
   "source": [
    "# let's add a another dish\n",
    "menu.add_item(\n",
    "    BakingForm('cream', 'square', 120, 'smetanik'),\n",
    "    90\n",
    ")"
   ]
  },
  {
   "cell_type": "code",
   "execution_count": 46,
   "metadata": {},
   "outputs": [
    {
     "name": "stdout",
     "output_type": "stream",
     "text": [
      "napoleon - 100\n",
      "chocolate price - 150\n",
      "caezar - 70\n",
      "crab salad - 80\n",
      "smetanik - 90\n"
     ]
    }
   ],
   "source": [
    "# let's see the menu\n",
    "menu.preaty_print()"
   ]
  },
  {
   "cell_type": "code",
   "execution_count": 47,
   "metadata": {},
   "outputs": [],
   "source": [
    "menu.add_item(\n",
    "    (BakingForm('cherry', 'square', 120, 'smetanik'),\n",
    "    90)\n",
    ")"
   ]
  },
  {
   "cell_type": "code",
   "execution_count": 49,
   "metadata": {},
   "outputs": [
    {
     "name": "stdout",
     "output_type": "stream",
     "text": [
      "napoleon - 100\n",
      "chocolate price - 150\n",
      "caezar - 70\n",
      "crab salad - 80\n",
      "smetanik - 90\n",
      "smetanik - 90\n"
     ]
    }
   ],
   "source": [
    "menu.preaty_print()"
   ]
  },
  {
   "cell_type": "code",
   "execution_count": null,
   "metadata": {},
   "outputs": [],
   "source": []
  }
 ],
 "metadata": {
  "kernelspec": {
   "display_name": "Python 3",
   "language": "python",
   "name": "python3"
  },
  "language_info": {
   "codemirror_mode": {
    "name": "ipython",
    "version": 3
   },
   "file_extension": ".py",
   "mimetype": "text/x-python",
   "name": "python",
   "nbconvert_exporter": "python",
   "pygments_lexer": "ipython3",
   "version": "3.9.2"
  }
 },
 "nbformat": 4,
 "nbformat_minor": 4
}
