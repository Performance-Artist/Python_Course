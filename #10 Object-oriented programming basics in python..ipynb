{
 "cells": [
  {
   "cell_type": "code",
   "execution_count": 1,
   "metadata": {},
   "outputs": [],
   "source": [
    "# Object-oriented programming basics in python."
   ]
  },
  {
   "cell_type": "code",
   "execution_count": 2,
   "metadata": {},
   "outputs": [],
   "source": [
    "# OOP (or object-oriented programming) is a paradigm in programming that allows programming\n",
    "# computers using entinties named classes and objects."
   ]
  },
  {
   "cell_type": "code",
   "execution_count": 3,
   "metadata": {},
   "outputs": [],
   "source": [
    "# What are classes and onjects?\n",
    "# It's hard to answer, but let's use an abstraction, who doesn't like the abstractions?"
   ]
  },
  {
   "cell_type": "code",
   "execution_count": 5,
   "metadata": {},
   "outputs": [],
   "source": [
    "# Suppose we need to cook a cake. Cakes are diferent. Some are with chicollate, some are with\n",
    "# some are with cream. Also they have diferent fillings. So, basically they are different, \n",
    "# but for cooking them we use the same baking form."
   ]
  },
  {
   "cell_type": "code",
   "execution_count": 6,
   "metadata": {},
   "outputs": [],
   "source": [
    "# Using this abstraction we can say that baking form is a class (or also known as framework)\n",
    "# and cakes are the objects."
   ]
  },
  {
   "cell_type": "code",
   "execution_count": 7,
   "metadata": {},
   "outputs": [],
   "source": [
    "# Lat's implements a class nammed baking form."
   ]
  },
  {
   "cell_type": "code",
   "execution_count": 9,
   "metadata": {},
   "outputs": [],
   "source": [
    "class BakingForm:\n",
    "    filling = None\n",
    "    shape = None"
   ]
  },
  {
   "cell_type": "code",
   "execution_count": 10,
   "metadata": {},
   "outputs": [],
   "source": [
    "# Now we can create some objects (bake cakes)."
   ]
  },
  {
   "cell_type": "code",
   "execution_count": 12,
   "metadata": {},
   "outputs": [],
   "source": [
    "napoleon = BakingForm()\n",
    "chocolate_cake = BakingForm()"
   ]
  },
  {
   "cell_type": "code",
   "execution_count": 13,
   "metadata": {},
   "outputs": [],
   "source": [
    "# Now let's see their fillings and shape."
   ]
  },
  {
   "cell_type": "code",
   "execution_count": 15,
   "metadata": {},
   "outputs": [
    {
     "name": "stdout",
     "output_type": "stream",
     "text": [
      "None\n",
      "None\n"
     ]
    }
   ],
   "source": [
    "print(napoleon.filling)\n",
    "print(napoleon.shape)"
   ]
  },
  {
   "cell_type": "code",
   "execution_count": 16,
   "metadata": {},
   "outputs": [],
   "source": [
    "# As you see they are both None, so we need to set them up"
   ]
  },
  {
   "cell_type": "code",
   "execution_count": 17,
   "metadata": {},
   "outputs": [],
   "source": [
    "napoleon.filling = 'cream'\n",
    "napoleon.shape = 'square'"
   ]
  },
  {
   "cell_type": "code",
   "execution_count": 18,
   "metadata": {},
   "outputs": [],
   "source": [
    "# The same we are doing for the chocolate cake\n",
    "chocolate_cake.filling = 'chocholate'\n",
    "chocolate_cake.shape = 'circle'"
   ]
  },
  {
   "cell_type": "code",
   "execution_count": 19,
   "metadata": {},
   "outputs": [
    {
     "name": "stdout",
     "output_type": "stream",
     "text": [
      "cream\n",
      "square\n"
     ]
    }
   ],
   "source": [
    "# Now let's see if the values changed.\n",
    "print(napoleon.filling)\n",
    "print(napoleon.shape)"
   ]
  },
  {
   "cell_type": "code",
   "execution_count": 20,
   "metadata": {},
   "outputs": [],
   "source": [
    "# Good they changed. However setting the value of the object in such a way isn't so productiove"
   ]
  },
  {
   "cell_type": "code",
   "execution_count": 21,
   "metadata": {},
   "outputs": [],
   "source": [
    "# So, we need another aproach. Sometimes, classes have special methods that set's up the \n",
    "# parrameters of a object."
   ]
  },
  {
   "cell_type": "code",
   "execution_count": 22,
   "metadata": {},
   "outputs": [],
   "source": [
    "# Let's redifine the class 'BakingForm'"
   ]
  },
  {
   "cell_type": "code",
   "execution_count": 28,
   "metadata": {},
   "outputs": [],
   "source": [
    "class BakingForm:\n",
    "    # Let's define the setter for the filling\n",
    "    def set_filling(self, filling):\n",
    "        self.filling = filling\n",
    "    # The setter for the shape\n",
    "    def set_shape(self, shape):\n",
    "        self.shape = shape\n",
    "    # And let's create a setter that will set the both parmeters\n",
    "    def prepare(self, filling, shape):\n",
    "        self.filling = filling\n",
    "        self.shape = shape"
   ]
  },
  {
   "cell_type": "code",
   "execution_count": 29,
   "metadata": {},
   "outputs": [],
   "source": [
    "# self - the first argument of the each functions, means the object itself. It is mandatory\n",
    "# to be setted up. When a function from a object is called every time the first argument\n",
    "# is the object itself."
   ]
  },
  {
   "cell_type": "code",
   "execution_count": 30,
   "metadata": {},
   "outputs": [],
   "source": [
    "# Now let's recreate our cakes."
   ]
  },
  {
   "cell_type": "code",
   "execution_count": 31,
   "metadata": {},
   "outputs": [],
   "source": [
    "napoleon = BakingForm()\n",
    "napoleon.set_filling('cream')\n",
    "napoleon.set_shape('square')"
   ]
  },
  {
   "cell_type": "code",
   "execution_count": 32,
   "metadata": {},
   "outputs": [],
   "source": [
    "chocolate_cake = BakingForm()\n",
    "chocolate_cake.prepare('chocolate', 'circle')"
   ]
  },
  {
   "cell_type": "code",
   "execution_count": 33,
   "metadata": {},
   "outputs": [],
   "source": [
    "# Now let's see the results"
   ]
  },
  {
   "cell_type": "code",
   "execution_count": 34,
   "metadata": {},
   "outputs": [
    {
     "name": "stdout",
     "output_type": "stream",
     "text": [
      "cream\n",
      "square\n"
     ]
    }
   ],
   "source": [
    "print(napoleon.filling)\n",
    "print(napoleon.shape)"
   ]
  },
  {
   "cell_type": "code",
   "execution_count": 35,
   "metadata": {},
   "outputs": [
    {
     "name": "stdout",
     "output_type": "stream",
     "text": [
      "chocolate\n",
      "circle\n"
     ]
    }
   ],
   "source": [
    "print(chocolate_cake.filling)\n",
    "print(chocolate_cake.shape)"
   ]
  },
  {
   "cell_type": "code",
   "execution_count": 36,
   "metadata": {},
   "outputs": [],
   "source": [
    "# Also we can call a function from the class in another function from class. Let's rewrite \n",
    "# our class."
   ]
  },
  {
   "cell_type": "code",
   "execution_count": 37,
   "metadata": {},
   "outputs": [],
   "source": [
    "class BakingForm:\n",
    "    # Let's define the setter for the filling\n",
    "    def set_filling(self, filling):\n",
    "        self.filling = filling\n",
    "    # The setter for the shape\n",
    "    def set_shape(self, shape):\n",
    "        self.shape = shape\n",
    "    # And let's create a setter that will set the both parmeters\n",
    "    def prepare(self, filling, shape):\n",
    "        self.set_filling(filling)\n",
    "        self.set_shape(shape)"
   ]
  },
  {
   "cell_type": "code",
   "execution_count": 38,
   "metadata": {},
   "outputs": [],
   "source": [
    "chocolate_cake = BakingForm()\n",
    "chocolate_cake.prepare('chocolate', 'circle')"
   ]
  },
  {
   "cell_type": "code",
   "execution_count": 39,
   "metadata": {},
   "outputs": [
    {
     "name": "stdout",
     "output_type": "stream",
     "text": [
      "chocolate\n",
      "circle\n"
     ]
    }
   ],
   "source": [
    "print(chocolate_cake.filling)\n",
    "print(chocolate_cake.shape)"
   ]
  },
  {
   "cell_type": "code",
   "execution_count": 40,
   "metadata": {},
   "outputs": [],
   "source": [
    "# The same results."
   ]
  },
  {
   "cell_type": "code",
   "execution_count": 41,
   "metadata": {},
   "outputs": [],
   "source": [
    "# GETTERS\n",
    "# Usually in other languages fields or variables of the class can't be accessed externally.\n",
    "# Why? Because in OOP are 3 main types:\n",
    "# > public - they can be accesed by the every one, meaning that they can be accesed out of \n",
    "# class body.\n",
    "# > private - they can be accesed only by the same class members and their children. What\n",
    "# I mean by children of the class, I will tell you at the next lesson.\n",
    "# > protected - they can be accesed only by the onject itself."
   ]
  },
  {
   "cell_type": "code",
   "execution_count": 42,
   "metadata": {},
   "outputs": [],
   "source": [
    "# However all the fields in python are public we can create some sort of abstraction\n",
    "# of this types of fields."
   ]
  },
  {
   "cell_type": "code",
   "execution_count": 43,
   "metadata": {},
   "outputs": [],
   "source": [
    "# Let's add to our class a one more field - kcal = the number of calories."
   ]
  },
  {
   "cell_type": "code",
   "execution_count": 46,
   "metadata": {},
   "outputs": [],
   "source": [
    "class BakingForm:\n",
    "    def set_filling(self, filling):\n",
    "        # Setting up the filling field as public field.\n",
    "        self.filling = filling\n",
    "    \n",
    "    def set_shape(self, shape):\n",
    "        # Setting up the shape field as private field.\n",
    "        self._shape = shape\n",
    "    \n",
    "    def set_kcal(self, kcal):\n",
    "        # Setting up the kcal field as protected field.\n",
    "        self.__kcal = kcal\n",
    "    \n",
    "    def prepare(self, filling, shape, kcal):\n",
    "        self.set_filling(filling)\n",
    "        self.set_shape(shape)\n",
    "        self.set_kcal(kcal)"
   ]
  },
  {
   "cell_type": "code",
   "execution_count": 47,
   "metadata": {},
   "outputs": [],
   "source": [
    "napoleon = BakingForm()\n",
    "napoleon.prepare('cream', 'square', 95)"
   ]
  },
  {
   "cell_type": "code",
   "execution_count": 48,
   "metadata": {},
   "outputs": [],
   "source": [
    "# Now let's see the values of our cake."
   ]
  },
  {
   "cell_type": "code",
   "execution_count": 49,
   "metadata": {},
   "outputs": [
    {
     "name": "stdout",
     "output_type": "stream",
     "text": [
      "cream\n"
     ]
    }
   ],
   "source": [
    "print(napoleon.filling)"
   ]
  },
  {
   "cell_type": "code",
   "execution_count": 50,
   "metadata": {},
   "outputs": [
    {
     "ename": "AttributeError",
     "evalue": "'BakingForm' object has no attribute 'shape'",
     "output_type": "error",
     "traceback": [
      "\u001b[1;31m---------------------------------------------------------------------------\u001b[0m",
      "\u001b[1;31mAttributeError\u001b[0m                            Traceback (most recent call last)",
      "\u001b[1;32m<ipython-input-50-a9499f9e8084>\u001b[0m in \u001b[0;36m<module>\u001b[1;34m\u001b[0m\n\u001b[0;32m      1\u001b[0m \u001b[1;31m# That was easy, let's print out the shape\u001b[0m\u001b[1;33m\u001b[0m\u001b[1;33m\u001b[0m\u001b[1;33m\u001b[0m\u001b[0m\n\u001b[1;32m----> 2\u001b[1;33m \u001b[0mprint\u001b[0m\u001b[1;33m(\u001b[0m\u001b[0mnapoleon\u001b[0m\u001b[1;33m.\u001b[0m\u001b[0mshape\u001b[0m\u001b[1;33m)\u001b[0m\u001b[1;33m\u001b[0m\u001b[1;33m\u001b[0m\u001b[0m\n\u001b[0m",
      "\u001b[1;31mAttributeError\u001b[0m: 'BakingForm' object has no attribute 'shape'"
     ]
    }
   ],
   "source": [
    "# That was easy, let's print out the shape\n",
    "print(napoleon.shape)"
   ]
  },
  {
   "cell_type": "code",
   "execution_count": 51,
   "metadata": {},
   "outputs": [
    {
     "name": "stdout",
     "output_type": "stream",
     "text": [
      "square\n"
     ]
    }
   ],
   "source": [
    "# Huh, no such atribute. Interesting. However we can acces it by adding an underscore.\n",
    "print(napoleon._shape)"
   ]
  },
  {
   "cell_type": "code",
   "execution_count": 52,
   "metadata": {},
   "outputs": [
    {
     "ename": "AttributeError",
     "evalue": "'BakingForm' object has no attribute '__kcal'",
     "output_type": "error",
     "traceback": [
      "\u001b[1;31m---------------------------------------------------------------------------\u001b[0m",
      "\u001b[1;31mAttributeError\u001b[0m                            Traceback (most recent call last)",
      "\u001b[1;32m<ipython-input-52-f302f11e4db7>\u001b[0m in \u001b[0;36m<module>\u001b[1;34m\u001b[0m\n\u001b[0;32m      1\u001b[0m \u001b[1;31m# Done, now let's get to the protected field, adding 2 underscored.\u001b[0m\u001b[1;33m\u001b[0m\u001b[1;33m\u001b[0m\u001b[1;33m\u001b[0m\u001b[0m\n\u001b[1;32m----> 2\u001b[1;33m \u001b[0mprint\u001b[0m\u001b[1;33m(\u001b[0m\u001b[0mnapoleon\u001b[0m\u001b[1;33m.\u001b[0m\u001b[0m__kcal\u001b[0m\u001b[1;33m)\u001b[0m\u001b[1;33m\u001b[0m\u001b[1;33m\u001b[0m\u001b[0m\n\u001b[0m",
      "\u001b[1;31mAttributeError\u001b[0m: 'BakingForm' object has no attribute '__kcal'"
     ]
    }
   ],
   "source": [
    "# Done, now let's get to the protected field, adding 2 underscored.\n",
    "print(napoleon.__kcal)"
   ]
  },
  {
   "cell_type": "code",
   "execution_count": 53,
   "metadata": {},
   "outputs": [
    {
     "name": "stdout",
     "output_type": "stream",
     "text": [
      "95\n"
     ]
    }
   ],
   "source": [
    "# Ups, no such field.\n",
    "# However even protected fields in python can be accesed.\n",
    "print(napoleon._BakingForm__kcal)"
   ]
  },
  {
   "cell_type": "code",
   "execution_count": 54,
   "metadata": {},
   "outputs": [],
   "source": [
    "# And that's it. So, to acces a private field we must type the next framework.\n",
    "# <object>._<name of the class>__<name of protected field without underscores>"
   ]
  },
  {
   "cell_type": "code",
   "execution_count": 55,
   "metadata": {},
   "outputs": [],
   "source": [
    "# Now let's get back to our getters.\n",
    "# Getters are function that allows returning the values of diferent fields, especially that\n",
    "# are private and protected, so let's add some to our class."
   ]
  },
  {
   "cell_type": "code",
   "execution_count": 57,
   "metadata": {},
   "outputs": [],
   "source": [
    "class BakingForm:\n",
    "    def set_filling(self, filling):\n",
    "        # Setting up the filling field as public field.\n",
    "        self.filling = filling\n",
    "    \n",
    "    def set_shape(self, shape):\n",
    "        # Setting up the shape field as private field.\n",
    "        self._shape = shape\n",
    "    \n",
    "    def set_kcal(self, kcal):\n",
    "        # Setting up the kcal field as protected field.\n",
    "        self.__kcal = kcal\n",
    "    \n",
    "    def get_filling(self):\n",
    "        return self.filling\n",
    "    \n",
    "    def get_shape(self):\n",
    "        return self._shape\n",
    "    \n",
    "    def get_kcal(self):\n",
    "        return self.__kcal\n",
    "    \n",
    "    def prepare(self, filling, shape, kcal):\n",
    "        self.set_filling(filling)\n",
    "        self.set_shape(shape)\n",
    "        self.set_kcal(kcal)"
   ]
  },
  {
   "cell_type": "code",
   "execution_count": 58,
   "metadata": {},
   "outputs": [],
   "source": [
    "# Now let's create another napoleon.\n",
    "napoleon = BakingForm()\n",
    "napoleon.prepare('cream', 'square', 95)"
   ]
  },
  {
   "cell_type": "code",
   "execution_count": 59,
   "metadata": {},
   "outputs": [
    {
     "name": "stdout",
     "output_type": "stream",
     "text": [
      "cream\n",
      "square\n",
      "95\n"
     ]
    }
   ],
   "source": [
    "# Now let's get the values of the cake\n",
    "print(napoleon.get_filling())\n",
    "print(napoleon.get_shape())\n",
    "print(napoleon.get_kcal())"
   ]
  },
  {
   "cell_type": "code",
   "execution_count": 60,
   "metadata": {},
   "outputs": [],
   "source": [
    "# As you see all field where printed out."
   ]
  },
  {
   "cell_type": "code",
   "execution_count": 61,
   "metadata": {},
   "outputs": [],
   "source": [
    "# As you probably have noticed, setting up all parameters when creatting a class can be \n",
    "# preatty anoying. So would be nice if we would set all the parameters when we are creating \n",
    "# the object."
   ]
  },
  {
   "cell_type": "code",
   "execution_count": 62,
   "metadata": {},
   "outputs": [],
   "source": [
    "# For this are used constructors.\n",
    "# To create a constructor we are just adding a function named __init__"
   ]
  },
  {
   "cell_type": "code",
   "execution_count": 63,
   "metadata": {},
   "outputs": [],
   "source": [
    "# It is a magic function, we will get back to them after a lesson."
   ]
  },
  {
   "cell_type": "code",
   "execution_count": 64,
   "metadata": {},
   "outputs": [],
   "source": [
    "class BakingForm:\n",
    "    def __init__(self, filling, shape, kcal):\n",
    "        self.filling = filling\n",
    "        self._shape = shape\n",
    "        self.__kcal = kcal\n",
    "    \n",
    "    def get_filling(self):\n",
    "        return self.filling\n",
    "    \n",
    "    def get_shape(self):\n",
    "        return self._shape\n",
    "    \n",
    "    def get_kcal(self):\n",
    "        return self.__kcal"
   ]
  },
  {
   "cell_type": "code",
   "execution_count": 65,
   "metadata": {},
   "outputs": [],
   "source": [
    "# Now e can set up an object when we are creatting it.\n",
    "napoleon = BakingForm('cream', 'square', 95)"
   ]
  },
  {
   "cell_type": "code",
   "execution_count": 66,
   "metadata": {},
   "outputs": [],
   "source": [
    "# Now let's see what what we have got"
   ]
  },
  {
   "cell_type": "code",
   "execution_count": 67,
   "metadata": {},
   "outputs": [
    {
     "name": "stdout",
     "output_type": "stream",
     "text": [
      "cream\n",
      "square\n",
      "95\n"
     ]
    }
   ],
   "source": [
    "print(napoleon.get_filling())\n",
    "print(napoleon.get_shape())\n",
    "print(napoleon.get_kcal())"
   ]
  },
  {
   "cell_type": "code",
   "execution_count": 68,
   "metadata": {},
   "outputs": [],
   "source": [
    "# As you se the constructor really set's up the value when the object is created."
   ]
  },
  {
   "cell_type": "code",
   "execution_count": null,
   "metadata": {},
   "outputs": [],
   "source": []
  }
 ],
 "metadata": {
  "kernelspec": {
   "display_name": "Python 3",
   "language": "python",
   "name": "python3"
  },
  "language_info": {
   "codemirror_mode": {
    "name": "ipython",
    "version": 3
   },
   "file_extension": ".py",
   "mimetype": "text/x-python",
   "name": "python",
   "nbconvert_exporter": "python",
   "pygments_lexer": "ipython3",
   "version": "3.9.2"
  }
 },
 "nbformat": 4,
 "nbformat_minor": 4
}
