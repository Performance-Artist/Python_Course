{
 "cells": [
  {
   "cell_type": "code",
   "execution_count": 1,
   "id": "scientific-comparison",
   "metadata": {},
   "outputs": [],
   "source": [
    "class Cube:\n",
    "    def __init__(self, edge):\n",
    "        self.edge = edge\n",
    "    \n",
    "    def total_area(self):\n",
    "        return 6 * self.edge ** 2\n",
    "    \n",
    "    def volume(self):\n",
    "        return self.edge ** 3\n",
    "    \n",
    "cube = Cube(15)\n",
    "    "
   ]
  },
  {
   "cell_type": "code",
   "execution_count": 2,
   "id": "atlantic-coordinator",
   "metadata": {},
   "outputs": [
    {
     "data": {
      "text/plain": [
       "<__main__.Cube at 0x22175fc83a0>"
      ]
     },
     "execution_count": 2,
     "metadata": {},
     "output_type": "execute_result"
    }
   ],
   "source": [
    "cube"
   ]
  },
  {
   "cell_type": "code",
   "execution_count": 5,
   "id": "opened-index",
   "metadata": {},
   "outputs": [
    {
     "name": "stdout",
     "output_type": "stream",
     "text": [
      "1350\n",
      "3375\n"
     ]
    }
   ],
   "source": [
    "print(cube.total_area())\n",
    "print(cube.volume())"
   ]
  },
  {
   "cell_type": "code",
   "execution_count": null,
   "id": "purple-cyprus",
   "metadata": {},
   "outputs": [],
   "source": []
  }
 ],
 "metadata": {
  "kernelspec": {
   "display_name": "Python 3",
   "language": "python",
   "name": "python3"
  },
  "language_info": {
   "codemirror_mode": {
    "name": "ipython",
    "version": 3
   },
   "file_extension": ".py",
   "mimetype": "text/x-python",
   "name": "python",
   "nbconvert_exporter": "python",
   "pygments_lexer": "ipython3",
   "version": "3.9.1"
  }
 },
 "nbformat": 4,
 "nbformat_minor": 5
}
