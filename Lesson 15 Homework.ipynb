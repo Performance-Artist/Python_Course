{
 "cells": [
  {
   "cell_type": "code",
   "execution_count": 1,
   "id": "smart-marketing",
   "metadata": {},
   "outputs": [],
   "source": [
    "# Lesson 15 Homework"
   ]
  },
  {
   "cell_type": "code",
   "execution_count": 2,
   "id": "hollow-motor",
   "metadata": {},
   "outputs": [],
   "source": [
    "class GeometricProgression:\n",
    "    def __init__(self, n, b, k):\n",
    "        self.n = n\n",
    "        self.b = b\n",
    "        self.k = k\n",
    "    \n",
    "    def __iter__(self):\n",
    "        yield self.b\n",
    "        for i in range(self.n - 1):\n",
    "            yield self.b * self.k\n",
    "            self.b *= self.k"
   ]
  },
  {
   "cell_type": "code",
   "execution_count": 8,
   "id": "unlike-commitment",
   "metadata": {},
   "outputs": [
    {
     "name": "stdout",
     "output_type": "stream",
     "text": [
      "3\n",
      "12\n",
      "48\n",
      "192\n",
      "768\n",
      "3072\n",
      "12288\n",
      "49152\n",
      "196608\n",
      "786432\n",
      "3145728\n",
      "12582912\n",
      "50331648\n",
      "201326592\n",
      "805306368\n",
      "3221225472\n",
      "12884901888\n",
      "51539607552\n",
      "206158430208\n",
      "824633720832\n"
     ]
    }
   ],
   "source": [
    "geom = GeometricProgression(20, 3, 4)\n",
    "for i in geom:\n",
    "    print(i)"
   ]
  }
 ],
 "metadata": {
  "kernelspec": {
   "display_name": "Python 3",
   "language": "python",
   "name": "python3"
  },
  "language_info": {
   "codemirror_mode": {
    "name": "ipython",
    "version": 3
   },
   "file_extension": ".py",
   "mimetype": "text/x-python",
   "name": "python",
   "nbconvert_exporter": "python",
   "pygments_lexer": "ipython3",
   "version": "3.9.1"
  }
 },
 "nbformat": 4,
 "nbformat_minor": 5
}
