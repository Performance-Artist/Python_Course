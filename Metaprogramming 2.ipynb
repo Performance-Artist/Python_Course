{
 "cells": [
  {
   "cell_type": "code",
   "execution_count": 1,
   "id": "absolute-transcription",
   "metadata": {},
   "outputs": [],
   "source": [
    "from collections import OrderedDict"
   ]
  },
  {
   "cell_type": "code",
   "execution_count": 31,
   "id": "unknown-behavior",
   "metadata": {},
   "outputs": [],
   "source": [
    "class Metaclass(type):\n",
    "    @classmethod\n",
    "    def __prepare__(cls, name, bases):\n",
    "        return OrderedDict()\n",
    "    \n",
    "    def __init__(cls, name, bases, attr_dict):\n",
    "        super().__init__(name, bases, attr_dict)\n",
    "    \n",
    "        cls._field_names = []\n",
    "    \n",
    "        def __init__(self, *args, **kwargs):\n",
    "            self.__slots__ = cls._field_names\n",
    "            attrs = dict(zip(self.__slots__, args))\n",
    "            attrs.update(kwargs)\n",
    "            for name, value in attrs.items():\n",
    "                setattr(self, name, value)\n",
    "            \n",
    "        for key, attr in attr_dict.items():\n",
    "            type_name = type(attr).__name__\n",
    "            attr.storage_name = '{}#{}.format(type_name, key)'\n",
    "            cls._field_names.append(key)\n",
    "        cls.__init__ = __init__\n",
    "                                        "
   ]
  },
  {
   "cell_type": "code",
   "execution_count": 32,
   "id": "facial-least",
   "metadata": {},
   "outputs": [
    {
     "ename": "TypeError",
     "evalue": "can't set attributes of built-in/extension type 'str'",
     "output_type": "error",
     "traceback": [
      "\u001b[1;31m---------------------------------------------------------------------------\u001b[0m",
      "\u001b[1;31mTypeError\u001b[0m                                 Traceback (most recent call last)",
      "\u001b[1;32m<ipython-input-32-d3d9688b4a19>\u001b[0m in \u001b[0;36m<module>\u001b[1;34m\u001b[0m\n\u001b[1;32m----> 1\u001b[1;33m \u001b[0mAccountant\u001b[0m \u001b[1;33m=\u001b[0m \u001b[0mMetaclass\u001b[0m\u001b[1;33m(\u001b[0m\u001b[1;34m'Accountant'\u001b[0m\u001b[1;33m,\u001b[0m \u001b[1;33m(\u001b[0m\u001b[0mobject\u001b[0m\u001b[1;33m,\u001b[0m\u001b[1;33m)\u001b[0m\u001b[1;33m,\u001b[0m \u001b[1;33m{\u001b[0m\u001b[1;34m'name'\u001b[0m \u001b[1;33m:\u001b[0m \u001b[0mstr\u001b[0m\u001b[1;33m,\u001b[0m \u001b[1;34m'number_of_accounts'\u001b[0m\u001b[1;33m:\u001b[0m \u001b[0mint\u001b[0m\u001b[1;33m}\u001b[0m\u001b[1;33m)\u001b[0m\u001b[1;33m\u001b[0m\u001b[1;33m\u001b[0m\u001b[0m\n\u001b[0m",
      "\u001b[1;32m<ipython-input-31-b23c280477b0>\u001b[0m in \u001b[0;36m__init__\u001b[1;34m(cls, name, bases, attr_dict)\u001b[0m\n\u001b[0;32m     18\u001b[0m         \u001b[1;32mfor\u001b[0m \u001b[0mkey\u001b[0m\u001b[1;33m,\u001b[0m \u001b[0mattr\u001b[0m \u001b[1;32min\u001b[0m \u001b[0mattr_dict\u001b[0m\u001b[1;33m.\u001b[0m\u001b[0mitems\u001b[0m\u001b[1;33m(\u001b[0m\u001b[1;33m)\u001b[0m\u001b[1;33m:\u001b[0m\u001b[1;33m\u001b[0m\u001b[1;33m\u001b[0m\u001b[0m\n\u001b[0;32m     19\u001b[0m             \u001b[0mtype_name\u001b[0m \u001b[1;33m=\u001b[0m \u001b[0mtype\u001b[0m\u001b[1;33m(\u001b[0m\u001b[0mattr\u001b[0m\u001b[1;33m)\u001b[0m\u001b[1;33m.\u001b[0m\u001b[0m__name__\u001b[0m\u001b[1;33m\u001b[0m\u001b[1;33m\u001b[0m\u001b[0m\n\u001b[1;32m---> 20\u001b[1;33m             \u001b[0mattr\u001b[0m\u001b[1;33m.\u001b[0m\u001b[0mstorage_name\u001b[0m \u001b[1;33m=\u001b[0m \u001b[1;34m'{}#{}.format(type_name, key)'\u001b[0m\u001b[1;33m\u001b[0m\u001b[1;33m\u001b[0m\u001b[0m\n\u001b[0m\u001b[0;32m     21\u001b[0m             \u001b[0mcls\u001b[0m\u001b[1;33m.\u001b[0m\u001b[0m_field_names\u001b[0m\u001b[1;33m.\u001b[0m\u001b[0mappend\u001b[0m\u001b[1;33m(\u001b[0m\u001b[0mkey\u001b[0m\u001b[1;33m)\u001b[0m\u001b[1;33m\u001b[0m\u001b[1;33m\u001b[0m\u001b[0m\n\u001b[0;32m     22\u001b[0m         \u001b[0mcls\u001b[0m\u001b[1;33m.\u001b[0m\u001b[0m__init__\u001b[0m \u001b[1;33m=\u001b[0m \u001b[0m__init__\u001b[0m\u001b[1;33m\u001b[0m\u001b[1;33m\u001b[0m\u001b[0m\n",
      "\u001b[1;31mTypeError\u001b[0m: can't set attributes of built-in/extension type 'str'"
     ]
    }
   ],
   "source": [
    "Accountant = Metaclass('Accountant', (object,), {'name' : str, 'number_of_accounts': int})"
   ]
  },
  {
   "cell_type": "code",
   "execution_count": 33,
   "id": "conventional-pollution",
   "metadata": {},
   "outputs": [],
   "source": [
    "class MyStr(str):\n",
    "    pass\n",
    "\n",
    "class MyInt(int):\n",
    "    pass"
   ]
  },
  {
   "cell_type": "code",
   "execution_count": 34,
   "id": "superb-experiment",
   "metadata": {},
   "outputs": [],
   "source": [
    "Accountant = Metaclass('Accountant', (object,), {'name' : MyStr, 'number_of_accounts': MyInt})"
   ]
  },
  {
   "cell_type": "code",
   "execution_count": 35,
   "id": "accomplished-familiar",
   "metadata": {},
   "outputs": [],
   "source": [
    "john = Accountant('John', 2)"
   ]
  },
  {
   "cell_type": "code",
   "execution_count": 36,
   "id": "democratic-gibraltar",
   "metadata": {},
   "outputs": [
    {
     "data": {
      "text/plain": [
       "'John'"
      ]
     },
     "execution_count": 36,
     "metadata": {},
     "output_type": "execute_result"
    }
   ],
   "source": [
    "john.name"
   ]
  },
  {
   "cell_type": "code",
   "execution_count": 37,
   "id": "continued-dating",
   "metadata": {},
   "outputs": [
    {
     "data": {
      "text/plain": [
       "2"
      ]
     },
     "execution_count": 37,
     "metadata": {},
     "output_type": "execute_result"
    }
   ],
   "source": [
    "john.number_of_accounts"
   ]
  },
  {
   "cell_type": "code",
   "execution_count": null,
   "id": "illegal-badge",
   "metadata": {},
   "outputs": [],
   "source": []
  }
 ],
 "metadata": {
  "kernelspec": {
   "display_name": "Python 3",
   "language": "python",
   "name": "python3"
  },
  "language_info": {
   "codemirror_mode": {
    "name": "ipython",
    "version": 3
   },
   "file_extension": ".py",
   "mimetype": "text/x-python",
   "name": "python",
   "nbconvert_exporter": "python",
   "pygments_lexer": "ipython3",
   "version": "3.9.1"
  }
 },
 "nbformat": 4,
 "nbformat_minor": 5
}
