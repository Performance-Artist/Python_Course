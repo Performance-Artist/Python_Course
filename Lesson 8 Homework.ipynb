{
 "cells": [
  {
   "cell_type": "code",
   "execution_count": 1,
   "id": "parental-helping",
   "metadata": {},
   "outputs": [],
   "source": [
    "# Lesson 8 Homework"
   ]
  },
  {
   "cell_type": "code",
   "execution_count": 3,
   "id": "incorporate-village",
   "metadata": {},
   "outputs": [
    {
     "name": "stdout",
     "output_type": "stream",
     "text": [
      "The number of letters: 947\n",
      "The number of digits: 7\n"
     ]
    }
   ],
   "source": [
    "# Ex.14 p.116 \n",
    "# Сount the number of letters and digits in this file\n",
    "file = open('text.txt', 'r', encoding = 'UTF-8')\n",
    "text = file.read()\n",
    "letters = 0\n",
    "digits = 0\n",
    "for i in range(len(text)):\n",
    "    if(text[i] >= 'a' and text[i] <= 'z' or text[i] >= 'A' and text[i] <= 'Z'): \n",
    "        letters += 1\n",
    "    elif(text[i] >= '0' and text[i] <= '9'):\n",
    "        digits += 1\n",
    "print(f\"The number of letters: {letters}\")\n",
    "print(f\"The number of digits: {digits}\")\n",
    "file.close()"
   ]
  },
  {
   "cell_type": "code",
   "execution_count": 5,
   "id": "southeast-physiology",
   "metadata": {
    "scrolled": false
   },
   "outputs": [
    {
     "name": "stdout",
     "output_type": "stream",
     "text": [
      "and business.\n"
     ]
    }
   ],
   "source": [
    "# Ex.15 p.116 \n",
    "# Print the shortest line in this file\n",
    "file = open('text.txt', 'r', encoding = 'UTF-8')\n",
    "text = file.readlines()\n",
    "def find_the_shortest_line(words_list):\n",
    "    min_word_len = len(words_list[0])\n",
    "    for i in range(len(words_list)):\n",
    "        if len(words_list[i]) < min_word_len:\n",
    "            min_word_len = len(words_list[i])\n",
    "    for i in range(len(words_list)):\n",
    "        if len(words_list[i]) == min_word_len:\n",
    "            print(words_list[i])\n",
    "            \n",
    "find_the_shortest_line(text)\n",
    "file.close()"
   ]
  },
  {
   "cell_type": "code",
   "execution_count": null,
   "id": "steady-theta",
   "metadata": {},
   "outputs": [],
   "source": []
  }
 ],
 "metadata": {
  "kernelspec": {
   "display_name": "Python 3",
   "language": "python",
   "name": "python3"
  },
  "language_info": {
   "codemirror_mode": {
    "name": "ipython",
    "version": 3
   },
   "file_extension": ".py",
   "mimetype": "text/x-python",
   "name": "python",
   "nbconvert_exporter": "python",
   "pygments_lexer": "ipython3",
   "version": "3.9.1"
  }
 },
 "nbformat": 4,
 "nbformat_minor": 5
}
