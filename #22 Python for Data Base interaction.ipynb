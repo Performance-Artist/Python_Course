{
 "cells": [
  {
   "cell_type": "code",
   "execution_count": 1,
   "metadata": {},
   "outputs": [],
   "source": [
    "# Python for Data Base interaction."
   ]
  },
  {
   "cell_type": "code",
   "execution_count": 2,
   "metadata": {},
   "outputs": [],
   "source": [
    "# Most of the time we can interpret programs as something that get the data from a data source\n",
    "# manipulate it gives it back into another source."
   ]
  },
  {
   "cell_type": "code",
   "execution_count": 3,
   "metadata": {},
   "outputs": [],
   "source": [
    "# Usually the data sources are streams of data like requests from external sources, user input/\n",
    "# output, files etc.\n",
    "# On special data source is a data base."
   ]
  },
  {
   "cell_type": "code",
   "execution_count": 4,
   "metadata": {},
   "outputs": [],
   "source": [
    "# A data Base is a group of tables, like excel ones, that have connection between them."
   ]
  },
  {
   "cell_type": "code",
   "execution_count": 5,
   "metadata": {},
   "outputs": [],
   "source": [
    "# Let's create a Data Base where we will store information about users of a system."
   ]
  },
  {
   "cell_type": "code",
   "execution_count": 6,
   "metadata": {},
   "outputs": [],
   "source": [
    "# We will have 2 tables with the next columns:\n",
    "# > user - id, name, surname, company, job_title\n",
    "# > company - id, name, type, reveniew, industry"
   ]
  },
  {
   "cell_type": "code",
   "execution_count": 7,
   "metadata": {},
   "outputs": [],
   "source": [
    "# Firstly we must create a data base file.\n",
    "# In all programming languages the default data base type is SQLite.\n",
    "# python has se library named - sqlite3 for interaction with databases."
   ]
  },
  {
   "cell_type": "code",
   "execution_count": 8,
   "metadata": {},
   "outputs": [],
   "source": [
    "# Also we will need a piece of software named DB Browser. We will use it to see what's in our \n",
    "# data base."
   ]
  },
  {
   "cell_type": "code",
   "execution_count": 9,
   "metadata": {},
   "outputs": [],
   "source": [
    "# So let's begin."
   ]
  },
  {
   "cell_type": "code",
   "execution_count": 1,
   "metadata": {},
   "outputs": [],
   "source": [
    "import sqlite3\n",
    "# We must give a name to our data base.\n",
    "DB_NAME = 'database.db'"
   ]
  },
  {
   "cell_type": "code",
   "execution_count": 2,
   "metadata": {},
   "outputs": [],
   "source": [
    "# Now we must create a connection.\n",
    "conn = sqlite3.connect(DB_NAME)"
   ]
  },
  {
   "cell_type": "code",
   "execution_count": 3,
   "metadata": {},
   "outputs": [],
   "source": [
    "# Also we can clos the connectiob with the data base.\n",
    "conn.close()"
   ]
  },
  {
   "cell_type": "code",
   "execution_count": 13,
   "metadata": {},
   "outputs": [],
   "source": [
    "# Now we must create a table."
   ]
  },
  {
   "cell_type": "code",
   "execution_count": 14,
   "metadata": {},
   "outputs": [],
   "source": [
    "# To create a table in sqlite3 we need to use the sintax of the SQLite."
   ]
  },
  {
   "cell_type": "code",
   "execution_count": 4,
   "metadata": {},
   "outputs": [],
   "source": [
    "# Let's create the user table.\n",
    "user_table_creation_query = '''CREATE TABLE IF NOT EXISTS user (\n",
    "                                id integer PRIMARY KEY,\n",
    "                                name text NOT NULL,\n",
    "                                surname text NOT NULL,\n",
    "                                job_title text NOT NULL,\n",
    "                                company_id integer NOT NULL,\n",
    "                                FOREIGN KEY (company_id) REFERENCES company (id)\n",
    "                                );'''"
   ]
  },
  {
   "cell_type": "code",
   "execution_count": 5,
   "metadata": {},
   "outputs": [
    {
     "data": {
      "text/plain": [
       "<sqlite3.Cursor at 0x254afa33b20>"
      ]
     },
     "execution_count": 5,
     "metadata": {},
     "output_type": "execute_result"
    }
   ],
   "source": [
    "# Now we must send this query to the data bases. For this will use the data base cursor\n",
    "conn = sqlite3.connect(DB_NAME)\n",
    "c = conn.cursor()\n",
    "c.execute(user_table_creation_query)"
   ]
  },
  {
   "cell_type": "code",
   "execution_count": 6,
   "metadata": {},
   "outputs": [],
   "source": [
    "# Now we can close the cursor and the connetion\n",
    "c.close()\n",
    "conn.close()"
   ]
  },
  {
   "cell_type": "code",
   "execution_count": 22,
   "metadata": {},
   "outputs": [],
   "source": [
    "# Let's take a look  into our data base."
   ]
  },
  {
   "cell_type": "code",
   "execution_count": 23,
   "metadata": {},
   "outputs": [],
   "source": [
    "# As we see we created a table. Good."
   ]
  },
  {
   "cell_type": "code",
   "execution_count": 7,
   "metadata": {},
   "outputs": [],
   "source": [
    "# Now we must create the second table. Let's dafine it's creation query.\n",
    "company_table_creation_query = '''CREATE TABLE IF NOT EXISTS company (\n",
    "                                id integer PRIMARY KEY,\n",
    "                                name text NOT NULL,\n",
    "                                type text NOT NULL,\n",
    "                                revenue real NOT NULL,\n",
    "                                industry text NOT NULL\n",
    "                                );'''"
   ]
  },
  {
   "cell_type": "code",
   "execution_count": 8,
   "metadata": {},
   "outputs": [
    {
     "data": {
      "text/plain": [
       "<sqlite3.Cursor at 0x254afb2c5e0>"
      ]
     },
     "execution_count": 8,
     "metadata": {},
     "output_type": "execute_result"
    }
   ],
   "source": [
    "# Now let's apply this query on our data base.\n",
    "conn = sqlite3.connect(DB_NAME)\n",
    "c = conn.cursor()\n",
    "c.execute(company_table_creation_query)"
   ]
  },
  {
   "cell_type": "code",
   "execution_count": 9,
   "metadata": {},
   "outputs": [],
   "source": [
    "# Now we can close the cursor and the connetion\n",
    "c.close()\n",
    "conn.close()"
   ]
  },
  {
   "cell_type": "code",
   "execution_count": 33,
   "metadata": {},
   "outputs": [],
   "source": [
    "# Good now let's create some samples in our data base."
   ]
  },
  {
   "cell_type": "code",
   "execution_count": 34,
   "metadata": {},
   "outputs": [],
   "source": [
    "# Firstly let's create some samples in the company."
   ]
  },
  {
   "cell_type": "code",
   "execution_count": 10,
   "metadata": {},
   "outputs": [],
   "source": [
    "# Let's create the quesry.\n",
    "company_insert_query = ''' INSERT INTO company (name, type, revenue, industry)\n",
    "                            VALUES(?,?,?,?)'''"
   ]
  },
  {
   "cell_type": "code",
   "execution_count": 36,
   "metadata": {},
   "outputs": [],
   "source": [
    "# Now let's execute the query."
   ]
  },
  {
   "cell_type": "code",
   "execution_count": 11,
   "metadata": {},
   "outputs": [
    {
     "data": {
      "text/plain": [
       "<sqlite3.Cursor at 0x254afb2cb20>"
      ]
     },
     "execution_count": 11,
     "metadata": {},
     "output_type": "execute_result"
    }
   ],
   "source": [
    "conn = sqlite3.connect(DB_NAME)\n",
    "c = conn.cursor()\n",
    "c.execute(company_insert_query, ('Google', 'SA', '10000000', 'IT'))"
   ]
  },
  {
   "cell_type": "code",
   "execution_count": 12,
   "metadata": {},
   "outputs": [],
   "source": [
    "# Now we must commit all changes.\n",
    "conn.commit()"
   ]
  },
  {
   "cell_type": "code",
   "execution_count": 41,
   "metadata": {},
   "outputs": [],
   "source": [
    "# Now we can close the data base and the cursor, and see the changes"
   ]
  },
  {
   "cell_type": "code",
   "execution_count": 13,
   "metadata": {},
   "outputs": [],
   "source": [
    "c.close()\n",
    "conn.close()"
   ]
  },
  {
   "cell_type": "code",
   "execution_count": 43,
   "metadata": {},
   "outputs": [],
   "source": [
    "# Good we saved all the changes."
   ]
  },
  {
   "cell_type": "code",
   "execution_count": 14,
   "metadata": {},
   "outputs": [
    {
     "data": {
      "text/plain": [
       "<sqlite3.Cursor at 0x254afb3a030>"
      ]
     },
     "execution_count": 14,
     "metadata": {},
     "output_type": "execute_result"
    }
   ],
   "source": [
    "# Let's create some more companies.\n",
    "conn = sqlite3.connect(DB_NAME)\n",
    "c = conn.cursor()\n",
    "c.execute(company_insert_query, ('Facebook', 'SA', '100000', 'Social Media'))\n",
    "c.execute(company_insert_query, ('Microsoft', 'SA', '10000000', 'Operation Systems'))\n",
    "c.execute(company_insert_query, ('IBM', 'SA', '100000', 'IT'))"
   ]
  },
  {
   "cell_type": "code",
   "execution_count": 15,
   "metadata": {},
   "outputs": [],
   "source": [
    "conn.commit()\n",
    "c.close()\n",
    "conn.close()"
   ]
  },
  {
   "cell_type": "code",
   "execution_count": 46,
   "metadata": {},
   "outputs": [],
   "source": [
    "# Good, Now let's create some users."
   ]
  },
  {
   "cell_type": "code",
   "execution_count": 16,
   "metadata": {},
   "outputs": [],
   "source": [
    "user_insert_query = ''' INSERT INTO user (name, surname, job_title, company_id)\n",
    "                            VALUES(?,?,?,?)'''"
   ]
  },
  {
   "cell_type": "code",
   "execution_count": 17,
   "metadata": {},
   "outputs": [],
   "source": [
    "# opening the data base and the cursor\n",
    "conn = sqlite3.connect(DB_NAME)\n",
    "c = conn.cursor()"
   ]
  },
  {
   "cell_type": "code",
   "execution_count": 18,
   "metadata": {},
   "outputs": [
    {
     "data": {
      "text/plain": [
       "<sqlite3.Cursor at 0x254afb3a340>"
      ]
     },
     "execution_count": 18,
     "metadata": {},
     "output_type": "execute_result"
    }
   ],
   "source": [
    "# Adding the users\n",
    "c.execute(user_insert_query, ('John', 'Hopkins', 'Programmer', 0))\n",
    "c.execute(user_insert_query, ('Alice', 'Stevens', 'Programmer', 0))\n",
    "c.execute(user_insert_query, ('Peter', 'Hopes', 'IT-Support', 1))\n",
    "c.execute(user_insert_query, ('Susan', 'Hopes', 'Front-End Developer', 1))\n",
    "c.execute(user_insert_query, ('Alex', 'Brocks', 'Programmer', 2))\n",
    "c.execute(user_insert_query, ('Joe', 'Wildwood', 'Programmer', 3))"
   ]
  },
  {
   "cell_type": "code",
   "execution_count": 19,
   "metadata": {},
   "outputs": [],
   "source": [
    "conn.commit()\n",
    "c.close()\n",
    "conn.close()"
   ]
  },
  {
   "cell_type": "code",
   "execution_count": 51,
   "metadata": {},
   "outputs": [],
   "source": [
    "# Cool now we have all tha data stored. Now let's see how to extract it."
   ]
  },
  {
   "cell_type": "code",
   "execution_count": 52,
   "metadata": {},
   "outputs": [],
   "source": [
    "# Let's firstly extract all the users from the data base."
   ]
  },
  {
   "cell_type": "code",
   "execution_count": 20,
   "metadata": {},
   "outputs": [],
   "source": [
    "conn = sqlite3.connect(DB_NAME)\n",
    "c = conn.cursor()"
   ]
  },
  {
   "cell_type": "code",
   "execution_count": 23,
   "metadata": {},
   "outputs": [],
   "source": [
    "data = c.execute(\"SELECT * FROM user\").fetchall()"
   ]
  },
  {
   "cell_type": "code",
   "execution_count": 24,
   "metadata": {},
   "outputs": [
    {
     "data": {
      "text/plain": [
       "[(1, 'John', 'Hopkins', 'Programmer', 0),\n",
       " (2, 'Alice', 'Stevens', 'Programmer', 0),\n",
       " (3, 'Peter', 'Hopes', 'IT-Support', 1),\n",
       " (4, 'Susan', 'Hopes', 'Front-End Developer', 1),\n",
       " (5, 'Alex', 'Brocks', 'Programmer', 2),\n",
       " (6, 'Joe', 'Wildwood', 'Programmer', 3)]"
      ]
     },
     "execution_count": 24,
     "metadata": {},
     "output_type": "execute_result"
    }
   ],
   "source": [
    "data"
   ]
  },
  {
   "cell_type": "code",
   "execution_count": 25,
   "metadata": {},
   "outputs": [],
   "source": [
    "# As you see we extrscted all the rows and column from the user table.\n",
    "# The same we can do with the company table."
   ]
  },
  {
   "cell_type": "code",
   "execution_count": 27,
   "metadata": {},
   "outputs": [
    {
     "data": {
      "text/plain": [
       "[(1, 'Google', 'SA', 10000000.0, 'IT'),\n",
       " (2, 'Facebook', 'SA', 100000.0, 'Social Media'),\n",
       " (3, 'Microsoft', 'SA', 10000000.0, 'Operation Systems'),\n",
       " (4, 'IBM', 'SA', 100000.0, 'IT')]"
      ]
     },
     "execution_count": 27,
     "metadata": {},
     "output_type": "execute_result"
    }
   ],
   "source": [
    "data = c.execute(\"SELECT * FROM company\").fetchall()\n",
    "data"
   ]
  },
  {
   "cell_type": "code",
   "execution_count": 61,
   "metadata": {},
   "outputs": [],
   "source": [
    "# Cool.\n",
    "# Suppos we need al the users that work ad Google."
   ]
  },
  {
   "cell_type": "code",
   "execution_count": 29,
   "metadata": {},
   "outputs": [],
   "source": [
    "data = c.execute('''SELECT user.name, user.surname, user.job_title FROM user, company\n",
    "                 WHERE user.company_id = company.id AND company.name = \"Google\"''').fetchall()"
   ]
  },
  {
   "cell_type": "code",
   "execution_count": 30,
   "metadata": {},
   "outputs": [
    {
     "data": {
      "text/plain": [
       "[('Peter', 'Hopes', 'IT-Support'), ('Susan', 'Hopes', 'Front-End Developer')]"
      ]
     },
     "execution_count": 30,
     "metadata": {},
     "output_type": "execute_result"
    }
   ],
   "source": [
    "data"
   ]
  },
  {
   "cell_type": "code",
   "execution_count": 67,
   "metadata": {},
   "outputs": [],
   "source": [
    "# And we are done.\n",
    "# WHERE KEY-WORD allows as to filter out the rows that we need. "
   ]
  },
  {
   "cell_type": "code",
   "execution_count": 68,
   "metadata": {},
   "outputs": [],
   "source": [
    "# Also as you have been seen from the previous example we can select from multiple tables."
   ]
  },
  {
   "cell_type": "code",
   "execution_count": 69,
   "metadata": {},
   "outputs": [],
   "source": [
    "# However some times we need to extract data from multiple tables in on new table."
   ]
  },
  {
   "cell_type": "code",
   "execution_count": 70,
   "metadata": {},
   "outputs": [],
   "source": [
    "# For this we will need the JOINs.\n",
    "# There are a many types of joins. However we will use only the IMNER one."
   ]
  },
  {
   "cell_type": "code",
   "execution_count": 31,
   "metadata": {},
   "outputs": [],
   "source": [
    "# Create the INNER JOIN query.\n",
    "inner_join_query = '''SELECT user.name AS username, \n",
    "                            user.surname AS surname, \n",
    "                            user.job_title AS job_title,\n",
    "                            company.name AS company, \n",
    "                            company.industry AS industry\n",
    "                        FROM user INNER JOIN company ON company.id = user.company_id'''"
   ]
  },
  {
   "cell_type": "code",
   "execution_count": 32,
   "metadata": {},
   "outputs": [],
   "source": [
    "data = c.execute(inner_join_query).fetchall()"
   ]
  },
  {
   "cell_type": "code",
   "execution_count": 33,
   "metadata": {},
   "outputs": [
    {
     "data": {
      "text/plain": [
       "[('Peter', 'Hopes', 'IT-Support', 'Google', 'IT'),\n",
       " ('Susan', 'Hopes', 'Front-End Developer', 'Google', 'IT'),\n",
       " ('Alex', 'Brocks', 'Programmer', 'Facebook', 'Social Media'),\n",
       " ('Joe', 'Wildwood', 'Programmer', 'Microsoft', 'Operation Systems')]"
      ]
     },
     "execution_count": 33,
     "metadata": {},
     "output_type": "execute_result"
    }
   ],
   "source": [
    "data"
   ]
  },
  {
   "cell_type": "code",
   "execution_count": 34,
   "metadata": {},
   "outputs": [],
   "source": [
    "# And we are done. :)"
   ]
  },
  {
   "cell_type": "code",
   "execution_count": 35,
   "metadata": {},
   "outputs": [],
   "source": [
    "c.close()\n",
    "conn.close()"
   ]
  },
  {
   "cell_type": "code",
   "execution_count": null,
   "metadata": {},
   "outputs": [],
   "source": []
  }
 ],
 "metadata": {
  "kernelspec": {
   "display_name": "Python 3",
   "language": "python",
   "name": "python3"
  },
  "language_info": {
   "codemirror_mode": {
    "name": "ipython",
    "version": 3
   },
   "file_extension": ".py",
   "mimetype": "text/x-python",
   "name": "python",
   "nbconvert_exporter": "python",
   "pygments_lexer": "ipython3",
   "version": "3.9.1"
  }
 },
 "nbformat": 4,
 "nbformat_minor": 4
}
