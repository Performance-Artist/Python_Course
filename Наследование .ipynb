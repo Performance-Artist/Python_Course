{
 "cells": [
  {
   "cell_type": "code",
   "execution_count": null,
   "id": "attached-grade",
   "metadata": {},
   "outputs": [],
   "source": [
    "class Animal :  \n",
    " \n",
    "    # Constructor\n",
    "    def __init__(self, name):\n",
    "         \n",
    "        # Класс Animal имеет 1 атрибут (attribute): 'name'.\n",
    "        self.name= name \n",
    "     \n",
    "    # Метод (method):\n",
    "    def showInfo(self):\n",
    "        print (\"I'm \" + self.name)\n",
    "         \n",
    "    # Метод (method):\n",
    "    def move(self):\n",
    "        print (\"moving ...\")\n",
    "        \n",
    "class Cat (Animal): \n",
    "     \n",
    "    def __init__(self, name, age, height):\n",
    "        # Вызывается constructor родительского класса (Animal)\n",
    "        # чтобы прикрепить значение к атрибуту 'name' родительского класса.\n",
    "        super().__init__(name)\n",
    "         \n",
    "        self.age = age \n",
    "        self.height = height\n",
    "     \n",
    "    # Переопределить (override) метод с одинаковым названием родительского класса.\n",
    "    def showInfo(self):\n",
    "         \n",
    "        print (\"I'm \" + self.name)\n",
    "        print (\" age \" + str(self.age))\n",
    "        print (\" height \" + str(self.height))\n",
    "        \n",
    "# Класс Mouse расширен (extends) из класса Animal.\n",
    "class Mouse (Animal): \n",
    "     \n",
    "    def __init__(self, name, age, height):\n",
    "        # Вызывается Constructor родительского класса (Animal)\n",
    "        # чтобы прикрепить значение к атрибуту 'name' родительского класса.\n",
    "        super().__init__(name)\n",
    "         \n",
    "        self.age = age \n",
    "        self.height = height\n",
    "     \n",
    "    # Переопределить (override) метод с одинаковым названием родительского класса.\n",
    "    def showInfo(self):\n",
    "        # Вызвать метод родительского класса.\n",
    "        super().showInfo()\n",
    "        print (\" age \" + str(self.age))\n",
    "        print (\" height \" + str(self.height))\n",
    "     \n",
    "    # Переопределить (override) метод с одинаковым названием родительского класса.\n",
    "    def move(self):\n",
    "        print (\"Mouse moving ...\")"
   ]
  }
 ],
 "metadata": {
  "kernelspec": {
   "display_name": "Python 3",
   "language": "python",
   "name": "python3"
  },
  "language_info": {
   "codemirror_mode": {
    "name": "ipython",
    "version": 3
   },
   "file_extension": ".py",
   "mimetype": "text/x-python",
   "name": "python",
   "nbconvert_exporter": "python",
   "pygments_lexer": "ipython3",
   "version": "3.9.1"
  }
 },
 "nbformat": 4,
 "nbformat_minor": 5
}
