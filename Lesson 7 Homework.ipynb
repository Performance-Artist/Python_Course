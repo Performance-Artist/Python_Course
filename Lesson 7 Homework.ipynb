{
 "cells": [
  {
   "cell_type": "code",
   "execution_count": 1,
   "id": "cubic-volleyball",
   "metadata": {},
   "outputs": [],
   "source": [
    "# Lesson 7 Homework"
   ]
  },
  {
   "cell_type": "code",
   "execution_count": 28,
   "id": "dated-caribbean",
   "metadata": {},
   "outputs": [
    {
     "name": "stdout",
     "output_type": "stream",
     "text": [
      "Enter the side a: 10\n",
      "Enter the side b: -1\n",
      "Enter the side c: 12\n",
      "This triangle is invalid\n"
     ]
    }
   ],
   "source": [
    "# Ex.8 p.127\n",
    "\n",
    "import math\n",
    "\n",
    "a = float(input(\"Enter the side a: \"))\n",
    "b = float(input(\"Enter the side b: \"))\n",
    "c = float(input(\"Enter the side c: \"))\n",
    "\n",
    "if (a + b > c) and (a + c > b) and (b + c > a): \n",
    "    median_a = 0.5*math.sqrt(2*(b**2) + 2*(c**2) - a**2)\n",
    "    median_b = 0.5*math.sqrt(2*(a**2) + 2*(c**2) - b**2)\n",
    "    median_c = 0.5*math.sqrt(2*(a**2) + 2*(b**2) - c**2)\n",
    "    print(\"Median a = \", round(median_a, 3))\n",
    "    print(\"Median b = \", round(median_b, 3))\n",
    "    print(\"Median c = \", round(median_c, 3))\n",
    "else:\n",
    "    print(\"This triangle is invalid\")"
   ]
  },
  {
   "cell_type": "code",
   "execution_count": 26,
   "id": "higher-factor",
   "metadata": {},
   "outputs": [
    {
     "name": "stdout",
     "output_type": "stream",
     "text": [
      "Enter the side a: 8\n",
      "Enter the side b: 6\n",
      "Enter the side c: 4\n",
      "Height a =  2.905\n",
      "Height b =  3.873\n",
      "Height c =  5.809\n"
     ]
    }
   ],
   "source": [
    "# Ex.9 p.127\n",
    "import math\n",
    " \n",
    "a = float(input(\"Enter the side a: \"))\n",
    "b = float(input(\"Enter the side b: \"))\n",
    "c = float(input(\"Enter the side c: \"))\n",
    "\n",
    "if (a + b > c) and (a + c > b) and (b + c > a): \n",
    "    p = (a + b + c) / 2\n",
    "    hA = (2 * math.sqrt(p * (p - a) * (p - b) * (p - c))) / a\n",
    "    hB = (2 * math.sqrt(p * (p - a) * (p - b) * (p - c))) / b\n",
    "    hC = (2 * math.sqrt(p * (p - a) * (p - b) * (p - c))) / c\n",
    "    print(\"Height a = \", round(hA, 3))\n",
    "    print(\"Height b = \", round(hB, 3))\n",
    "    print(\"Height c = \", round(hC, 3))\n",
    "else:\n",
    "    print('This triangle is invalid')"
   ]
  },
  {
   "cell_type": "code",
   "execution_count": 9,
   "id": "static-stereo",
   "metadata": {},
   "outputs": [
    {
     "data": {
      "text/plain": [
       "1.0"
      ]
     },
     "execution_count": 9,
     "metadata": {},
     "output_type": "execute_result"
    }
   ],
   "source": [
    "# Calculator\n",
    "import math\n",
    "add = lambda num1, num2 : num1 + num2\n",
    "substract = lambda num1, num2 : num1 - num2\n",
    "multiply = lambda num1, num2 : num1 * num2\n",
    "div = lambda num1, num2 : num1 / num2\n",
    "mod = lambda num1, num2 : num1 % num2\n",
    "power = lambda num1, num2 : math.pow(num1, num2)\n",
    "\n",
    "def applyer(sign, expression, fun):\n",
    "    values = [float(val) for val in expression.split(sign)]\n",
    "    return fun(values[0], values[1])\n",
    "\n",
    "def checker(expression):\n",
    "    if '+' in expression:\n",
    "        return applyer('+', expression, add)\n",
    "    elif '-' in expression:\n",
    "        return applyer('-', expression, substract)\n",
    "    elif '*' in expression:\n",
    "        return applyer('*', expression, multiply)\n",
    "    elif '/' in expression:\n",
    "        return applyer('/', expression, div)\n",
    "    elif '%' in expression:\n",
    "        return applyer('%', expression, mod)\n",
    "    elif '**' in expression:\n",
    "        return applyer(\"**\", expression, power)\n",
    "    else:\n",
    "        print(\"This expression cannot be interpeted\")\n",
    "        return None\n",
    "\n",
    "checker('4 % 3')\n"
   ]
  },
  {
   "cell_type": "code",
   "execution_count": null,
   "id": "southeast-filename",
   "metadata": {},
   "outputs": [],
   "source": []
  }
 ],
 "metadata": {
  "kernelspec": {
   "display_name": "Python 3",
   "language": "python",
   "name": "python3"
  },
  "language_info": {
   "codemirror_mode": {
    "name": "ipython",
    "version": 3
   },
   "file_extension": ".py",
   "mimetype": "text/x-python",
   "name": "python",
   "nbconvert_exporter": "python",
   "pygments_lexer": "ipython3",
   "version": "3.9.1"
  }
 },
 "nbformat": 4,
 "nbformat_minor": 5
}
