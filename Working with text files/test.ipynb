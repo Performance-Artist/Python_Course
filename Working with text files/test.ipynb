{
 "cells": [
  {
   "cell_type": "code",
   "execution_count": 7,
   "id": "experimental-blackberry",
   "metadata": {},
   "outputs": [],
   "source": [
    "def check(file):\n",
    "    file = open(file, 'r')\n",
    "    \n",
    "    for line in file:\n",
    "        line = line.split(' ')\n",
    "        \n",
    "        for word in line:\n",
    "            if 'e' in word:\n",
    "                print(word)\n",
    "    file.close()"
   ]
  },
  {
   "cell_type": "code",
   "execution_count": 8,
   "id": "cooked-glory",
   "metadata": {},
   "outputs": [
    {
     "name": "stdout",
     "output_type": "stream",
     "text": [
      "charlie\n",
      "delta\n",
      "\n"
     ]
    }
   ],
   "source": [
    "check(\"text1.txt\")"
   ]
  },
  {
   "cell_type": "code",
   "execution_count": 9,
   "id": "awful-czech",
   "metadata": {},
   "outputs": [
    {
     "name": "stdout",
     "output_type": "stream",
     "text": [
      "charlie\n",
      "delta\n",
      "\n",
      "echo\n",
      "hotel\n",
      "\n",
      "juliet\n",
      "mike\n",
      "november\n"
     ]
    }
   ],
   "source": [
    "check(\"text5.txt\")"
   ]
  },
  {
   "cell_type": "code",
   "execution_count": 3,
   "id": "preliminary-insert",
   "metadata": {},
   "outputs": [],
   "source": [
    "outfile = open('friends.txt', 'w')\n",
    "\n",
    "outfile.write('Billy Herrington\\n')\n",
    "outfile.write('Van Darkholme\\n')\n",
    "outfile.write('Steve Rambo\\n')\n",
    "\n",
    "outfile.close()"
   ]
  },
  {
   "cell_type": "code",
   "execution_count": 2,
   "id": "distributed-aurora",
   "metadata": {},
   "outputs": [
    {
     "name": "stdout",
     "output_type": "stream",
     "text": [
      "Billy Herrington\n",
      "Van Darkholme\n",
      "Steve Rambo\n",
      "\n"
     ]
    }
   ],
   "source": [
    "infile = open('friends.txt', 'r')\n",
    "\n",
    "file_content = infile.read()\n",
    "\n",
    "infile.close\n",
    "\n",
    "print(file_content)"
   ]
  },
  {
   "cell_type": "code",
   "execution_count": 3,
   "id": "angry-humanitarian",
   "metadata": {},
   "outputs": [
    {
     "name": "stdout",
     "output_type": "stream",
     "text": [
      "Billy Herrington\n",
      "\n",
      "Van Darkholme\n",
      "\n",
      "Steve Rambo\n",
      "\n"
     ]
    }
   ],
   "source": [
    "infile = open('friends.txt', 'r')\n",
    "\n",
    "line1 = infile.readline()\n",
    "line2 = infile.readline()\n",
    "line3 = infile.readline()\n",
    "\n",
    "infile.close\n",
    "\n",
    "print(line1)\n",
    "print(line2)\n",
    "print(line3)"
   ]
  },
  {
   "cell_type": "code",
   "execution_count": 5,
   "id": "configured-morgan",
   "metadata": {},
   "outputs": [
    {
     "name": "stdout",
     "output_type": "stream",
     "text": [
      "Billy Herrington\n",
      "Van Darkholme\n",
      "Steve Rambo\n"
     ]
    }
   ],
   "source": [
    "infile = open('friends.txt', 'r')\n",
    "\n",
    "line1 = infile.readline()\n",
    "line2 = infile.readline()\n",
    "line3 = infile.readline()\n",
    "\n",
    "line1 = line1.rstrip('\\n')\n",
    "line2 = line2.rstrip('\\n')\n",
    "line3 = line3.rstrip('\\n')\n",
    "\n",
    "infile.close\n",
    "\n",
    "print(line1)\n",
    "print(line2)\n",
    "print(line3)"
   ]
  },
  {
   "cell_type": "code",
   "execution_count": 2,
   "id": "dietary-visitor",
   "metadata": {},
   "outputs": [
    {
     "name": "stdout",
     "output_type": "stream",
     "text": [
      "Note: you may need to restart the kernel to use updated packages.\n"
     ]
    },
    {
     "name": "stderr",
     "output_type": "stream",
     "text": [
      "ERROR: Could not find a version that satisfies the requirement BeautifulSoap (from versions: none)\n",
      "ERROR: No matching distribution found for BeautifulSoap\n",
      "WARNING: You are using pip version 21.3; however, version 23.2 is available.\n",
      "You should consider upgrading via the 'c:\\users\\simple\\appdata\\local\\programs\\python\\python39\\python.exe -m pip install --upgrade pip' command.\n"
     ]
    }
   ],
   "source": [
    "pip install BeautifulSoap"
   ]
  },
  {
   "cell_type": "code",
   "execution_count": 3,
   "id": "blessed-northwest",
   "metadata": {},
   "outputs": [],
   "source": [
    "from bs4 import BeautifulSoup\n",
    "import requests"
   ]
  },
  {
   "cell_type": "code",
   "execution_count": 4,
   "id": "scheduled-wisdom",
   "metadata": {},
   "outputs": [],
   "source": [
    "headers = {'User-Agent': 'Mozilla/5.0 (Windows NT 10.0; Win64; x64) AppleWebKit/537.36 (KHTML, like Gecko) Chrome/58.0.3029.110 Safari/537.3'}"
   ]
  },
  {
   "cell_type": "code",
   "execution_count": 5,
   "id": "missing-fields",
   "metadata": {},
   "outputs": [],
   "source": [
    "def weather(city):\n",
    "    city = city.replace(\" \", \"+\")\n",
    "    res = requests.get(\n",
    "        f'https://www.google.com/search?q={city}&oq={city}&aqs=chrome.0.35i39l2j0l4j46j69i60.6128j1j7&sourceid=chrome&ie=UTF-8', headers=headers)\n",
    "    print(\"Searching...\\n\")\n",
    "    soup = BeautifulSoup(res.text, 'html.parser')\n",
    "    location = soup.select('#wob_loc')[0].getText().strip()\n",
    "    time = soup.select('#wob_dts')[0].getText().strip()\n",
    "    info = soup.select('#wob_dc')[0].getText().strip()\n",
    "    weather = soup.select('#wob_tm')[0].getText().strip()\n",
    "    print(location)\n",
    "    print(time)\n",
    "    print(info)\n",
    "    print(weather+\"°C\")"
   ]
  },
  {
   "cell_type": "code",
   "execution_count": 6,
   "id": "palestinian-notification",
   "metadata": {},
   "outputs": [
    {
     "name": "stdout",
     "output_type": "stream",
     "text": [
      "Enter the Name of City ->  Chisinau\n",
      "Searching...\n",
      "\n"
     ]
    },
    {
     "ename": "IndexError",
     "evalue": "list index out of range",
     "output_type": "error",
     "traceback": [
      "\u001b[1;31m---------------------------------------------------------------------------\u001b[0m",
      "\u001b[1;31mIndexError\u001b[0m                                Traceback (most recent call last)",
      "\u001b[1;32m<ipython-input-6-05aa0bcbe846>\u001b[0m in \u001b[0;36m<module>\u001b[1;34m\u001b[0m\n\u001b[0;32m      1\u001b[0m \u001b[0mcity\u001b[0m \u001b[1;33m=\u001b[0m \u001b[0minput\u001b[0m\u001b[1;33m(\u001b[0m\u001b[1;34m\"Enter the Name of City ->  \"\u001b[0m\u001b[1;33m)\u001b[0m\u001b[1;33m\u001b[0m\u001b[1;33m\u001b[0m\u001b[0m\n\u001b[0;32m      2\u001b[0m \u001b[0mcity\u001b[0m \u001b[1;33m=\u001b[0m \u001b[0mcity\u001b[0m\u001b[1;33m+\u001b[0m\u001b[1;34m\" weather\"\u001b[0m\u001b[1;33m\u001b[0m\u001b[1;33m\u001b[0m\u001b[0m\n\u001b[1;32m----> 3\u001b[1;33m \u001b[0mweather\u001b[0m\u001b[1;33m(\u001b[0m\u001b[0mcity\u001b[0m\u001b[1;33m)\u001b[0m\u001b[1;33m\u001b[0m\u001b[1;33m\u001b[0m\u001b[0m\n\u001b[0m\u001b[0;32m      4\u001b[0m \u001b[0mprint\u001b[0m\u001b[1;33m(\u001b[0m\u001b[1;34m\"Have a Nice Day:)\"\u001b[0m\u001b[1;33m)\u001b[0m\u001b[1;33m\u001b[0m\u001b[1;33m\u001b[0m\u001b[0m\n",
      "\u001b[1;32m<ipython-input-5-636f51567f14>\u001b[0m in \u001b[0;36mweather\u001b[1;34m(city)\u001b[0m\n\u001b[0;32m      5\u001b[0m     \u001b[0mprint\u001b[0m\u001b[1;33m(\u001b[0m\u001b[1;34m\"Searching...\\n\"\u001b[0m\u001b[1;33m)\u001b[0m\u001b[1;33m\u001b[0m\u001b[1;33m\u001b[0m\u001b[0m\n\u001b[0;32m      6\u001b[0m     \u001b[0msoup\u001b[0m \u001b[1;33m=\u001b[0m \u001b[0mBeautifulSoup\u001b[0m\u001b[1;33m(\u001b[0m\u001b[0mres\u001b[0m\u001b[1;33m.\u001b[0m\u001b[0mtext\u001b[0m\u001b[1;33m,\u001b[0m \u001b[1;34m'html.parser'\u001b[0m\u001b[1;33m)\u001b[0m\u001b[1;33m\u001b[0m\u001b[1;33m\u001b[0m\u001b[0m\n\u001b[1;32m----> 7\u001b[1;33m     \u001b[0mlocation\u001b[0m \u001b[1;33m=\u001b[0m \u001b[0msoup\u001b[0m\u001b[1;33m.\u001b[0m\u001b[0mselect\u001b[0m\u001b[1;33m(\u001b[0m\u001b[1;34m'#wob_loc'\u001b[0m\u001b[1;33m)\u001b[0m\u001b[1;33m[\u001b[0m\u001b[1;36m0\u001b[0m\u001b[1;33m]\u001b[0m\u001b[1;33m.\u001b[0m\u001b[0mgetText\u001b[0m\u001b[1;33m(\u001b[0m\u001b[1;33m)\u001b[0m\u001b[1;33m.\u001b[0m\u001b[0mstrip\u001b[0m\u001b[1;33m(\u001b[0m\u001b[1;33m)\u001b[0m\u001b[1;33m\u001b[0m\u001b[1;33m\u001b[0m\u001b[0m\n\u001b[0m\u001b[0;32m      8\u001b[0m     \u001b[0mtime\u001b[0m \u001b[1;33m=\u001b[0m \u001b[0msoup\u001b[0m\u001b[1;33m.\u001b[0m\u001b[0mselect\u001b[0m\u001b[1;33m(\u001b[0m\u001b[1;34m'#wob_dts'\u001b[0m\u001b[1;33m)\u001b[0m\u001b[1;33m[\u001b[0m\u001b[1;36m0\u001b[0m\u001b[1;33m]\u001b[0m\u001b[1;33m.\u001b[0m\u001b[0mgetText\u001b[0m\u001b[1;33m(\u001b[0m\u001b[1;33m)\u001b[0m\u001b[1;33m.\u001b[0m\u001b[0mstrip\u001b[0m\u001b[1;33m(\u001b[0m\u001b[1;33m)\u001b[0m\u001b[1;33m\u001b[0m\u001b[1;33m\u001b[0m\u001b[0m\n\u001b[0;32m      9\u001b[0m     \u001b[0minfo\u001b[0m \u001b[1;33m=\u001b[0m \u001b[0msoup\u001b[0m\u001b[1;33m.\u001b[0m\u001b[0mselect\u001b[0m\u001b[1;33m(\u001b[0m\u001b[1;34m'#wob_dc'\u001b[0m\u001b[1;33m)\u001b[0m\u001b[1;33m[\u001b[0m\u001b[1;36m0\u001b[0m\u001b[1;33m]\u001b[0m\u001b[1;33m.\u001b[0m\u001b[0mgetText\u001b[0m\u001b[1;33m(\u001b[0m\u001b[1;33m)\u001b[0m\u001b[1;33m.\u001b[0m\u001b[0mstrip\u001b[0m\u001b[1;33m(\u001b[0m\u001b[1;33m)\u001b[0m\u001b[1;33m\u001b[0m\u001b[1;33m\u001b[0m\u001b[0m\n",
      "\u001b[1;31mIndexError\u001b[0m: list index out of range"
     ]
    }
   ],
   "source": [
    "city = input(\"Enter the Name of City ->  \")\n",
    "city = city+\" weather\"\n",
    "weather(city)\n",
    "print(\"Have a Nice Day:)\")"
   ]
  },
  {
   "cell_type": "code",
   "execution_count": null,
   "id": "chronic-medline",
   "metadata": {},
   "outputs": [],
   "source": []
  }
 ],
 "metadata": {
  "kernelspec": {
   "display_name": "Python 3",
   "language": "python",
   "name": "python3"
  },
  "language_info": {
   "codemirror_mode": {
    "name": "ipython",
    "version": 3
   },
   "file_extension": ".py",
   "mimetype": "text/x-python",
   "name": "python",
   "nbconvert_exporter": "python",
   "pygments_lexer": "ipython3",
   "version": "3.9.2"
  }
 },
 "nbformat": 4,
 "nbformat_minor": 5
}
