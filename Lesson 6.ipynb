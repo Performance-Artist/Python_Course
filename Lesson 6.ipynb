{
 "cells": [
  {
   "cell_type": "code",
   "execution_count": 6,
   "id": "selective-secondary",
   "metadata": {},
   "outputs": [
    {
     "name": "stdout",
     "output_type": "stream",
     "text": [
      "7\n",
      "-1\n",
      "12\n",
      "0\n",
      "3\n"
     ]
    },
    {
     "ename": "NameError",
     "evalue": "name 'exp' is not defined",
     "output_type": "error",
     "traceback": [
      "\u001b[1;31m---------------------------------------------------------------------------\u001b[0m",
      "\u001b[1;31mNameError\u001b[0m                                 Traceback (most recent call last)",
      "\u001b[1;32m<ipython-input-6-e181491ddccb>\u001b[0m in \u001b[0;36m<module>\u001b[1;34m\u001b[0m\n\u001b[0;32m     39\u001b[0m \u001b[1;33m\u001b[0m\u001b[0m\n\u001b[0;32m     40\u001b[0m \u001b[1;33m\u001b[0m\u001b[0m\n\u001b[1;32m---> 41\u001b[1;33m \u001b[0mprint\u001b[0m\u001b[1;33m(\u001b[0m\u001b[0mapplier\u001b[0m\u001b[1;33m(\u001b[0m\u001b[1;34m'+'\u001b[0m\u001b[1;33m,\u001b[0m \u001b[1;34m'1 + 2'\u001b[0m\u001b[1;33m,\u001b[0m \u001b[0mexp\u001b[0m\u001b[1;33m)\u001b[0m\u001b[1;33m)\u001b[0m\u001b[1;33m\u001b[0m\u001b[1;33m\u001b[0m\u001b[0m\n\u001b[0m",
      "\u001b[1;31mNameError\u001b[0m: name 'exp' is not defined"
     ]
    }
   ],
   "source": [
    "def add(num1, num2):\n",
    "    return num1 + num2\n",
    "\n",
    "def substract(num1, num2):\n",
    "    return num1 - num2\n",
    "\n",
    "def multiply(num1, num2):\n",
    "    return num1 * num2\n",
    "\n",
    "def div(num1, num2):\n",
    "    return num1 // num2\n",
    "\n",
    "def mod(num1, num2):\n",
    "    return num1 % num2\n",
    "\n",
    "print(add(3, 4))\n",
    "print(substract(3, 4))\n",
    "print(multiply(3, 4))\n",
    "print(div(3, 4))\n",
    "print(mod(3, 4))\n",
    "\n",
    "def applier(sign, exp, func):\n",
    "    values = [float(val) for val in exp.split(sign)]\n",
    "    return func(values[0], values[1])\n",
    "\n",
    "def checker(exp):\n",
    "    if '+' in exp:\n",
    "        return applier('+', exp, add)\n",
    "    elif '-' in exp:\n",
    "        return applier('-', exp, subtract)\n",
    "    if '*' in exp:\n",
    "        return applier('*', exp, multiply)\n",
    "    if '//' in exp:\n",
    "        return applier('+', exp, div)\n",
    "    if '%' in exp:\n",
    "        return applier('%', exp, mod)\n",
    "    else: \n",
    "        print(\"Wrong symbol!\")\n",
    "    \n",
    "\n",
    "print(applier('+', '1 + 2', exp))"
   ]
  },
  {
   "cell_type": "code",
   "execution_count": null,
   "id": "animal-florida",
   "metadata": {},
   "outputs": [],
   "source": []
  }
 ],
 "metadata": {
  "kernelspec": {
   "display_name": "Python 3",
   "language": "python",
   "name": "python3"
  },
  "language_info": {
   "codemirror_mode": {
    "name": "ipython",
    "version": 3
   },
   "file_extension": ".py",
   "mimetype": "text/x-python",
   "name": "python",
   "nbconvert_exporter": "python",
   "pygments_lexer": "ipython3",
   "version": "3.9.1"
  }
 },
 "nbformat": 4,
 "nbformat_minor": 5
}
