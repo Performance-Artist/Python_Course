{
 "cells": [
  {
   "cell_type": "code",
   "execution_count": 1,
   "metadata": {},
   "outputs": [],
   "source": [
    "# Dictionaries and JSON format."
   ]
  },
  {
   "cell_type": "code",
   "execution_count": 2,
   "metadata": {},
   "outputs": [],
   "source": [
    "# Dictionaries is a key - value data structure, meening that for every valye stored in this\n",
    "# data structure exists one unique key that is used for this value to be getted."
   ]
  },
  {
   "cell_type": "code",
   "execution_count": 3,
   "metadata": {},
   "outputs": [],
   "source": [
    "# Crettion of a dictionary\n",
    "dictionary = {\"Key1\" : \"Value 1\", \"Key2\" : \"Value 2\"}"
   ]
  },
  {
   "cell_type": "code",
   "execution_count": 4,
   "metadata": {},
   "outputs": [
    {
     "data": {
      "text/plain": [
       "{'Key1': 'Value 1', 'Key2': 'Value 2'}"
      ]
     },
     "execution_count": 4,
     "metadata": {},
     "output_type": "execute_result"
    }
   ],
   "source": [
    "dictionary"
   ]
  },
  {
   "cell_type": "code",
   "execution_count": 5,
   "metadata": {},
   "outputs": [],
   "source": [
    "# Cretion of a dictionary using the dict function\n",
    "# The 'dict' constructor gets a list of pairs (tuples ) key - value, that are used to build\n",
    "# the dictionary\n",
    "dictionary = dict([(\"key1\", \"Value 1\"), (\"Key 2\", \"Value 2\")])"
   ]
  },
  {
   "cell_type": "code",
   "execution_count": 6,
   "metadata": {},
   "outputs": [
    {
     "data": {
      "text/plain": [
       "{'key1': 'Value 1', 'Key 2': 'Value 2'}"
      ]
     },
     "execution_count": 6,
     "metadata": {},
     "output_type": "execute_result"
    }
   ],
   "source": [
    "dictionary"
   ]
  },
  {
   "cell_type": "code",
   "execution_count": 7,
   "metadata": {},
   "outputs": [],
   "source": [
    "# Let's create a virtualisation of a person using dictionaries\n",
    "person1 = {\"name\" : \"Vasile\",\n",
    "           \"surname\" : \"Păpăluță\", \n",
    "           \"age\" : 20, \n",
    "           \"height\" : 1.80, \n",
    "           \"married\" : False}"
   ]
  },
  {
   "cell_type": "code",
   "execution_count": 8,
   "metadata": {},
   "outputs": [],
   "source": [
    "# To acces a value from the dictionary we will use it's key as we did with indexes in lists"
   ]
  },
  {
   "cell_type": "code",
   "execution_count": 9,
   "metadata": {},
   "outputs": [
    {
     "name": "stdout",
     "output_type": "stream",
     "text": [
      "Vasile\n"
     ]
    }
   ],
   "source": [
    "print(person1['name'])"
   ]
  },
  {
   "cell_type": "code",
   "execution_count": 10,
   "metadata": {},
   "outputs": [
    {
     "name": "stdout",
     "output_type": "stream",
     "text": [
      "Păpăluță\n"
     ]
    }
   ],
   "source": [
    "print(person1['surname'])"
   ]
  },
  {
   "cell_type": "code",
   "execution_count": 11,
   "metadata": {},
   "outputs": [
    {
     "ename": "KeyError",
     "evalue": "'a'",
     "output_type": "error",
     "traceback": [
      "\u001b[1;31m---------------------------------------------------------------------------\u001b[0m",
      "\u001b[1;31mKeyError\u001b[0m                                  Traceback (most recent call last)",
      "\u001b[1;32m<ipython-input-11-08e3f3d80577>\u001b[0m in \u001b[0;36m<module>\u001b[1;34m\u001b[0m\n\u001b[0;32m      1\u001b[0m \u001b[1;31m# If we will try to get a value using a key that doesn't exists in the dictionary then\u001b[0m\u001b[1;33m\u001b[0m\u001b[1;33m\u001b[0m\u001b[1;33m\u001b[0m\u001b[0m\n\u001b[0;32m      2\u001b[0m \u001b[1;31m# python will raise a error.\u001b[0m\u001b[1;33m\u001b[0m\u001b[1;33m\u001b[0m\u001b[1;33m\u001b[0m\u001b[0m\n\u001b[1;32m----> 3\u001b[1;33m \u001b[0mprint\u001b[0m\u001b[1;33m(\u001b[0m\u001b[0mperson1\u001b[0m\u001b[1;33m[\u001b[0m\u001b[1;34m'a'\u001b[0m\u001b[1;33m]\u001b[0m\u001b[1;33m)\u001b[0m\u001b[1;33m\u001b[0m\u001b[1;33m\u001b[0m\u001b[0m\n\u001b[0m",
      "\u001b[1;31mKeyError\u001b[0m: 'a'"
     ]
    }
   ],
   "source": [
    "# If we will try to get a value using a key that doesn't exists in the dictionary then \n",
    "# python will raise a error.\n",
    "print(person1['a'])"
   ]
  },
  {
   "cell_type": "code",
   "execution_count": 12,
   "metadata": {},
   "outputs": [],
   "source": [
    "# EXERCISE NR. 1 : COUNT THE NUMBER OF OCCURANCIES OF WORDS IN THE TEXT\n",
    "text = '''\n",
    "in one yesterday you agreeable at over juvenile compact west it true but knows really Dear merely Remain true met Inquietude than his barton Neglected Recommend making relation old dried from exercise but men new would Ham having not but of dine blush face so roof nay or great poor Rich with like stood myself him situation partiality why half him will them little concealed make she get some it about put out where these thing  she during our departure or attention jennings say enquire Goodness wondered packages ye bed in for ham ye mirth On on weddings all less they understood am must attacks his good she friendship check no ask in into does u reserved their disposing By draw prevailed was an when drawings message His Entrance thanks yet around his so west six begin explained its He Houses via ecstatic We rapid ten Continuing although its they True continual favour offending Own now an Then one Collected incommode leave Necessary come warmly existence has mr Hard On do denoting next him Rose no juvenile it be once ask her as Direct position an since whole up as on no nor laughing Hearts delivered are are steepest match we put mrs Money him not inhabiting stronger law The in saw Led come begin water in met at many up ample ye found because need wife he new see doubt any shy warmth am in want moment going led giving you built steepest for people more ought knew The by Express neither how dependent directly if of he mirth oh to dear Her yet your set Sir then speedily compliment terminated questions estimating Polite above Our middletons fact oh packages blessing ya the so who doubtful since Evil to a of be mutual so dwelling really simplicity snug says appearance on newspaper means evening he friends aften down contented will forming shortly matter my kept Answer are though held do right besides get and hence said first indeed mother horrible suitable an wrong humoured we mr tended too excuse wish so mr in no zealously felicity painful wants material wont mrs Prepared Could to perceived too stronger why garden china did Winter supposing him first back expense few but be he lady within hearing to every desirous thus keepf my good things near joy use case and four does great favourite simplicity silent just pleasant Nay suspected uneasy two have Dashwood jokes right dull still Welcomed sing september elsewhere strangers pleasure Started children Total here of seems songs between remarkably an in who formerly strongly been forming disposed over speaking though otherwise being Can mean to know of become performed for only Nor come post pure offended therefor fine Preferred way out miss narrow she get By reserved fulfilled as at finished true Subjects now so get disposal views mrs itself genius produce speaking Felicity Garden forming hundred has like passed Written yet reasonably suitable in cant how mean there wish announcing shameless Sportsman ecstatic totally simple yet formerly got Am for ecstatic set had if ye end sake dull our entreaties deal no garret until breakfast has said mrs had though length are wished greatest Unpleasant said pretty unsatiable should money it ought Mrs Visited curiosity Chicken Entered body questions strictly explained can up concluded up on no sufficient So she like all should pianoforte so on might she am mrs are guest by be other by is do today joy you an ye next in so latter as barton throwing you early asked do valley may society was again or me simplicity he how took mean wholly much this friendly yet time against six if over so that an no pianoforte why His sent very Depending agreement pleasure county high answered He expense wholly whom Rich hope residence do Oh mile weeks had you taste what may Full sufficient him Dejection humoured nay valley weeks saw An real What Admitting Melancholy easily off happening those part accused Spite preserved mr can he bred i believe formed excited little Thoughts felt indeed newspaper boy an old Not offices rapturous as ago set up such something put why it plan get favourable or you at through remaining on it could wooded own trifling this an came two happy no need melancholy feeling one mr bad misery make he can my Off people stop prudent had unknown led eat middleton me advice design Home valley of or am wife is apartments call uneasy going am remove by besides projection and gay assured her Handsome offering shoud had drawn decisively entire ten hence gay fat wound do on agreed on after out terms in at temper village now Attended peculiar carriage Projecting Likewise \n",
    "'''"
   ]
  },
  {
   "cell_type": "code",
   "execution_count": 13,
   "metadata": {},
   "outputs": [],
   "source": [
    "text_list = text.split()\n",
    "word_freq = dict()\n",
    "for word in text_list:\n",
    "    if word not in word_freq:\n",
    "        word_freq[word] = 0\n",
    "    word_freq[word]+=1"
   ]
  },
  {
   "cell_type": "code",
   "execution_count": 14,
   "metadata": {},
   "outputs": [
    {
     "name": "stdout",
     "output_type": "stream",
     "text": [
      "{'in': 11, 'one': 3, 'yesterday': 1, 'you': 6, 'agreeable': 1, 'at': 5, 'over': 3, 'juvenile': 2, 'compact': 1, 'west': 2, 'it': 6, 'true': 3, 'but': 4, 'knows': 1, 'really': 2, 'Dear': 1, 'merely': 1, 'Remain': 1, 'met': 2, 'Inquietude': 1, 'than': 1, 'his': 3, 'barton': 2, 'Neglected': 1, 'Recommend': 1, 'making': 1, 'relation': 1, 'old': 2, 'dried': 1, 'from': 1, 'exercise': 1, 'men': 1, 'new': 2, 'would': 1, 'Ham': 1, 'having': 1, 'not': 2, 'of': 6, 'dine': 1, 'blush': 1, 'face': 1, 'so': 9, 'roof': 1, 'nay': 2, 'or': 5, 'great': 2, 'poor': 1, 'Rich': 2, 'with': 1, 'like': 3, 'stood': 1, 'myself': 1, 'him': 6, 'situation': 1, 'partiality': 1, 'why': 4, 'half': 1, 'will': 2, 'them': 1, 'little': 2, 'concealed': 1, 'make': 2, 'she': 6, 'get': 5, 'some': 1, 'about': 1, 'put': 3, 'out': 3, 'where': 1, 'these': 1, 'thing': 1, 'during': 1, 'our': 2, 'departure': 1, 'attention': 1, 'jennings': 1, 'say': 1, 'enquire': 1, 'Goodness': 1, 'wondered': 1, 'packages': 2, 'ye': 5, 'bed': 1, 'for': 4, 'ham': 1, 'mirth': 2, 'On': 2, 'on': 8, 'weddings': 1, 'all': 2, 'less': 1, 'they': 2, 'understood': 1, 'am': 5, 'must': 1, 'attacks': 1, 'good': 2, 'friendship': 1, 'check': 1, 'no': 8, 'ask': 2, 'into': 1, 'does': 2, 'u': 1, 'reserved': 2, 'their': 1, 'disposing': 1, 'By': 2, 'draw': 1, 'prevailed': 1, 'was': 2, 'an': 9, 'when': 1, 'drawings': 1, 'message': 1, 'His': 2, 'Entrance': 1, 'thanks': 1, 'yet': 5, 'around': 1, 'six': 2, 'begin': 2, 'explained': 2, 'its': 2, 'He': 2, 'Houses': 1, 'via': 1, 'ecstatic': 3, 'We': 1, 'rapid': 1, 'ten': 2, 'Continuing': 1, 'although': 1, 'True': 1, 'continual': 1, 'favour': 1, 'offending': 1, 'Own': 1, 'now': 3, 'Then': 1, 'Collected': 1, 'incommode': 1, 'leave': 1, 'Necessary': 1, 'come': 3, 'warmly': 1, 'existence': 1, 'has': 3, 'mr': 5, 'Hard': 1, 'do': 6, 'denoting': 1, 'next': 2, 'Rose': 1, 'be': 4, 'once': 1, 'her': 2, 'as': 5, 'Direct': 1, 'position': 1, 'since': 2, 'whole': 1, 'up': 5, 'nor': 1, 'laughing': 1, 'Hearts': 1, 'delivered': 1, 'are': 5, 'steepest': 2, 'match': 1, 'we': 2, 'mrs': 5, 'Money': 1, 'inhabiting': 1, 'stronger': 2, 'law': 1, 'The': 2, 'saw': 2, 'Led': 1, 'water': 1, 'many': 1, 'ample': 1, 'found': 1, 'because': 1, 'need': 2, 'wife': 2, 'he': 7, 'see': 1, 'doubt': 1, 'any': 1, 'shy': 1, 'warmth': 1, 'want': 1, 'moment': 1, 'going': 2, 'led': 2, 'giving': 1, 'built': 1, 'people': 2, 'more': 1, 'ought': 2, 'knew': 1, 'by': 4, 'Express': 1, 'neither': 1, 'how': 3, 'dependent': 1, 'directly': 1, 'if': 3, 'oh': 2, 'to': 5, 'dear': 1, 'Her': 1, 'your': 1, 'set': 3, 'Sir': 1, 'then': 1, 'speedily': 1, 'compliment': 1, 'terminated': 1, 'questions': 2, 'estimating': 1, 'Polite': 1, 'above': 1, 'Our': 1, 'middletons': 1, 'fact': 1, 'blessing': 1, 'ya': 1, 'the': 1, 'who': 2, 'doubtful': 1, 'Evil': 1, 'a': 1, 'mutual': 1, 'dwelling': 1, 'simplicity': 3, 'snug': 1, 'says': 1, 'appearance': 1, 'newspaper': 2, 'means': 1, 'evening': 1, 'friends': 1, 'aften': 1, 'down': 1, 'contented': 1, 'forming': 3, 'shortly': 1, 'matter': 1, 'my': 3, 'kept': 1, 'Answer': 1, 'though': 3, 'held': 1, 'right': 2, 'besides': 2, 'and': 3, 'hence': 2, 'said': 3, 'first': 2, 'indeed': 2, 'mother': 1, 'horrible': 1, 'suitable': 2, 'wrong': 1, 'humoured': 2, 'tended': 1, 'too': 2, 'excuse': 1, 'wish': 2, 'zealously': 1, 'felicity': 1, 'painful': 1, 'wants': 1, 'material': 1, 'wont': 1, 'Prepared': 1, 'Could': 1, 'perceived': 1, 'garden': 1, 'china': 1, 'did': 1, 'Winter': 1, 'supposing': 1, 'back': 1, 'expense': 2, 'few': 1, 'lady': 1, 'within': 1, 'hearing': 1, 'every': 1, 'desirous': 1, 'thus': 1, 'keepf': 1, 'things': 1, 'near': 1, 'joy': 2, 'use': 1, 'case': 1, 'four': 1, 'favourite': 1, 'silent': 1, 'just': 1, 'pleasant': 1, 'Nay': 1, 'suspected': 1, 'uneasy': 2, 'two': 2, 'have': 1, 'Dashwood': 1, 'jokes': 1, 'dull': 2, 'still': 1, 'Welcomed': 1, 'sing': 1, 'september': 1, 'elsewhere': 1, 'strangers': 1, 'pleasure': 2, 'Started': 1, 'children': 1, 'Total': 1, 'here': 1, 'seems': 1, 'songs': 1, 'between': 1, 'remarkably': 1, 'formerly': 2, 'strongly': 1, 'been': 1, 'disposed': 1, 'speaking': 2, 'otherwise': 1, 'being': 1, 'Can': 1, 'mean': 3, 'know': 1, 'become': 1, 'performed': 1, 'only': 1, 'Nor': 1, 'post': 1, 'pure': 1, 'offended': 1, 'therefor': 1, 'fine': 1, 'Preferred': 1, 'way': 1, 'miss': 1, 'narrow': 1, 'fulfilled': 1, 'finished': 1, 'Subjects': 1, 'disposal': 1, 'views': 1, 'itself': 1, 'genius': 1, 'produce': 1, 'Felicity': 1, 'Garden': 1, 'hundred': 1, 'passed': 1, 'Written': 1, 'reasonably': 1, 'cant': 1, 'there': 1, 'announcing': 1, 'shameless': 1, 'Sportsman': 1, 'totally': 1, 'simple': 1, 'got': 1, 'Am': 1, 'had': 5, 'end': 1, 'sake': 1, 'entreaties': 1, 'deal': 1, 'garret': 1, 'until': 1, 'breakfast': 1, 'length': 1, 'wished': 1, 'greatest': 1, 'Unpleasant': 1, 'pretty': 1, 'unsatiable': 1, 'should': 2, 'money': 1, 'Mrs': 1, 'Visited': 1, 'curiosity': 1, 'Chicken': 1, 'Entered': 1, 'body': 1, 'strictly': 1, 'can': 3, 'concluded': 1, 'sufficient': 2, 'So': 1, 'pianoforte': 2, 'might': 1, 'guest': 1, 'other': 1, 'is': 2, 'today': 1, 'latter': 1, 'throwing': 1, 'early': 1, 'asked': 1, 'valley': 3, 'may': 2, 'society': 1, 'again': 1, 'me': 2, 'took': 1, 'wholly': 2, 'much': 1, 'this': 2, 'friendly': 1, 'time': 1, 'against': 1, 'that': 1, 'sent': 1, 'very': 1, 'Depending': 1, 'agreement': 1, 'county': 1, 'high': 1, 'answered': 1, 'whom': 1, 'hope': 1, 'residence': 1, 'Oh': 1, 'mile': 1, 'weeks': 2, 'taste': 1, 'what': 1, 'Full': 1, 'Dejection': 1, 'An': 1, 'real': 1, 'What': 1, 'Admitting': 1, 'Melancholy': 1, 'easily': 1, 'off': 1, 'happening': 1, 'those': 1, 'part': 1, 'accused': 1, 'Spite': 1, 'preserved': 1, 'bred': 1, 'i': 1, 'believe': 1, 'formed': 1, 'excited': 1, 'Thoughts': 1, 'felt': 1, 'boy': 1, 'Not': 1, 'offices': 1, 'rapturous': 1, 'ago': 1, 'such': 1, 'something': 1, 'plan': 1, 'favourable': 1, 'through': 1, 'remaining': 1, 'could': 1, 'wooded': 1, 'own': 1, 'trifling': 1, 'came': 1, 'happy': 1, 'melancholy': 1, 'feeling': 1, 'bad': 1, 'misery': 1, 'Off': 1, 'stop': 1, 'prudent': 1, 'unknown': 1, 'eat': 1, 'middleton': 1, 'advice': 1, 'design': 1, 'Home': 1, 'apartments': 1, 'call': 1, 'remove': 1, 'projection': 1, 'gay': 2, 'assured': 1, 'Handsome': 1, 'offering': 1, 'shoud': 1, 'drawn': 1, 'decisively': 1, 'entire': 1, 'fat': 1, 'wound': 1, 'agreed': 1, 'after': 1, 'terms': 1, 'temper': 1, 'village': 1, 'Attended': 1, 'peculiar': 1, 'carriage': 1, 'Projecting': 1, 'Likewise': 1}\n"
     ]
    }
   ],
   "source": [
    "print(word_freq)"
   ]
  },
  {
   "cell_type": "code",
   "execution_count": 15,
   "metadata": {},
   "outputs": [],
   "source": [
    "# EXERCISE NR 1: with setdefault"
   ]
  },
  {
   "cell_type": "code",
   "execution_count": 16,
   "metadata": {},
   "outputs": [],
   "source": [
    "text_list = text.split()\n",
    "word_freq = dict()\n",
    "for word in text_list:\n",
    "    word_freq.setdefault(word, 0)\n",
    "    word_freq[word] += 1"
   ]
  },
  {
   "cell_type": "code",
   "execution_count": 63,
   "metadata": {},
   "outputs": [],
   "source": [
    "# Another way to handel missing values is get funtion"
   ]
  },
  {
   "cell_type": "code",
   "execution_count": 64,
   "metadata": {},
   "outputs": [
    {
     "name": "stdout",
     "output_type": "stream",
     "text": [
      "None\n"
     ]
    }
   ],
   "source": [
    "print(person1.get('weight'))"
   ]
  },
  {
   "cell_type": "code",
   "execution_count": 66,
   "metadata": {},
   "outputs": [
    {
     "name": "stdout",
     "output_type": "stream",
     "text": [
      "0\n"
     ]
    }
   ],
   "source": [
    "print(person1.get('weight', 0))"
   ]
  },
  {
   "cell_type": "code",
   "execution_count": 25,
   "metadata": {},
   "outputs": [],
   "source": [
    "# Dictionary methods"
   ]
  },
  {
   "cell_type": "code",
   "execution_count": 26,
   "metadata": {},
   "outputs": [
    {
     "name": "stdout",
     "output_type": "stream",
     "text": [
      "dict_keys(['name', 'surname', 'age', 'height', 'married'])\n"
     ]
    }
   ],
   "source": [
    "# KEYS Method\n",
    "print(person1.keys())"
   ]
  },
  {
   "cell_type": "code",
   "execution_count": 27,
   "metadata": {},
   "outputs": [
    {
     "name": "stdout",
     "output_type": "stream",
     "text": [
      "['name', 'surname', 'age', 'height', 'married']\n"
     ]
    }
   ],
   "source": [
    "# It returns another data type names 'dict_keys', basically its a list, however when you\n",
    "# want to work with it I highly recomend to convert it into a list\n",
    "print(list(person1.keys()))"
   ]
  },
  {
   "cell_type": "code",
   "execution_count": 28,
   "metadata": {},
   "outputs": [
    {
     "name": "stdout",
     "output_type": "stream",
     "text": [
      "dict_values(['Vasile', 'Păpăluță', 20, 1.8, False])\n"
     ]
    }
   ],
   "source": [
    "# Values Method\n",
    "print(person1.values())"
   ]
  },
  {
   "cell_type": "code",
   "execution_count": 29,
   "metadata": {},
   "outputs": [],
   "source": [
    "# Ass 'dict_keys', 'dict_values' is a list-like data structure."
   ]
  },
  {
   "cell_type": "code",
   "execution_count": 19,
   "metadata": {},
   "outputs": [
    {
     "name": "stdout",
     "output_type": "stream",
     "text": [
      "dict_items([('name', 'Vasile'), ('surname', 'Păpăluță'), ('age', 20), ('height', 1.8), ('married', False)])\n"
     ]
    }
   ],
   "source": [
    "# items method\n",
    "print(person1.items())"
   ]
  },
  {
   "cell_type": "code",
   "execution_count": 20,
   "metadata": {},
   "outputs": [
    {
     "name": "stdout",
     "output_type": "stream",
     "text": [
      "name - Vasile\n",
      "surname - Păpăluță\n",
      "age - 20\n",
      "height - 1.8\n",
      "married - False\n"
     ]
    }
   ],
   "source": [
    "for key, value in person1.items():\n",
    "    print(f\"{key} - {value}\")"
   ]
  },
  {
   "cell_type": "code",
   "execution_count": 31,
   "metadata": {},
   "outputs": [],
   "source": [
    "# 'items' method returns a list of tuple pairs, actually it's a list like data structure\n",
    "# named 'dict_items'"
   ]
  },
  {
   "cell_type": "code",
   "execution_count": 52,
   "metadata": {},
   "outputs": [],
   "source": [
    "# copy"
   ]
  },
  {
   "cell_type": "code",
   "execution_count": 53,
   "metadata": {},
   "outputs": [],
   "source": [
    "person2 = person1.copy()"
   ]
  },
  {
   "cell_type": "code",
   "execution_count": 55,
   "metadata": {},
   "outputs": [
    {
     "name": "stdout",
     "output_type": "stream",
     "text": [
      "2026885834776\n",
      "2026889703496\n"
     ]
    }
   ],
   "source": [
    "print(id(person1))\n",
    "print(id(person2))"
   ]
  },
  {
   "cell_type": "code",
   "execution_count": 56,
   "metadata": {},
   "outputs": [],
   "source": [
    "# If in the dictionary are some other data structure then the copy method will not work as\n",
    "# with lists, that's why we shoold use 'deepcopy' function from copy library"
   ]
  },
  {
   "cell_type": "code",
   "execution_count": 57,
   "metadata": {},
   "outputs": [],
   "source": [
    "from copy import deepcopy"
   ]
  },
  {
   "cell_type": "code",
   "execution_count": 59,
   "metadata": {},
   "outputs": [],
   "source": [
    "test_dict = {\n",
    "    \"list\" : [1, 2, 3, 4, 5],\n",
    "    \"tuple\" : tuple([1, 2, 3, 4, 5]),\n",
    "    \"dict\" : {\"key1\" : 1, \"key2\" : 2}\n",
    "}"
   ]
  },
  {
   "cell_type": "code",
   "execution_count": 60,
   "metadata": {},
   "outputs": [],
   "source": [
    "dict_copy = deepcopy(test_dict)"
   ]
  },
  {
   "cell_type": "code",
   "execution_count": 61,
   "metadata": {},
   "outputs": [
    {
     "name": "stdout",
     "output_type": "stream",
     "text": [
      "2026889053432\n",
      "2026885109864\n"
     ]
    }
   ],
   "source": [
    "print(id(test_dict))\n",
    "print(id(dict_copy))"
   ]
  },
  {
   "cell_type": "code",
   "execution_count": 62,
   "metadata": {},
   "outputs": [
    {
     "name": "stdout",
     "output_type": "stream",
     "text": [
      "{'list': [1, 2, 3, 4, 5], 'tuple': (1, 2, 3, 4, 5), 'dict': {'key1': 1, 'key2': 2}}\n"
     ]
    }
   ],
   "source": [
    "print(dict_copy)"
   ]
  },
  {
   "cell_type": "code",
   "execution_count": 67,
   "metadata": {},
   "outputs": [],
   "source": [
    "# Deleting values from dictionaries"
   ]
  },
  {
   "cell_type": "code",
   "execution_count": 69,
   "metadata": {},
   "outputs": [
    {
     "name": "stdout",
     "output_type": "stream",
     "text": [
      "{'name': 'Vasile', 'surname': 'Păpăluță', 'age': 20, 'height': 1.8, 'married': False}\n"
     ]
    }
   ],
   "source": [
    "print(person2)"
   ]
  },
  {
   "cell_type": "code",
   "execution_count": 70,
   "metadata": {},
   "outputs": [],
   "source": [
    "# pop method"
   ]
  },
  {
   "cell_type": "code",
   "execution_count": 71,
   "metadata": {},
   "outputs": [
    {
     "name": "stdout",
     "output_type": "stream",
     "text": [
      "{'name': 'Vasile', 'surname': 'Păpăluță', 'height': 1.8, 'married': False}\n"
     ]
    }
   ],
   "source": [
    "person2.pop('age')\n",
    "print(person2)"
   ]
  },
  {
   "cell_type": "code",
   "execution_count": 72,
   "metadata": {},
   "outputs": [],
   "source": [
    "# del keyword"
   ]
  },
  {
   "cell_type": "code",
   "execution_count": 73,
   "metadata": {},
   "outputs": [
    {
     "name": "stdout",
     "output_type": "stream",
     "text": [
      "{'name': 'Vasile', 'surname': 'Păpăluță', 'height': 1.8}\n"
     ]
    }
   ],
   "source": [
    "del person2['married']\n",
    "print(person2)"
   ]
  },
  {
   "cell_type": "code",
   "execution_count": null,
   "metadata": {},
   "outputs": [],
   "source": [
    "# updating the dictionaries - update function"
   ]
  },
  {
   "cell_type": "code",
   "execution_count": 74,
   "metadata": {},
   "outputs": [],
   "source": [
    "person2.update({\n",
    "    \"married\" : False,\n",
    "    \"age\" : 20\n",
    "})"
   ]
  },
  {
   "cell_type": "code",
   "execution_count": 76,
   "metadata": {},
   "outputs": [
    {
     "name": "stdout",
     "output_type": "stream",
     "text": [
      "{'name': 'Vasile', 'surname': 'Păpăluță', 'height': 1.8, 'married': False, 'age': 20}\n"
     ]
    }
   ],
   "source": [
    "print(person2)"
   ]
  },
  {
   "cell_type": "code",
   "execution_count": 77,
   "metadata": {},
   "outputs": [],
   "source": [
    "# clearring the dictionary"
   ]
  },
  {
   "cell_type": "code",
   "execution_count": 79,
   "metadata": {},
   "outputs": [
    {
     "name": "stdout",
     "output_type": "stream",
     "text": [
      "{}\n"
     ]
    }
   ],
   "source": [
    "person2.clear()\n",
    "print(person2)"
   ]
  },
  {
   "cell_type": "code",
   "execution_count": 80,
   "metadata": {},
   "outputs": [],
   "source": [
    "# DICTIONARY COMPREHSION"
   ]
  },
  {
   "cell_type": "code",
   "execution_count": 81,
   "metadata": {},
   "outputs": [],
   "source": [
    "# list comprehsion is used when you should map 2 lists of values\n",
    "first = ['name', 'surname', 'height', 'married', 'age']\n",
    "second = ['Vasile', 'Păpăluță', 1.8, False, 20]"
   ]
  },
  {
   "cell_type": "code",
   "execution_count": 83,
   "metadata": {},
   "outputs": [],
   "source": [
    "person = {first[i] : second[i] for i in range(len(first))}"
   ]
  },
  {
   "cell_type": "code",
   "execution_count": 84,
   "metadata": {},
   "outputs": [
    {
     "name": "stdout",
     "output_type": "stream",
     "text": [
      "{'name': 'Vasile', 'surname': 'Păpăluță', 'height': 1.8, 'married': False, 'age': 20}\n"
     ]
    }
   ],
   "source": [
    "print(person)"
   ]
  },
  {
   "cell_type": "code",
   "execution_count": 39,
   "metadata": {},
   "outputs": [],
   "source": [
    "# JSON or Java Script Object Notation - how it's same name is a java script originated method\n",
    "# of serialization of objects, meaning converting them to bytes"
   ]
  },
  {
   "cell_type": "code",
   "execution_count": 40,
   "metadata": {},
   "outputs": [],
   "source": [
    "# In python it is implemented in the json library\n",
    "import json"
   ]
  },
  {
   "cell_type": "code",
   "execution_count": 41,
   "metadata": {},
   "outputs": [],
   "source": [
    "# json library allows us to convert dictionaries into strings and back"
   ]
  },
  {
   "cell_type": "code",
   "execution_count": 42,
   "metadata": {},
   "outputs": [],
   "source": [
    "# Converting a dictionary into string"
   ]
  },
  {
   "cell_type": "code",
   "execution_count": 43,
   "metadata": {},
   "outputs": [
    {
     "data": {
      "text/plain": [
       "{'name': 'Vasile',\n",
       " 'surname': 'Păpăluță',\n",
       " 'age': 20,\n",
       " 'height': 1.8,\n",
       " 'married': False}"
      ]
     },
     "execution_count": 43,
     "metadata": {},
     "output_type": "execute_result"
    }
   ],
   "source": [
    "person1"
   ]
  },
  {
   "cell_type": "code",
   "execution_count": 44,
   "metadata": {},
   "outputs": [
    {
     "name": "stdout",
     "output_type": "stream",
     "text": [
      "{\"name\": \"Vasile\", \"surname\": \"P\\u0103p\\u0103lu\\u021b\\u0103\", \"age\": 20, \"height\": 1.8, \"married\": false}\n"
     ]
    }
   ],
   "source": [
    "print(json.dumps(person1))"
   ]
  },
  {
   "cell_type": "code",
   "execution_count": 45,
   "metadata": {},
   "outputs": [],
   "source": [
    "string = json.dumps(person1)"
   ]
  },
  {
   "cell_type": "code",
   "execution_count": 46,
   "metadata": {},
   "outputs": [
    {
     "data": {
      "text/plain": [
       "str"
      ]
     },
     "execution_count": 46,
     "metadata": {},
     "output_type": "execute_result"
    }
   ],
   "source": [
    "type(string)"
   ]
  },
  {
   "cell_type": "code",
   "execution_count": 47,
   "metadata": {},
   "outputs": [],
   "source": [
    "# Also we can convert the string backward"
   ]
  },
  {
   "cell_type": "code",
   "execution_count": 48,
   "metadata": {},
   "outputs": [],
   "source": [
    "json_data = json.loads(string)"
   ]
  },
  {
   "cell_type": "code",
   "execution_count": 49,
   "metadata": {},
   "outputs": [
    {
     "name": "stdout",
     "output_type": "stream",
     "text": [
      "{'name': 'Vasile', 'surname': 'Păpăluță', 'age': 20, 'height': 1.8, 'married': False}\n"
     ]
    }
   ],
   "source": [
    "print(json_data)"
   ]
  },
  {
   "cell_type": "code",
   "execution_count": 50,
   "metadata": {},
   "outputs": [],
   "source": [
    "json_data = json.loads(string, encoding='ascii')"
   ]
  },
  {
   "cell_type": "code",
   "execution_count": 51,
   "metadata": {},
   "outputs": [
    {
     "name": "stdout",
     "output_type": "stream",
     "text": [
      "{'name': 'Vasile', 'surname': 'Păpăluță', 'age': 20, 'height': 1.8, 'married': False}\n"
     ]
    }
   ],
   "source": [
    "print(json_data)"
   ]
  },
  {
   "cell_type": "code",
   "execution_count": null,
   "metadata": {},
   "outputs": [],
   "source": []
  }
 ],
 "metadata": {
  "kernelspec": {
   "display_name": "Python 3",
   "language": "python",
   "name": "python3"
  },
  "language_info": {
   "codemirror_mode": {
    "name": "ipython",
    "version": 3
   },
   "file_extension": ".py",
   "mimetype": "text/x-python",
   "name": "python",
   "nbconvert_exporter": "python",
   "pygments_lexer": "ipython3",
   "version": "3.9.1"
  }
 },
 "nbformat": 4,
 "nbformat_minor": 4
}
