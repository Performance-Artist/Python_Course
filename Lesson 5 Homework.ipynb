{
 "cells": [
  {
   "cell_type": "code",
   "execution_count": 1,
   "id": "artistic-survival",
   "metadata": {},
   "outputs": [],
   "source": [
    "# Lesson 5 Homework"
   ]
  },
  {
   "cell_type": "code",
   "execution_count": 2,
   "id": "humanitarian-beijing",
   "metadata": {},
   "outputs": [
    {
     "name": "stdout",
     "output_type": "stream",
     "text": [
      "The sum of the elements in a tuple is 55\n",
      "The product of the elements in a tuple is 3628800\n"
     ]
    }
   ],
   "source": [
    "# 1. \n",
    "# The given tuple\n",
    "tuple = ([1, 2, 3, 4, 5, 6, 7, 8, 9, 10])\n",
    "\n",
    "# The sum of the elements in a tuple\n",
    "sum = 0\n",
    "for element in tuple:\n",
    "    sum += element\n",
    "print(f\"The sum of the elements in a tuple is {sum}\")\n",
    "\n",
    "# The product of the elements in a tuple\n",
    "product = 1\n",
    "for element in tuple:\n",
    "    product *= element\n",
    "print(f\"The product of the elements in a tuple is {product}\")"
   ]
  },
  {
   "cell_type": "code",
   "execution_count": 2,
   "id": "experimental-percentage",
   "metadata": {},
   "outputs": [
    {
     "name": "stdout",
     "output_type": "stream",
     "text": [
      "Enter the text: Year 2020 was the worst year.\n",
      "7 vowels\n",
      "16 consonants\n",
      "1 uppercase letters\n",
      "18 lowercase letters\n",
      "4 digits\n"
     ]
    }
   ],
   "source": [
    "# 2.\n",
    "text = input(\"Enter the text: \")\n",
    "vowels = 0\n",
    "consonants = 0\n",
    "special_symbols = '!\"#$%&\\'()*+,-./:;<=>?@[\\\\]^_`{|}~ '\n",
    "special_symbols_num = 0\n",
    "# Vowels and consonants\n",
    "for char in range(0, len(text)):\n",
    "    if (text[char] == 'a'or text[char] == 'e'or text[char] == 'i'or text[char] == 'o'or text[char] == 'u' or \n",
    "       text[char] == 'A'or text[char] == 'E'or text[char] == 'I'or text[char] == 'O'or text[char] == 'U' ):\n",
    "            vowels += 1\n",
    "    elif (text[char] == \" \"):\n",
    "        pass\n",
    "    elif (text[char] in special_symbols):\n",
    "        special_symbols_num += 1\n",
    "    else:\n",
    "        consonants += 1\n",
    "\n",
    "# Uppercase and lowercase letters\n",
    "UpperCount = 0 \n",
    "LowerCount = 0\n",
    "for char in range(0, len(text)):\n",
    "    if (text[char].isupper()):\n",
    "        UpperCount += 1\n",
    "    elif (text[char].islower()):\n",
    "        LowerCount += 1\n",
    "# Digits\n",
    "digits = 0\n",
    "for char in range(0, len(text)):\n",
    "    if(text[char].isdigit()):\n",
    "        digits += 1\n",
    "print(f\"{vowels} vowels\")\n",
    "print(f\"{consonants} consonants\")\n",
    "print(f\"{UpperCount} uppercase letters\")\n",
    "print(f\"{LowerCount} lowercase letters\")\n",
    "print(f\"{digits} digits\")"
   ]
  },
  {
   "cell_type": "code",
   "execution_count": null,
   "id": "according-finland",
   "metadata": {},
   "outputs": [],
   "source": []
  }
 ],
 "metadata": {
  "kernelspec": {
   "display_name": "Python 3",
   "language": "python",
   "name": "python3"
  },
  "language_info": {
   "codemirror_mode": {
    "name": "ipython",
    "version": 3
   },
   "file_extension": ".py",
   "mimetype": "text/x-python",
   "name": "python",
   "nbconvert_exporter": "python",
   "pygments_lexer": "ipython3",
   "version": "3.9.1"
  }
 },
 "nbformat": 4,
 "nbformat_minor": 5
}
