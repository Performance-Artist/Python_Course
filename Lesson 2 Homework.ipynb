{
 "cells": [
  {
   "cell_type": "code",
   "execution_count": 1,
   "id": "specialized-trauma",
   "metadata": {},
   "outputs": [
    {
     "name": "stdout",
     "output_type": "stream",
     "text": [
      "Enter a: 1\n",
      "Enter b: 4\n",
      "Enter c: -2\n",
      "x1 = 0.4494897427831779, x2 = -4.449489742783178\n"
     ]
    }
   ],
   "source": [
    "# Lesson 2 Homework\n",
    "# 1. Solving quadratic equations\n",
    "import math\n",
    "a = float(input(\"Enter a: \"))\n",
    "b = float(input(\"Enter b: \"))\n",
    "c = float(input(\"Enter c: \"))\n",
    "D = b**2 - (4*a*c)\n",
    "if D > 0:\n",
    "    x1 = (-b + math.sqrt(D)) / 2*a\n",
    "    x2 = (-b - math.sqrt(D)) / 2*a\n",
    "    print(f\"x1 = {x1}, x2 = {x2}\")\n",
    "elif D == 0:\n",
    "    x1 = x2 = -b / 2*a\n",
    "    print(f\"x1 = {x1}\")\n",
    "elif D < 0:\n",
    "    print (\"No roots\")\n",
    "    \n"
   ]
  },
  {
   "cell_type": "code",
   "execution_count": 2,
   "id": "sunset-resident",
   "metadata": {},
   "outputs": [
    {
     "name": "stdout",
     "output_type": "stream",
     "text": [
      "Enter x1: 2\n",
      "Enter x2: 6\n",
      "Enter y1: -4\n",
      "Enter y2: 1\n",
      "The euclidean distance is 6.4031242374328485\n"
     ]
    }
   ],
   "source": [
    "# 2. The euclidean distance\n",
    "import math\n",
    "x1 = float(input(\"Enter x1: \"))\n",
    "x2 = float(input(\"Enter x2: \"))\n",
    "y1 = float(input(\"Enter y1: \"))\n",
    "y2 = float(input(\"Enter y2: \"))\n",
    "\n",
    "dist = math.sqrt((x2 - x1)**2 + (y2 - y1)**2)\n",
    "print(f\"The euclidean distance is {dist}\")"
   ]
  },
  {
   "cell_type": "code",
   "execution_count": null,
   "id": "genetic-claim",
   "metadata": {},
   "outputs": [],
   "source": []
  }
 ],
 "metadata": {
  "kernelspec": {
   "display_name": "Python 3",
   "language": "python",
   "name": "python3"
  },
  "language_info": {
   "codemirror_mode": {
    "name": "ipython",
    "version": 3
   },
   "file_extension": ".py",
   "mimetype": "text/x-python",
   "name": "python",
   "nbconvert_exporter": "python",
   "pygments_lexer": "ipython3",
   "version": "3.9.1"
  }
 },
 "nbformat": 4,
 "nbformat_minor": 5
}
