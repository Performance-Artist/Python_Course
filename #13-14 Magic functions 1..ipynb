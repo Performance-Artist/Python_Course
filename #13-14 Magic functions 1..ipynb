{
 "cells": [
  {
   "cell_type": "code",
   "execution_count": 1,
   "metadata": {},
   "outputs": [],
   "source": [
    "# Magic functions 1."
   ]
  },
  {
   "cell_type": "code",
   "execution_count": 2,
   "metadata": {},
   "outputs": [],
   "source": [
    "# Magic functions are special functions in python OOP that allows describing the behavior\n",
    "# of the object when diferent operators or functions are applied on it."
   ]
  },
  {
   "cell_type": "code",
   "execution_count": 3,
   "metadata": {},
   "outputs": [],
   "source": [
    "# We will meet some magic fucntions during this 2 workshops when we will create a list-like\n",
    "# data structure."
   ]
  },
  {
   "cell_type": "code",
   "execution_count": 5,
   "metadata": {},
   "outputs": [],
   "source": [
    "# Our list-like data structure will be a sequence of node."
   ]
  },
  {
   "cell_type": "code",
   "execution_count": 6,
   "metadata": {},
   "outputs": [],
   "source": [
    "class node:\n",
    "    def __init__(self, value, index=0):\n",
    "        self.value = value\n",
    "        self.index = index\n",
    "        self.next = None"
   ]
  },
  {
   "cell_type": "code",
   "execution_count": 7,
   "metadata": {},
   "outputs": [],
   "source": [
    "# Let's firstly add the function for adding others values."
   ]
  },
  {
   "cell_type": "code",
   "execution_count": 13,
   "metadata": {},
   "outputs": [],
   "source": [
    "class node:\n",
    "    def __init__(self, value, index=0):\n",
    "        self.value = value\n",
    "        self.index = index\n",
    "        self.next = None\n",
    "    \n",
    "    def append(self, value):\n",
    "        if self.next is None:\n",
    "            self.next = node(value, self.index+1)\n",
    "        else:\n",
    "            self.next.append(value)"
   ]
  },
  {
   "cell_type": "code",
   "execution_count": 14,
   "metadata": {},
   "outputs": [],
   "source": [
    "# Let's create our list\n",
    "my_list = node(1)\n",
    "my_list.append(2)\n",
    "my_list.append(3)"
   ]
  },
  {
   "cell_type": "code",
   "execution_count": 15,
   "metadata": {},
   "outputs": [],
   "source": [
    "# Good, now we need to see the value that we added in the list."
   ]
  },
  {
   "cell_type": "code",
   "execution_count": 16,
   "metadata": {},
   "outputs": [],
   "source": [
    "# Would be nice if we could access it's using square breackets. To do that we must adde the \n",
    "# '__getitem__' function."
   ]
  },
  {
   "cell_type": "code",
   "execution_count": 17,
   "metadata": {},
   "outputs": [],
   "source": [
    "class node:\n",
    "    def __init__(self, value, index=0):\n",
    "        self.value = value\n",
    "        self.index = index\n",
    "        self.next = None\n",
    "    \n",
    "    def append(self, value):\n",
    "        if self.next is None:\n",
    "            self.next = node(value, self.index+1)\n",
    "        else:\n",
    "            self.next.append(value)\n",
    "    \n",
    "    def __getitem__(self, index):\n",
    "        if index == self.index:\n",
    "            return self.value\n",
    "        else:\n",
    "            if self.next:\n",
    "                return self.next[index]\n",
    "            else:\n",
    "                raise IndexError(\"No such index\")"
   ]
  },
  {
   "cell_type": "code",
   "execution_count": 18,
   "metadata": {},
   "outputs": [],
   "source": [
    "# So let's test\n",
    "my_list = node(1)\n",
    "my_list.append(2)\n",
    "my_list.append(3)"
   ]
  },
  {
   "cell_type": "code",
   "execution_count": 20,
   "metadata": {},
   "outputs": [
    {
     "name": "stdout",
     "output_type": "stream",
     "text": [
      "1\n"
     ]
    }
   ],
   "source": [
    "print(my_list[0])"
   ]
  },
  {
   "cell_type": "code",
   "execution_count": 21,
   "metadata": {},
   "outputs": [
    {
     "name": "stdout",
     "output_type": "stream",
     "text": [
      "2\n"
     ]
    }
   ],
   "source": [
    "print(my_list[1])"
   ]
  },
  {
   "cell_type": "code",
   "execution_count": 22,
   "metadata": {},
   "outputs": [
    {
     "name": "stdout",
     "output_type": "stream",
     "text": [
      "3\n"
     ]
    }
   ],
   "source": [
    "print(my_list[2])"
   ]
  },
  {
   "cell_type": "code",
   "execution_count": 23,
   "metadata": {},
   "outputs": [
    {
     "ename": "IndexError",
     "evalue": "No such index",
     "output_type": "error",
     "traceback": [
      "\u001b[1;31m---------------------------------------------------------------------------\u001b[0m",
      "\u001b[1;31mIndexError\u001b[0m                                Traceback (most recent call last)",
      "\u001b[1;32m<ipython-input-23-04bd43825afb>\u001b[0m in \u001b[0;36m<module>\u001b[1;34m\u001b[0m\n\u001b[1;32m----> 1\u001b[1;33m \u001b[0mprint\u001b[0m\u001b[1;33m(\u001b[0m\u001b[0mmy_list\u001b[0m\u001b[1;33m[\u001b[0m\u001b[1;36m3\u001b[0m\u001b[1;33m]\u001b[0m\u001b[1;33m)\u001b[0m\u001b[1;33m\u001b[0m\u001b[1;33m\u001b[0m\u001b[0m\n\u001b[0m",
      "\u001b[1;32m<ipython-input-17-d8b3c546ad9a>\u001b[0m in \u001b[0;36m__getitem__\u001b[1;34m(self, index)\u001b[0m\n\u001b[0;32m     16\u001b[0m         \u001b[1;32melse\u001b[0m\u001b[1;33m:\u001b[0m\u001b[1;33m\u001b[0m\u001b[1;33m\u001b[0m\u001b[0m\n\u001b[0;32m     17\u001b[0m             \u001b[1;32mif\u001b[0m \u001b[0mself\u001b[0m\u001b[1;33m.\u001b[0m\u001b[0mnext\u001b[0m\u001b[1;33m:\u001b[0m\u001b[1;33m\u001b[0m\u001b[1;33m\u001b[0m\u001b[0m\n\u001b[1;32m---> 18\u001b[1;33m                 \u001b[1;32mreturn\u001b[0m \u001b[0mself\u001b[0m\u001b[1;33m.\u001b[0m\u001b[0mnext\u001b[0m\u001b[1;33m[\u001b[0m\u001b[0mindex\u001b[0m\u001b[1;33m]\u001b[0m\u001b[1;33m\u001b[0m\u001b[1;33m\u001b[0m\u001b[0m\n\u001b[0m\u001b[0;32m     19\u001b[0m             \u001b[1;32melse\u001b[0m\u001b[1;33m:\u001b[0m\u001b[1;33m\u001b[0m\u001b[1;33m\u001b[0m\u001b[0m\n\u001b[0;32m     20\u001b[0m                 \u001b[1;32mraise\u001b[0m \u001b[0mIndexError\u001b[0m\u001b[1;33m(\u001b[0m\u001b[1;34m\"No such index\"\u001b[0m\u001b[1;33m)\u001b[0m\u001b[1;33m\u001b[0m\u001b[1;33m\u001b[0m\u001b[0m\n",
      "\u001b[1;32m<ipython-input-17-d8b3c546ad9a>\u001b[0m in \u001b[0;36m__getitem__\u001b[1;34m(self, index)\u001b[0m\n\u001b[0;32m     16\u001b[0m         \u001b[1;32melse\u001b[0m\u001b[1;33m:\u001b[0m\u001b[1;33m\u001b[0m\u001b[1;33m\u001b[0m\u001b[0m\n\u001b[0;32m     17\u001b[0m             \u001b[1;32mif\u001b[0m \u001b[0mself\u001b[0m\u001b[1;33m.\u001b[0m\u001b[0mnext\u001b[0m\u001b[1;33m:\u001b[0m\u001b[1;33m\u001b[0m\u001b[1;33m\u001b[0m\u001b[0m\n\u001b[1;32m---> 18\u001b[1;33m                 \u001b[1;32mreturn\u001b[0m \u001b[0mself\u001b[0m\u001b[1;33m.\u001b[0m\u001b[0mnext\u001b[0m\u001b[1;33m[\u001b[0m\u001b[0mindex\u001b[0m\u001b[1;33m]\u001b[0m\u001b[1;33m\u001b[0m\u001b[1;33m\u001b[0m\u001b[0m\n\u001b[0m\u001b[0;32m     19\u001b[0m             \u001b[1;32melse\u001b[0m\u001b[1;33m:\u001b[0m\u001b[1;33m\u001b[0m\u001b[1;33m\u001b[0m\u001b[0m\n\u001b[0;32m     20\u001b[0m                 \u001b[1;32mraise\u001b[0m \u001b[0mIndexError\u001b[0m\u001b[1;33m(\u001b[0m\u001b[1;34m\"No such index\"\u001b[0m\u001b[1;33m)\u001b[0m\u001b[1;33m\u001b[0m\u001b[1;33m\u001b[0m\u001b[0m\n",
      "\u001b[1;32m<ipython-input-17-d8b3c546ad9a>\u001b[0m in \u001b[0;36m__getitem__\u001b[1;34m(self, index)\u001b[0m\n\u001b[0;32m     18\u001b[0m                 \u001b[1;32mreturn\u001b[0m \u001b[0mself\u001b[0m\u001b[1;33m.\u001b[0m\u001b[0mnext\u001b[0m\u001b[1;33m[\u001b[0m\u001b[0mindex\u001b[0m\u001b[1;33m]\u001b[0m\u001b[1;33m\u001b[0m\u001b[1;33m\u001b[0m\u001b[0m\n\u001b[0;32m     19\u001b[0m             \u001b[1;32melse\u001b[0m\u001b[1;33m:\u001b[0m\u001b[1;33m\u001b[0m\u001b[1;33m\u001b[0m\u001b[0m\n\u001b[1;32m---> 20\u001b[1;33m                 \u001b[1;32mraise\u001b[0m \u001b[0mIndexError\u001b[0m\u001b[1;33m(\u001b[0m\u001b[1;34m\"No such index\"\u001b[0m\u001b[1;33m)\u001b[0m\u001b[1;33m\u001b[0m\u001b[1;33m\u001b[0m\u001b[0m\n\u001b[0m",
      "\u001b[1;31mIndexError\u001b[0m: No such index"
     ]
    }
   ],
   "source": [
    "print(my_list[3])"
   ]
  },
  {
   "cell_type": "code",
   "execution_count": 24,
   "metadata": {},
   "outputs": [],
   "source": [
    "# Good, now we can acces it's elements. Now would be nice de get it's length."
   ]
  },
  {
   "cell_type": "code",
   "execution_count": null,
   "metadata": {},
   "outputs": [],
   "source": [
    "# Usually when len() is called on a data structure, then it's firstly check if it has the \n",
    "# _len__ function implemented, if yes then its is called."
   ]
  },
  {
   "cell_type": "code",
   "execution_count": 25,
   "metadata": {},
   "outputs": [
    {
     "ename": "TypeError",
     "evalue": "object of type 'node' has no len()",
     "output_type": "error",
     "traceback": [
      "\u001b[1;31m---------------------------------------------------------------------------\u001b[0m",
      "\u001b[1;31mTypeError\u001b[0m                                 Traceback (most recent call last)",
      "\u001b[1;32m<ipython-input-25-3d76880b75a0>\u001b[0m in \u001b[0;36m<module>\u001b[1;34m\u001b[0m\n\u001b[1;32m----> 1\u001b[1;33m \u001b[0mlen\u001b[0m\u001b[1;33m(\u001b[0m\u001b[0mmy_list\u001b[0m\u001b[1;33m)\u001b[0m\u001b[1;33m\u001b[0m\u001b[1;33m\u001b[0m\u001b[0m\n\u001b[0m",
      "\u001b[1;31mTypeError\u001b[0m: object of type 'node' has no len()"
     ]
    }
   ],
   "source": [
    "len(my_list)"
   ]
  },
  {
   "cell_type": "code",
   "execution_count": 26,
   "metadata": {},
   "outputs": [],
   "source": [
    "# As you see in the example above, now my_list/node doesn't have len(), so we must add it.\n",
    "# There are 2 ways, making a counter and every type to go throw every element until an\n",
    "# error raises or to create and internal counter of values."
   ]
  },
  {
   "cell_type": "code",
   "execution_count": 27,
   "metadata": {},
   "outputs": [],
   "source": [
    "# We will go to the second approach."
   ]
  },
  {
   "cell_type": "code",
   "execution_count": 30,
   "metadata": {},
   "outputs": [],
   "source": [
    "class node:\n",
    "    def __init__(self, value, index=0, length = 1):\n",
    "        self.value = value\n",
    "        self.index = index\n",
    "        self.length = length\n",
    "        self.next = None\n",
    "    \n",
    "    def append(self, value):\n",
    "        self.length += 1\n",
    "        if self.next is None:\n",
    "            self.next = node(value, self.index+1, self.length + 1)\n",
    "        else:\n",
    "            self.next.append(value)\n",
    "    \n",
    "    def __getitem__(self, index):\n",
    "        if index == self.index:\n",
    "            return self.value\n",
    "        else:\n",
    "            if self.next:\n",
    "                return self.next[index]\n",
    "            else:\n",
    "                raise IndexError(\"No such index\")\n",
    "    \n",
    "    def __len__(self):\n",
    "        return self.length"
   ]
  },
  {
   "cell_type": "code",
   "execution_count": 31,
   "metadata": {},
   "outputs": [
    {
     "name": "stdout",
     "output_type": "stream",
     "text": [
      "1\n",
      "2\n",
      "3\n"
     ]
    }
   ],
   "source": [
    "my_list = node(1)\n",
    "print(len(my_list))\n",
    "my_list.append(2)\n",
    "print(len(my_list))\n",
    "my_list.append(3)\n",
    "print(len(my_list))"
   ]
  },
  {
   "cell_type": "code",
   "execution_count": 32,
   "metadata": {},
   "outputs": [
    {
     "name": "stdout",
     "output_type": "stream",
     "text": [
      "5\n"
     ]
    }
   ],
   "source": [
    "my_list.append(4)\n",
    "my_list.append(4)\n",
    "print(len(my_list))"
   ]
  },
  {
   "cell_type": "code",
   "execution_count": 33,
   "metadata": {},
   "outputs": [
    {
     "name": "stdout",
     "output_type": "stream",
     "text": [
      "1\n",
      "2\n",
      "3\n",
      "4\n",
      "4\n"
     ]
    }
   ],
   "source": [
    "# It works, now we can iterat throw it as we do with normal lists\n",
    "for i in range(len(my_list)):\n",
    "    print(my_list[i])"
   ]
  },
  {
   "cell_type": "code",
   "execution_count": null,
   "metadata": {},
   "outputs": [],
   "source": [
    "# good."
   ]
  },
  {
   "cell_type": "code",
   "execution_count": 35,
   "metadata": {},
   "outputs": [],
   "source": [
    "# Unfortunately becouse of the architecture that we use to build the list, we cannot add\n",
    "# the element iterations.\n",
    "# Let's add the concatenation using the __add__ function."
   ]
  },
  {
   "cell_type": "code",
   "execution_count": 138,
   "metadata": {},
   "outputs": [],
   "source": [
    "from copy import deepcopy\n",
    "class node:\n",
    "    def __init__(self, value, index=0, length = 1):\n",
    "        self.value = value\n",
    "        self.index = index\n",
    "        self.length = length\n",
    "        self.next = None\n",
    "    \n",
    "    def append(self, value):\n",
    "        self.length += 1\n",
    "        if self.next is None:\n",
    "            self.next = node(value, self.index+1, self.length + 1)\n",
    "        else:\n",
    "            self.next.append(value)\n",
    "    \n",
    "    def __getitem__(self, index):\n",
    "        if index == self.index:\n",
    "            return self.value\n",
    "        else:\n",
    "            if self.next:\n",
    "                return self.next[index]\n",
    "            else:\n",
    "                raise IndexError(\"No such index\")\n",
    "    \n",
    "    def __len__(self):\n",
    "        return self.length\n",
    "    \n",
    "    def __add__(self, element):\n",
    "        if isinstance(element, node):\n",
    "            if self.index < self.length - 1:\n",
    "                new_list = deepcopy(self)\n",
    "                for i in range(len(element)):\n",
    "                    new_list.append(element[i])\n",
    "                return new_list\n",
    "            else:\n",
    "                if self.next:\n",
    "                    return self.next.__add__(element)\n",
    "        else:\n",
    "            raise ValueError(\"Can'c Concatenate\")"
   ]
  },
  {
   "cell_type": "code",
   "execution_count": 139,
   "metadata": {},
   "outputs": [],
   "source": [
    "# Creatting 2 lists\n",
    "my_list = node(1)\n",
    "my_list.append(2)\n",
    "my_list.append(3)\n",
    "second = node(1)\n",
    "second.append(2)\n",
    "second.append(3)"
   ]
  },
  {
   "cell_type": "code",
   "execution_count": 140,
   "metadata": {},
   "outputs": [],
   "source": [
    "# Creatting the third list\n",
    "new_list = my_list + second"
   ]
  },
  {
   "cell_type": "code",
   "execution_count": 141,
   "metadata": {},
   "outputs": [
    {
     "name": "stdout",
     "output_type": "stream",
     "text": [
      "1\n",
      "2\n",
      "3\n",
      "1\n",
      "2\n",
      "3\n"
     ]
    }
   ],
   "source": [
    "# Itearating throw the list\n",
    "for i in range(len(new_list)):\n",
    "    print(new_list[i])"
   ]
  },
  {
   "cell_type": "code",
   "execution_count": 143,
   "metadata": {},
   "outputs": [
    {
     "name": "stdout",
     "output_type": "stream",
     "text": [
      "1\n",
      "2\n",
      "3\n"
     ]
    }
   ],
   "source": [
    "# Iterating throw the old list\n",
    "for i in range(len(my_list)):\n",
    "    print(my_list[i])"
   ]
  },
  {
   "cell_type": "code",
   "execution_count": 145,
   "metadata": {},
   "outputs": [],
   "source": [
    "# Now let's add the ability to print the whole list"
   ]
  },
  {
   "cell_type": "code",
   "execution_count": 146,
   "metadata": {},
   "outputs": [],
   "source": [
    "from copy import deepcopy\n",
    "class node:\n",
    "    def __init__(self, value, index=0, length = 1):\n",
    "        self.value = value\n",
    "        self.index = index\n",
    "        self.length = length\n",
    "        self.repr = str(value)\n",
    "        self.next = None\n",
    "    \n",
    "    def append(self, value):\n",
    "        self.length += 1\n",
    "        self.repr += f\", {value}\"\n",
    "        if self.next is None:\n",
    "            self.next = node(value, self.index+1, self.length + 1)\n",
    "        else:\n",
    "            self.next.append(value)\n",
    "    \n",
    "    def __getitem__(self, index):\n",
    "        if index == self.index:\n",
    "            return self.value\n",
    "        else:\n",
    "            if self.next:\n",
    "                return self.next[index]\n",
    "            else:\n",
    "                raise IndexError(\"No such index\")\n",
    "    \n",
    "    def __len__(self):\n",
    "        return self.length\n",
    "    \n",
    "    def __add__(self, element):\n",
    "        if isinstance(element, node):\n",
    "            if self.index < self.length - 1:\n",
    "                new_list = deepcopy(self)\n",
    "                for i in range(len(element)):\n",
    "                    new_list.append(element[i])\n",
    "                return new_list\n",
    "            else:\n",
    "                if self.next:\n",
    "                    return self.next.__add__(element)\n",
    "        else:\n",
    "            raise ValueError(\"Can'c Concatenate\")\n",
    "    \n",
    "    def __repr__(self):\n",
    "        return f\"[{self.repr}]\""
   ]
  },
  {
   "cell_type": "code",
   "execution_count": 147,
   "metadata": {},
   "outputs": [],
   "source": [
    "# Testing the __repr__ function"
   ]
  },
  {
   "cell_type": "code",
   "execution_count": 148,
   "metadata": {},
   "outputs": [],
   "source": [
    "my_list = node(1)\n",
    "my_list.append(2)\n",
    "my_list.append(3)"
   ]
  },
  {
   "cell_type": "code",
   "execution_count": 149,
   "metadata": {},
   "outputs": [
    {
     "name": "stdout",
     "output_type": "stream",
     "text": [
      "[1, 2, 3]\n"
     ]
    }
   ],
   "source": [
    "print(my_list)"
   ]
  },
  {
   "cell_type": "code",
   "execution_count": 150,
   "metadata": {},
   "outputs": [
    {
     "data": {
      "text/plain": [
       "[1, 2, 3]"
      ]
     },
     "execution_count": 150,
     "metadata": {},
     "output_type": "execute_result"
    }
   ],
   "source": [
    "my_list"
   ]
  },
  {
   "cell_type": "code",
   "execution_count": 302,
   "metadata": {},
   "outputs": [],
   "source": [
    "from copy import deepcopy\n",
    "class node:\n",
    "    def __init__(self, value, index=0, length = 1):\n",
    "        self.value = value\n",
    "        self.index = index\n",
    "        self.length = length\n",
    "        self.repr = str(value)\n",
    "        self.next = None\n",
    "    \n",
    "    def append(self, value):\n",
    "        self.length += 1\n",
    "        self.repr += f\", {value}\"\n",
    "        if self.next is None:\n",
    "            self.next = node(value, self.index+1, self.length + 1)\n",
    "        else:\n",
    "            self.next.append(value)\n",
    "    \n",
    "    def __getitem__(self, index):\n",
    "        if index == self.index:\n",
    "            return self.value\n",
    "        else:\n",
    "            if self.next:\n",
    "                return self.next[index]\n",
    "            else:\n",
    "                raise IndexError(\"No such index\")\n",
    "    \n",
    "    def __len__(self):\n",
    "        return self.length\n",
    "    \n",
    "    def __add__(self, element):\n",
    "        if isinstance(element, node):\n",
    "            if self.index < self.length - 1:\n",
    "                new_list = deepcopy(self)\n",
    "                for i in range(len(element)):\n",
    "                    new_list.append(element[i])\n",
    "                return new_list\n",
    "            else:\n",
    "                if self.next:\n",
    "                    return self.next.__add__(element)\n",
    "        else:\n",
    "            raise ValueError(\"Can'c Concatenate\")\n",
    "    \n",
    "    def __repr__(self):\n",
    "        return f\"[{self.repr}]\"\n",
    "    \n",
    "    def __pop(self):\n",
    "        if self.next.next is None:\n",
    "            self.repr = self.repr.replace(f', {self.value}', '', 1)\n",
    "            self.value = self.next.value\n",
    "            self.next = None\n",
    "        else:\n",
    "            self.repr = self.repr.replace(f', {self.value}', '', 1)\n",
    "            self.length -= 1\n",
    "            self.value = self.next.value\n",
    "            self.next.__pop()\n",
    "        \n",
    "    def pop(self, index):\n",
    "        if index >= self.length or index < 0:\n",
    "            raise IndexError(\"No such index\")\n",
    "        elif index == self.index:\n",
    "            self.length -= 1\n",
    "            self.repr = self.repr.replace(f', {self.value}', '', 1)\n",
    "            self.value = self.next.value\n",
    "            self.next.__pop()\n",
    "        else:\n",
    "            self.length -=1\n",
    "            self.repr = self.repr.replace(f', {self[index]}', '', 1)\n",
    "            self.next.pop(index)"
   ]
  },
  {
   "cell_type": "code",
   "execution_count": 303,
   "metadata": {},
   "outputs": [],
   "source": [
    "my_list = node(1)\n",
    "my_list.append(2)\n",
    "my_list.append(3)\n",
    "my_list.append(2)\n",
    "my_list.append(3)"
   ]
  },
  {
   "cell_type": "code",
   "execution_count": 304,
   "metadata": {},
   "outputs": [],
   "source": [
    "my_list.pop(1)"
   ]
  },
  {
   "cell_type": "code",
   "execution_count": 305,
   "metadata": {},
   "outputs": [
    {
     "data": {
      "text/plain": [
       "[1, 3, 2, 3]"
      ]
     },
     "execution_count": 305,
     "metadata": {},
     "output_type": "execute_result"
    }
   ],
   "source": [
    "my_list"
   ]
  },
  {
   "cell_type": "code",
   "execution_count": 306,
   "metadata": {},
   "outputs": [
    {
     "data": {
      "text/plain": [
       "4"
      ]
     },
     "execution_count": 306,
     "metadata": {},
     "output_type": "execute_result"
    }
   ],
   "source": [
    "my_list.length"
   ]
  },
  {
   "cell_type": "code",
   "execution_count": 307,
   "metadata": {},
   "outputs": [
    {
     "data": {
      "text/plain": [
       "[1, 3, 2, 3]"
      ]
     },
     "execution_count": 307,
     "metadata": {},
     "output_type": "execute_result"
    }
   ],
   "source": [
    "my_list"
   ]
  },
  {
   "cell_type": "code",
   "execution_count": null,
   "metadata": {},
   "outputs": [],
   "source": []
  }
 ],
 "metadata": {
  "kernelspec": {
   "display_name": "Python 3",
   "language": "python",
   "name": "python3"
  },
  "language_info": {
   "codemirror_mode": {
    "name": "ipython",
    "version": 3
   },
   "file_extension": ".py",
   "mimetype": "text/x-python",
   "name": "python",
   "nbconvert_exporter": "python",
   "pygments_lexer": "ipython3",
   "version": "3.9.2"
  }
 },
 "nbformat": 4,
 "nbformat_minor": 4
}
