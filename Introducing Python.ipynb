{
 "cells": [
  {
   "cell_type": "code",
   "execution_count": 2,
   "id": "hybrid-organic",
   "metadata": {},
   "outputs": [],
   "source": [
    "song = \"\"\"When an eel grabs your arm,\n",
    "And it causes great harm,\n",
    "That's - a moray!\"\"\""
   ]
  },
  {
   "cell_type": "code",
   "execution_count": 3,
   "id": "narrow-contact",
   "metadata": {},
   "outputs": [
    {
     "name": "stdout",
     "output_type": "stream",
     "text": [
      "When an eel grabs your arm,\n",
      "And it causes great harm,\n",
      "That's - a moray!\n"
     ]
    }
   ],
   "source": [
    "print(song)"
   ]
  },
  {
   "cell_type": "code",
   "execution_count": 7,
   "id": "furnished-advisory",
   "metadata": {},
   "outputs": [],
   "source": [
    "song = song.replace(' m', ' M')"
   ]
  },
  {
   "cell_type": "code",
   "execution_count": 8,
   "id": "danish-north",
   "metadata": {},
   "outputs": [
    {
     "name": "stdout",
     "output_type": "stream",
     "text": [
      "When an eel grabs your arm,\n",
      "And it causes great harm,\n",
      "That's - a Moray!\n"
     ]
    }
   ],
   "source": [
    "print(song)"
   ]
  },
  {
   "cell_type": "code",
   "execution_count": null,
   "id": "asian-destination",
   "metadata": {},
   "outputs": [],
   "source": [
    "# Loops with while and for"
   ]
  },
  {
   "cell_type": "code",
   "execution_count": 1,
   "id": "amended-italian",
   "metadata": {},
   "outputs": [
    {
     "name": "stdout",
     "output_type": "stream",
     "text": [
      "String to capitalize [type q to quit]: abn\n",
      "Abn\n",
      "String to capitalize [type q to quit]: 123\n",
      "123\n",
      "String to capitalize [type q to quit]: !\n",
      "!\n",
      "String to capitalize [type q to quit]: q\n"
     ]
    }
   ],
   "source": [
    "while True:\n",
    "    stuff = input(\"String to capitalize [type q to quit]: \")\n",
    "    if stuff == 'q':\n",
    "        break\n",
    "    print(stuff.capitalize())"
   ]
  },
  {
   "cell_type": "code",
   "execution_count": 5,
   "id": "ideal-order",
   "metadata": {},
   "outputs": [
    {
     "name": "stdout",
     "output_type": "stream",
     "text": [
      "Integer, please [q to quit]: 1\n",
      "1 squared is 1\n",
      "Integer, please [q to quit]: 2\n",
      "Integer, please [q to quit]: 3\n",
      "3 squared is 9\n",
      "Integer, please [q to quit]: 5\n",
      "5 squared is 25\n",
      "Integer, please [q to quit]: 9\n",
      "9 squared is 81\n",
      "Integer, please [q to quit]: 0\n",
      "Integer, please [q to quit]: -255\n",
      "-255 squared is 65025\n",
      "Integer, please [q to quit]: q\n"
     ]
    }
   ],
   "source": [
    "while True:\n",
    "    value = input(\"Integer, please [q to quit]: \")\n",
    "    if value == 'q':\n",
    "        break\n",
    "    number = int(value)\n",
    "    if number % 2 == 0: # an even number\n",
    "        continue\n",
    "    print(number, \"squared is\", number * number)"
   ]
  },
  {
   "cell_type": "code",
   "execution_count": 2,
   "id": "searching-lesson",
   "metadata": {},
   "outputs": [
    {
     "name": "stdout",
     "output_type": "stream",
     "text": [
      "Found even number 4\n"
     ]
    }
   ],
   "source": [
    "numbers = [1, 3, 4]\n",
    "position = 0\n",
    "while position < len(numbers):\n",
    "    number = numbers[position]\n",
    "    if number % 2 == 0:\n",
    "        print('Found even number', number)\n",
    "        break\n",
    "    position += 1\n",
    "else: # break not called\n",
    "    print('No even number found')"
   ]
  },
  {
   "cell_type": "code",
   "execution_count": 5,
   "id": "beneficial-beach",
   "metadata": {},
   "outputs": [
    {
     "name": "stdout",
     "output_type": "stream",
     "text": [
      "2\n"
     ]
    }
   ],
   "source": [
    "word = 'fungus'\n",
    "count = 0\n",
    "for letter in word:\n",
    "    if letter == 'u':\n",
    "        count+=1\n",
    "print(count)"
   ]
  },
  {
   "cell_type": "code",
   "execution_count": 7,
   "id": "original-guitar",
   "metadata": {},
   "outputs": [
    {
     "data": {
      "text/plain": [
       "[3, 2, 1, 0]"
      ]
     },
     "execution_count": 7,
     "metadata": {},
     "output_type": "execute_result"
    }
   ],
   "source": [
    "list(range(3, -1, -1))"
   ]
  },
  {
   "cell_type": "code",
   "execution_count": 8,
   "id": "enhanced-yacht",
   "metadata": {},
   "outputs": [
    {
     "name": "stdout",
     "output_type": "stream",
     "text": [
      "Too low\n",
      "Too high\n"
     ]
    }
   ],
   "source": [
    "guess_me = 7\n",
    "number = 1\n",
    "while True:\n",
    "    if number < guess_me:\n",
    "        print('Too low')\n",
    "        number += 7\n",
    "        continue\n",
    "    elif number > guess_me:\n",
    "        print('Too high')\n",
    "        break\n",
    "    else:\n",
    "        print('Found it')\n",
    "        break\n",
    "    "
   ]
  },
  {
   "cell_type": "code",
   "execution_count": 11,
   "id": "indie-microphone",
   "metadata": {},
   "outputs": [
    {
     "name": "stdout",
     "output_type": "stream",
     "text": [
      "Too low\n",
      "Too low\n",
      "Too high\n"
     ]
    }
   ],
   "source": [
    "guess_me = 5\n",
    "for number in range(1, 10, 3):\n",
    "    if number < guess_me:\n",
    "        print('Too low')\n",
    "        continue\n",
    "    elif number > guess_me:\n",
    "        print('Too high')\n",
    "        break\n",
    "    else:\n",
    "        print('Found it')\n",
    "        break"
   ]
  },
  {
   "cell_type": "code",
   "execution_count": 1,
   "id": "labeled-ranking",
   "metadata": {},
   "outputs": [],
   "source": [
    "# Tuples and lists"
   ]
  },
  {
   "cell_type": "code",
   "execution_count": 1,
   "id": "nervous-administration",
   "metadata": {},
   "outputs": [],
   "source": [
    "numbers = 'one', 'two', 'three'"
   ]
  },
  {
   "cell_type": "code",
   "execution_count": 2,
   "id": "daily-advisory",
   "metadata": {},
   "outputs": [
    {
     "data": {
      "text/plain": [
       "('one', 'two', 'three')"
      ]
     },
     "execution_count": 2,
     "metadata": {},
     "output_type": "execute_result"
    }
   ],
   "source": [
    "numbers"
   ]
  },
  {
   "cell_type": "code",
   "execution_count": 3,
   "id": "gorgeous-level",
   "metadata": {},
   "outputs": [
    {
     "data": {
      "text/plain": [
       "'one'"
      ]
     },
     "execution_count": 3,
     "metadata": {},
     "output_type": "execute_result"
    }
   ],
   "source": [
    "numbers[0]"
   ]
  },
  {
   "cell_type": "code",
   "execution_count": 5,
   "id": "finished-citizen",
   "metadata": {},
   "outputs": [
    {
     "data": {
      "text/plain": [
       "tuple"
      ]
     },
     "execution_count": 5,
     "metadata": {},
     "output_type": "execute_result"
    }
   ],
   "source": [
    "type(numbers)"
   ]
  },
  {
   "cell_type": "code",
   "execution_count": 6,
   "id": "hazardous-gasoline",
   "metadata": {},
   "outputs": [
    {
     "ename": "TypeError",
     "evalue": "'tuple' object does not support item assignment",
     "output_type": "error",
     "traceback": [
      "\u001b[1;31m---------------------------------------------------------------------------\u001b[0m",
      "\u001b[1;31mTypeError\u001b[0m                                 Traceback (most recent call last)",
      "\u001b[1;32m<ipython-input-6-5179631f8a7a>\u001b[0m in \u001b[0;36m<module>\u001b[1;34m\u001b[0m\n\u001b[1;32m----> 1\u001b[1;33m \u001b[0mnumbers\u001b[0m\u001b[1;33m[\u001b[0m\u001b[1;36m0\u001b[0m\u001b[1;33m]\u001b[0m \u001b[1;33m=\u001b[0m \u001b[1;34m'five'\u001b[0m\u001b[1;33m\u001b[0m\u001b[1;33m\u001b[0m\u001b[0m\n\u001b[0m",
      "\u001b[1;31mTypeError\u001b[0m: 'tuple' object does not support item assignment"
     ]
    }
   ],
   "source": [
    "numbers[0] = 'five'"
   ]
  },
  {
   "cell_type": "code",
   "execution_count": 7,
   "id": "similar-integrity",
   "metadata": {},
   "outputs": [],
   "source": [
    "numbers = ['one', 'two', 'three']"
   ]
  },
  {
   "cell_type": "code",
   "execution_count": 8,
   "id": "applicable-battle",
   "metadata": {},
   "outputs": [
    {
     "data": {
      "text/plain": [
       "list"
      ]
     },
     "execution_count": 8,
     "metadata": {},
     "output_type": "execute_result"
    }
   ],
   "source": [
    "type(numbers)"
   ]
  },
  {
   "cell_type": "code",
   "execution_count": 9,
   "id": "musical-production",
   "metadata": {},
   "outputs": [],
   "source": [
    "numbers.append('four')"
   ]
  },
  {
   "cell_type": "code",
   "execution_count": 10,
   "id": "fabulous-vermont",
   "metadata": {},
   "outputs": [
    {
     "data": {
      "text/plain": [
       "['one', 'two', 'three', 'four']"
      ]
     },
     "execution_count": 10,
     "metadata": {},
     "output_type": "execute_result"
    }
   ],
   "source": [
    "numbers"
   ]
  },
  {
   "cell_type": "code",
   "execution_count": 11,
   "id": "black-lindsay",
   "metadata": {},
   "outputs": [
    {
     "data": {
      "text/plain": [
       "'four'"
      ]
     },
     "execution_count": 11,
     "metadata": {},
     "output_type": "execute_result"
    }
   ],
   "source": [
    "numbers.pop()"
   ]
  },
  {
   "cell_type": "code",
   "execution_count": 12,
   "id": "crucial-subdivision",
   "metadata": {},
   "outputs": [
    {
     "data": {
      "text/plain": [
       "['one', 'two', 'three']"
      ]
     },
     "execution_count": 12,
     "metadata": {},
     "output_type": "execute_result"
    }
   ],
   "source": [
    "numbers"
   ]
  },
  {
   "cell_type": "code",
   "execution_count": 13,
   "id": "structured-tobago",
   "metadata": {},
   "outputs": [],
   "source": [
    "numbers.remove('two')"
   ]
  },
  {
   "cell_type": "code",
   "execution_count": 14,
   "id": "continuous-czech",
   "metadata": {},
   "outputs": [
    {
     "data": {
      "text/plain": [
       "['one', 'three']"
      ]
     },
     "execution_count": 14,
     "metadata": {},
     "output_type": "execute_result"
    }
   ],
   "source": [
    "numbers"
   ]
  },
  {
   "cell_type": "code",
   "execution_count": 15,
   "id": "norwegian-coast",
   "metadata": {},
   "outputs": [],
   "source": [
    "numbers = ['one', 'two', 'three', 'four']"
   ]
  },
  {
   "cell_type": "code",
   "execution_count": 23,
   "id": "deluxe-preference",
   "metadata": {},
   "outputs": [
    {
     "data": {
      "text/plain": [
       "[]"
      ]
     },
     "execution_count": 23,
     "metadata": {},
     "output_type": "execute_result"
    }
   ],
   "source": [
    "new_numbers"
   ]
  },
  {
   "cell_type": "code",
   "execution_count": 25,
   "id": "robust-identification",
   "metadata": {},
   "outputs": [],
   "source": [
    "for number in numbers:\n",
    "    if 'o' in number:\n",
    "        new_numbers.append(number)"
   ]
  },
  {
   "cell_type": "code",
   "execution_count": 26,
   "id": "organizational-toyota",
   "metadata": {},
   "outputs": [
    {
     "data": {
      "text/plain": [
       "['one', 'two', 'four']"
      ]
     },
     "execution_count": 26,
     "metadata": {},
     "output_type": "execute_result"
    }
   ],
   "source": [
    "new_numbers"
   ]
  },
  {
   "cell_type": "code",
   "execution_count": null,
   "id": "prerequisite-beauty",
   "metadata": {},
   "outputs": [],
   "source": []
  }
 ],
 "metadata": {
  "kernelspec": {
   "display_name": "Python 3",
   "language": "python",
   "name": "python3"
  },
  "language_info": {
   "codemirror_mode": {
    "name": "ipython",
    "version": 3
   },
   "file_extension": ".py",
   "mimetype": "text/x-python",
   "name": "python",
   "nbconvert_exporter": "python",
   "pygments_lexer": "ipython3",
   "version": "3.9.2"
  }
 },
 "nbformat": 4,
 "nbformat_minor": 5
}
