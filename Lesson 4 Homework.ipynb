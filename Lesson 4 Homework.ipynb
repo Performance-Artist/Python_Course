{
 "cells": [
  {
   "cell_type": "code",
   "execution_count": 7,
   "id": "legitimate-picture",
   "metadata": {},
   "outputs": [
    {
     "name": "stdout",
     "output_type": "stream",
     "text": [
      "The sum of the elements in a list is 55\n",
      "The product of the elements in a list is 3628800\n"
     ]
    }
   ],
   "source": [
    "# Lesson 4 Homework\n",
    "# The given list\n",
    "list = [1, 2, 3, 4, 5, 6, 7, 8, 9, 10]\n",
    "\n",
    "# The sum of the elements in a list\n",
    "sum = 0\n",
    "for element in list:\n",
    "    sum += element\n",
    "print(f\"The sum of the elements in a list is {sum}\")\n",
    "\n",
    "# The product of the elements in a list\n",
    "product = 1\n",
    "for element in list:\n",
    "    product *= element\n",
    "print(f\"The product of the elements in a list is {product}\")"
   ]
  },
  {
   "cell_type": "code",
   "execution_count": 16,
   "id": "conceptual-angola",
   "metadata": {},
   "outputs": [
    {
     "name": "stdout",
     "output_type": "stream",
     "text": [
      "Enter the dimension of a list: 5\n",
      "Enter the element: \n",
      "1\n",
      "Enter the element: \n",
      "2\n",
      "Enter the element: \n",
      "3\n",
      "Enter the element: \n",
      "4\n",
      "Enter the element: \n",
      "5\n",
      "List: [1, 2, 3, 4, 5]\n",
      "The sum of the elements in a list is 15\n",
      "The product of the elements in a list is 120\n"
     ]
    }
   ],
   "source": [
    "# You have to enter your own list\n",
    "list = []\n",
    "n = int(input(\"Enter the dimension of a list: \"))\n",
    "for element in range(n):\n",
    "    print(f\"Enter the element: \")\n",
    "    list.append(int(input()))\n",
    "print(f\"List: {list}\")\n",
    "\n",
    "# The sum of the elements in a list\n",
    "sum = 0\n",
    "for element in list:\n",
    "    sum += element\n",
    "print(f\"The sum of the elements in a list is {sum}\")\n",
    "\n",
    "# The product of the elements in a list\n",
    "product = 1\n",
    "for element in list:\n",
    "    product *= element\n",
    "print(f\"The product of the elements in a list is {product}\")"
   ]
  },
  {
   "cell_type": "code",
   "execution_count": null,
   "id": "interested-utility",
   "metadata": {},
   "outputs": [],
   "source": []
  }
 ],
 "metadata": {
  "kernelspec": {
   "display_name": "Python 3",
   "language": "python",
   "name": "python3"
  },
  "language_info": {
   "codemirror_mode": {
    "name": "ipython",
    "version": 3
   },
   "file_extension": ".py",
   "mimetype": "text/x-python",
   "name": "python",
   "nbconvert_exporter": "python",
   "pygments_lexer": "ipython3",
   "version": "3.9.1"
  }
 },
 "nbformat": 4,
 "nbformat_minor": 5
}
