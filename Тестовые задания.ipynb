{
 "cells": [
  {
   "cell_type": "code",
   "execution_count": null,
   "id": "subject-lucas",
   "metadata": {},
   "outputs": [],
   "source": [
    "# Даны две переменных с некоторыми значениями. Поменять местами значения этих переменных, \n",
    "# не используя дополнительных переменных.\n",
    "a = 2\n",
    "b = 3\n",
    "a = a + b\n",
    "b = a - b\n",
    "a = a - b\n",
    "print(f\"a = {a}, b = {b}\")"
   ]
  },
  {
   "cell_type": "code",
   "execution_count": null,
   "id": "brief-indie",
   "metadata": {},
   "outputs": [],
   "source": [
    "# Даны три переменные a, b и c. Изменить значения этих переменных так, чтобы в a хранилось значение a+b, \n",
    "# в b хранилась разность старых значений c−a, а в c хранилось сумма старых значений a+b+c. \n",
    "# Например, a=0, b=2, c=5, тогда новые значения a=2, b=3 и c=7.\n",
    "a = 0\n",
    "b = 2\n",
    "c = 5\n",
    "c = a + b + c\n",
    "a = a + b\n",
    "b = c - a - b\n",
    "\n",
    "print(f\"a = {a}, b = {b}, c = {c}\")"
   ]
  },
  {
   "cell_type": "code",
   "execution_count": null,
   "id": "royal-homework",
   "metadata": {},
   "outputs": [],
   "source": [
    "# Пользователь вводит количество секунд и получает количество часов, минут, секунд\n",
    "s = int(input(\"How many seconds? \"))\n",
    "print(f\"{s // 60 // 60} hours, {s // 60 % 60} minutes, {s % 60} seconds\")"
   ]
  },
  {
   "cell_type": "code",
   "execution_count": null,
   "id": "guided-belle",
   "metadata": {},
   "outputs": [],
   "source": [
    "# Даны три числа. Найnти наибольшее число из них.\n",
    "a = 2\n",
    "b = 3\n",
    "c = 4\n",
    "max = a\n",
    "if (b > a): max = b\n",
    "if (c > a): max = c\n",
    "print(max)"
   ]
  },
  {
   "cell_type": "code",
   "execution_count": null,
   "id": "surprised-vatican",
   "metadata": {
    "scrolled": true
   },
   "outputs": [],
   "source": [
    "# Вывести на экран таблицу умножения для чисел от 1 до 10.\n",
    "for i in range(1, 11):\n",
    "    for j in range(1, 11):\n",
    "        print(f\"{j} x {i} = {j * i}\")"
   ]
  },
  {
   "cell_type": "code",
   "execution_count": null,
   "id": "german-bunch",
   "metadata": {},
   "outputs": [],
   "source": [
    "# Найти сколько четырехзначных чисел делится на 13 и не делится на 2, 3 и 5\n",
    "count = 0\n",
    "for i in range(1001, 10000):\n",
    "    if (i % 13 == 0) and (i % 2 != 0) and (i % 3 != 0) and (i % 5 != 0):\n",
    "        count += 1\n",
    "print(count)"
   ]
  },
  {
   "cell_type": "code",
   "execution_count": null,
   "id": "short-company",
   "metadata": {},
   "outputs": [],
   "source": [
    "# Дано целое число N. Распечатать цифры данного числа в обратном порядке\n",
    "n = int(input(\"Введите число: \"))\n",
    "r = 0\n",
    "while (n != 0):\n",
    "    r = r * 10 + n % 10\n",
    "    n = n // 10\n",
    "print(f\"Обратное число: {r}\")"
   ]
  },
  {
   "cell_type": "code",
   "execution_count": null,
   "id": "confirmed-privacy",
   "metadata": {},
   "outputs": [],
   "source": [
    "# Проверить число на простоту\n",
    "n = int(input(\"Введите число: \"))\n",
    "count = 0\n",
    "for i in range(1, n+1):\n",
    "    if (n % i == 0): count += 1\n",
    "print(f\"{count} делителей\")\n",
    "if (count == 2): print(\"Простое число\")\n",
    "else: print(\"Составное число\")"
   ]
  },
  {
   "cell_type": "code",
   "execution_count": null,
   "id": "august-humanity",
   "metadata": {},
   "outputs": [],
   "source": [
    "# Найти НОД двух чисел\n",
    "a = int(input(\"Ввести число a: \"))\n",
    "b = int(input(\"Ввести число b: \"))\n",
    "while (a and b):\n",
    "    if (a > b):\n",
    "        a = a % b\n",
    "    else:\n",
    "        b = b % a\n",
    "print(f\"НОД: {a + b}\")"
   ]
  },
  {
   "cell_type": "code",
   "execution_count": null,
   "id": "macro-logging",
   "metadata": {},
   "outputs": [],
   "source": [
    "# Найти НОК двух чисел\n",
    "a = int(input(\"Ввести число a: \"))\n",
    "b = int(input(\"Ввести число b: \"))\n",
    "x = a\n",
    "y = b\n",
    "while (a and b):\n",
    "    if (a > b):\n",
    "        a = a % b\n",
    "    else:\n",
    "        b = b % a\n",
    "nok = (x * y) // (a + b)\n",
    "print(f\"НОК: {nok}\")"
   ]
  },
  {
   "cell_type": "code",
   "execution_count": null,
   "id": "cheap-reggae",
   "metadata": {},
   "outputs": [],
   "source": [
    "# Найти сумму цифр произвольного числа\n",
    "n = int(input(\"Введите число: \"))\n",
    "sum = 0\n",
    "while (n > 0):\n",
    "    sum += n % 10\n",
    "    n = n // 10\n",
    "print(f\"Сумма цифр числа: {sum}\")"
   ]
  },
  {
   "cell_type": "code",
   "execution_count": null,
   "id": "commercial-conflict",
   "metadata": {},
   "outputs": [],
   "source": [
    "# Найти максимальную нечетную цифру произвольного числа\n",
    "n = int(input(\"Введите число: \"))\n",
    "max = 0\n",
    "while (n > 0):\n",
    "    if (n % 2 != 0 and n % 10 >= max):\n",
    "        max = n % 10\n",
    "    n = n // 10\n",
    "if (max == 0):\n",
    "    print(\"Нет нечетных цифр\")\n",
    "else:\n",
    "    print(f\"Максимальная нечетная цифра: {max}\")"
   ]
  },
  {
   "cell_type": "code",
   "execution_count": null,
   "id": "future-republic",
   "metadata": {},
   "outputs": [],
   "source": [
    "# Найти количество четных цифр произвольного числа\n",
    "n = int(input(\"Введите число: \"))\n",
    "count = 0\n",
    "while (n > 0):\n",
    "    if (n % 2 == 0):\n",
    "        count +=1\n",
    "    n = n // 10\n",
    "print(f\"Количество четных цифр: {count}\")"
   ]
  },
  {
   "cell_type": "code",
   "execution_count": null,
   "id": "independent-acceptance",
   "metadata": {},
   "outputs": [],
   "source": [
    "# Определить, является ли заданное число палиндромом (число читается одинаково слева направо и наоборот)\n",
    "num = int(input(\"Введите число: \"))\n",
    "rev = 0\n",
    "while (num > 0):\n",
    "    dig = num % 10\n",
    "    rev = rev * 10 + dig\n",
    "    num = num // 10\n",
    "if (num == rev): print(\"Палиндром\")\n",
    "else: print(\"Не палиндром\")"
   ]
  },
  {
   "cell_type": "code",
   "execution_count": null,
   "id": "cardiac-stick",
   "metadata": {},
   "outputs": [],
   "source": [
    "# Натуральное число называется совершенным, если оно равно сумме всех своих делителей, не равных самому числу. \n",
    "# Найдите все совершенные числа до n числа включительно.\n",
    "n = int(input('Введите число: '))\n",
    "for i in range(2,n+1):\n",
    "    s = 0\n",
    "    for j in range(1,i):\n",
    "        if i%j == 0:\n",
    "            s += j\n",
    "    if s == i:\n",
    "        print(i)"
   ]
  },
  {
   "cell_type": "code",
   "execution_count": null,
   "id": "cathedral-creature",
   "metadata": {},
   "outputs": [],
   "source": [
    "# Проверить если заданное число является суммой кубов его цифр (число Армстронга)\n",
    "num = int(input(\"Enter the number: \"))\n",
    "\n",
    "# Changed num variable to string, \n",
    "# and calculated the length (number of digits)\n",
    "order = len(str(num))\n",
    "\n",
    "# initialize sum\n",
    "sum = 0\n",
    "\n",
    "# find the sum of the cube of each digit\n",
    "temp = num\n",
    "while temp > 0:\n",
    "   digit = temp % 10\n",
    "   sum += digit ** order\n",
    "   temp //= 10\n",
    "\n",
    "# display the result\n",
    "if num == sum:\n",
    "   print(num,\"is an Armstrong number\")\n",
    "else:\n",
    "   print(num,\"is not an Armstrong number\")\n"
   ]
  },
  {
   "cell_type": "code",
   "execution_count": null,
   "id": "assured-spread",
   "metadata": {},
   "outputs": [],
   "source": [
    "# Удалить все нечетные цифры произвольного числа\n",
    "n = int(input(\"Введите число: \"))\n",
    "temp = 0\n",
    "t = 0\n",
    "k = 1\n",
    "while(n > 0):\n",
    "    temp = n % 10\n",
    "    if temp % 2 == 0:\n",
    "        t += temp * k\n",
    "        k *= 10\n",
    "    n = n // 10\n",
    "n = t\n",
    "print(n)"
   ]
  },
  {
   "cell_type": "code",
   "execution_count": null,
   "id": "nutritional-geneva",
   "metadata": {},
   "outputs": [],
   "source": [
    "# Найти n-ое число Фибоначчи (с помощью рекурсии)\n",
    "def fib(n):\n",
    "    if n == 1 or n == 2:\n",
    "        return 1\n",
    "    else:\n",
    "        return fib(n - 1) + fib(n - 2)\n",
    "        \n",
    "n = int(input(\"Введите номер числа ряда Фибоначчи: \")) \n",
    "print(f\"Число Фибоначчи: {fib(n)}\")"
   ]
  },
  {
   "cell_type": "code",
   "execution_count": null,
   "id": "academic-fiction",
   "metadata": {},
   "outputs": [],
   "source": [
    "# Найти n-ое число Фибоначчи (с помощью цикла)\n",
    "def fib(n):\n",
    "    if n == 0:\n",
    "        print(n)\n",
    "    if n == 1:\n",
    "        print(n)\n",
    "    if n > 1:\n",
    "        a = 0\n",
    "        b = 1\n",
    "        for i in range(2, n+1):\n",
    "            c = a + b\n",
    "            a = b\n",
    "            b = c\n",
    "        print(c)\n",
    "\n",
    "n = int(input(\"Введите номер элемента ряда Фибоначчи: \"))\n",
    "fib(n)"
   ]
  },
  {
   "cell_type": "code",
   "execution_count": null,
   "id": "perfect-recovery",
   "metadata": {},
   "outputs": [],
   "source": [
    "# Вывести первые n элементов ряда Фибоначчи\n",
    "n = int(input(\"Введите количество элементов ряда Фибоначчи: \"))\n",
    "f1 = 1\n",
    "f2 = 1\n",
    "print(f1, f2, end=\" \")\n",
    "for i in range(3, n + 1):\n",
    "    print(f1 + f2, end = \" \")\n",
    "    b = f1\n",
    "    f1 = f2\n",
    "    f2 = b + f1"
   ]
  },
  {
   "cell_type": "code",
   "execution_count": null,
   "id": "chubby-customer",
   "metadata": {},
   "outputs": [],
   "source": [
    "# Найти сумму заданного количества чисел Фибоначчи\n",
    "def fibSeries(n):\n",
    "    if n == 0:\n",
    "        print(n)\n",
    "    if n == 1:\n",
    "        a = 0\n",
    "        b = 1\n",
    "        print(a, b, end=\" \")\n",
    "    if n > 1:\n",
    "        a = 0\n",
    "        b = 1\n",
    "        print(a, b, end=\" \")\n",
    "        for i in range(2, n+1):\n",
    "            c = a + b\n",
    "            a = b\n",
    "            b = c\n",
    "            print(c, end=\" \")\n",
    "\n",
    "\n",
    "def fibSum(n):\n",
    "    if n == 0 or n == 1:\n",
    "        print(n)\n",
    "    else:\n",
    "        sum = 0\n",
    "        a = 0\n",
    "        b = 1\n",
    "        sum = a + b\n",
    "        for i in range(2, n+1):\n",
    "            c = a + b\n",
    "            sum += c\n",
    "            a = b\n",
    "            b = c\n",
    "        print(f\"Сумма первых {n} элементов ряда Фибоначчи: {sum}\")\n",
    "\n",
    "\n",
    "n = int(input(\"Введите количество элементов ряда Фибоначчи: \"))\n",
    "fibSeries(n)\n",
    "print('\\r')\n",
    "fibSum(n)"
   ]
  },
  {
   "cell_type": "code",
   "execution_count": null,
   "id": "intermediate-permit",
   "metadata": {},
   "outputs": [],
   "source": [
    "# Вывести на консоль фигуры"
   ]
  },
  {
   "cell_type": "code",
   "execution_count": null,
   "id": "smaller-vehicle",
   "metadata": {},
   "outputs": [],
   "source": [
    "\"\"\"\n",
    "*\n",
    "**\n",
    "***\n",
    "****\n",
    "*****\n",
    "\"\"\"\n",
    "for i in range(0, 5):\n",
    "    for j in range(0, i+1):\n",
    "        print('*', end=\"\")\n",
    "    print(\"\\r\")"
   ]
  },
  {
   "cell_type": "code",
   "execution_count": null,
   "id": "posted-binding",
   "metadata": {},
   "outputs": [],
   "source": [
    "\"\"\"\n",
    "*****\n",
    "****\n",
    "***\n",
    "**\n",
    "*\n",
    "\"\"\"\n",
    "for i in range(5, 0, -1):\n",
    "    for j in range(0, i):\n",
    "        print('*', end=\"\")\n",
    "    print(\"\\r\")"
   ]
  },
  {
   "cell_type": "code",
   "execution_count": null,
   "id": "looking-holmes",
   "metadata": {},
   "outputs": [],
   "source": [
    "\"\"\"\n",
    "    *\n",
    "   **\n",
    "  ***\n",
    " ****\n",
    "*****\n",
    "\"\"\"\n",
    "for i in range(0, 5):\n",
    "    for j in range(0, 5):\n",
    "        if i+j >= 5-1: print('*', end=\"\")\n",
    "        else: print(\" \", end=\"\")\n",
    "    print(\"\\r\")"
   ]
  },
  {
   "cell_type": "code",
   "execution_count": null,
   "id": "structured-doctrine",
   "metadata": {},
   "outputs": [],
   "source": [
    "\"\"\"\n",
    "*****\n",
    " ****\n",
    "  ***\n",
    "   **\n",
    "    *\n",
    "\"\"\"\n",
    "for i in range(0, 5):\n",
    "    for j in range(0, 5):\n",
    "        if i <= j: print('*', end=\"\")\n",
    "        else: print(\" \", end=\"\")\n",
    "    print(\"\\r\")"
   ]
  },
  {
   "cell_type": "code",
   "execution_count": null,
   "id": "revised-glucose",
   "metadata": {},
   "outputs": [],
   "source": [
    "\"\"\"\n",
    "    *\n",
    "   ***\n",
    "  *****\n",
    " *******\n",
    "*********\n",
    "\"\"\"\n",
    "for i in range(0, 5):\n",
    "    for j in range(0, 5-i-1):\n",
    "        print(end=\" \")\n",
    "    for j in range(0, 2*i+1):\n",
    "        print('*', end=\"\")\n",
    "    print()"
   ]
  },
  {
   "cell_type": "code",
   "execution_count": null,
   "id": "historic-venture",
   "metadata": {},
   "outputs": [],
   "source": [
    "\"\"\"\n",
    "*********\n",
    " *******\n",
    "  *****\n",
    "   ***\n",
    "    *\n",
    "\"\"\"\n",
    "for i in range(5, 0, -1):\n",
    "    for j in range(0, 5-i):\n",
    "        print(end=\" \")\n",
    "    for j in range(0, 2*i-1):\n",
    "        print('*', end=\"\")\n",
    "    print()"
   ]
  },
  {
   "cell_type": "code",
   "execution_count": null,
   "id": "beautiful-working",
   "metadata": {},
   "outputs": [],
   "source": [
    "\"\"\"\n",
    "*\n",
    "**\n",
    "***\n",
    "****\n",
    "*****\n",
    "****\n",
    "***\n",
    "**\n",
    "*\n",
    "\"\"\"\n",
    "n = int(input(\"Enter a number of n: \"))\n",
    "for i in range(n):\n",
    "    print(\"* \"*(i+1))\n",
    "for i in range(n-1):\n",
    "    print(\"* \"*(n-i-1))"
   ]
  },
  {
   "cell_type": "code",
   "execution_count": null,
   "id": "ceramic-entity",
   "metadata": {},
   "outputs": [],
   "source": [
    "\"\"\"\n",
    "    *\n",
    "   **\n",
    "  ***\n",
    " ****\n",
    "*****\n",
    " ****\n",
    "  ***\n",
    "   **\n",
    "    *\n",
    "\"\"\"\n",
    "n = int(input(\"Enter a number of n: \"))\n",
    "for i in range(n):\n",
    "    print(\"  \"*(n-i-1)+\"* \"*(i+1))\n",
    "for i in range(n-1):\n",
    "    print(\"  \"*(i+1)+\"* \"*(n-i-1))"
   ]
  },
  {
   "cell_type": "code",
   "execution_count": null,
   "id": "fleet-elite",
   "metadata": {},
   "outputs": [],
   "source": [
    "\"\"\"\n",
    "    *\n",
    "   ***\n",
    "  *****\n",
    " *******\n",
    "*********\n",
    " *******\n",
    "  *****\n",
    "   ***\n",
    "    *\n",
    "\"\"\"\n",
    "n = int(input(\"Enter a number of n: \"))\n",
    "for i in range(n):\n",
    "    print(\" \"*(n-i-1) + \"*\"*(2*i+1))\n",
    "for j in range(n-1, 0, -1):\n",
    "    print(\" \"*(n-j) + \"*\"*(2*j-1))"
   ]
  },
  {
   "cell_type": "code",
   "execution_count": null,
   "id": "cheap-judgment",
   "metadata": {},
   "outputs": [],
   "source": [
    "\"\"\"\n",
    "      1\n",
    "     1 1\n",
    "    1 2 1\n",
    "   1 3 3 1\n",
    "  1 4 6 4 1\n",
    "\"\"\"\n",
    "n = int(input(\"Введите размер: \"))\n",
    "list1 = []\n",
    "for i in range(n):\n",
    "    temp_list = []\n",
    "    for j in range(i+1):\n",
    "        if j == 0 or j == i:\n",
    "            temp_list.append(1)\n",
    "        else:\n",
    "            temp_list.append(list1[i-1][j-1]+list1[i-1][j])\n",
    "    list1.append(temp_list)\n",
    "        \n",
    "for i in range(n):\n",
    "    for j in range(n-i-1):\n",
    "        print(format(\" \", \"<2\"), end=\"\")\n",
    "    for j in range(i+1):\n",
    "        print(format(list1[i][j], \"<3\"), end=\" \")\n",
    "    print()"
   ]
  },
  {
   "cell_type": "code",
   "execution_count": null,
   "id": "rocky-texture",
   "metadata": {},
   "outputs": [],
   "source": [
    "# Инвертировать одномерный массив\n",
    "list = [1,2,3,4,5]\n",
    "print(f\"Исходный массив: {list}\")\n",
    "for i in range(0, i < n/2):\n",
    "    temp = list[i]\n",
    "    list[i] = list[n-i-1]\n",
    "    list[n-i-1] = temp\n",
    "\n",
    "print(f\"Инвертированный массив: {list}\")"
   ]
  },
  {
   "cell_type": "code",
   "execution_count": 5,
   "id": "subsequent-representative",
   "metadata": {},
   "outputs": [
    {
     "ename": "SyntaxError",
     "evalue": "invalid syntax (<ipython-input-5-6be0cb672a28>, line 4)",
     "output_type": "error",
     "traceback": [
      "\u001b[1;36m  File \u001b[1;32m\"<ipython-input-5-6be0cb672a28>\"\u001b[1;36m, line \u001b[1;32m4\u001b[0m\n\u001b[1;33m    list = [::]\u001b[0m\n\u001b[1;37m            ^\u001b[0m\n\u001b[1;31mSyntaxError\u001b[0m\u001b[1;31m:\u001b[0m invalid syntax\n"
     ]
    }
   ],
   "source": [
    "list = [1, 2, 3, 4, 5]\n",
    "print(f\"Исходный массив: {list}\")\n",
    "#list.reverse()\n",
    "list = []\n",
    "print(f\"Инвертированный массив: {list}\")"
   ]
  },
  {
   "cell_type": "code",
   "execution_count": null,
   "id": "middle-skiing",
   "metadata": {},
   "outputs": [],
   "source": []
  }
 ],
 "metadata": {
  "kernelspec": {
   "display_name": "Python 3",
   "language": "python",
   "name": "python3"
  },
  "language_info": {
   "codemirror_mode": {
    "name": "ipython",
    "version": 3
   },
   "file_extension": ".py",
   "mimetype": "text/x-python",
   "name": "python",
   "nbconvert_exporter": "python",
   "pygments_lexer": "ipython3",
   "version": "3.9.1"
  }
 },
 "nbformat": 4,
 "nbformat_minor": 5
}
