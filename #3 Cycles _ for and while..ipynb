{
 "cells": [
  {
   "cell_type": "code",
   "execution_count": 1,
   "metadata": {},
   "outputs": [],
   "source": [
    "# Cycles: for and while."
   ]
  },
  {
   "cell_type": "code",
   "execution_count": 2,
   "metadata": {},
   "outputs": [
    {
     "data": {
      "text/plain": [
       "'\\nWhen you need to perform an action or set of actions more times, you must get use of cycles.\\nIn python there are 2 types of cicles, for and while.\\n'"
      ]
     },
     "execution_count": 2,
     "metadata": {},
     "output_type": "execute_result"
    }
   ],
   "source": [
    "'''\n",
    "When you need to perform an action or set of actions more times, you must get use of cycles.\n",
    "In python there are 2 types of cicles, for and while.\n",
    "'''"
   ]
  },
  {
   "cell_type": "code",
   "execution_count": 3,
   "metadata": {},
   "outputs": [],
   "source": [
    "# FOR"
   ]
  },
  {
   "cell_type": "code",
   "execution_count": 4,
   "metadata": {},
   "outputs": [],
   "source": [
    "# But before we will get to cycles we must first something to iterate throw.\n",
    "# Iterating throw is the process of going throw every of a part of elements of structure."
   ]
  },
  {
   "cell_type": "code",
   "execution_count": 5,
   "metadata": {},
   "outputs": [],
   "source": [
    "# before we will find what are data structures we will meet range"
   ]
  },
  {
   "cell_type": "code",
   "execution_count": 6,
   "metadata": {},
   "outputs": [
    {
     "data": {
      "text/plain": [
       "range(0, 10)"
      ]
     },
     "execution_count": 6,
     "metadata": {},
     "output_type": "execute_result"
    }
   ],
   "source": [
    "range(10)"
   ]
  },
  {
   "cell_type": "code",
   "execution_count": 7,
   "metadata": {},
   "outputs": [],
   "source": [
    "# Range generates a callable sequence of integers.\n",
    "# If we pass only one element than we will get all integers from 0 to n"
   ]
  },
  {
   "cell_type": "code",
   "execution_count": 8,
   "metadata": {},
   "outputs": [
    {
     "name": "stdout",
     "output_type": "stream",
     "text": [
      "0\n",
      "1\n",
      "2\n",
      "3\n",
      "4\n",
      "5\n",
      "6\n",
      "7\n",
      "8\n",
      "9\n"
     ]
    }
   ],
   "source": [
    "# TO show you the generated values we will use for:\n",
    "for i in range(10):\n",
    "    print(i)"
   ]
  },
  {
   "cell_type": "code",
   "execution_count": 9,
   "metadata": {},
   "outputs": [
    {
     "name": "stdout",
     "output_type": "stream",
     "text": [
      "1\n",
      "2\n",
      "3\n",
      "4\n",
      "5\n",
      "6\n",
      "7\n",
      "8\n"
     ]
    }
   ],
   "source": [
    "# If we pass 2 values, and first is smaller than the second one then range will generate the\n",
    "# sequence from first argument to the second on\n",
    "# If first element is grater than the second one, then we will get an empty range\n",
    "for i in range(1, 9):\n",
    "    print(i)"
   ]
  },
  {
   "cell_type": "code",
   "execution_count": 10,
   "metadata": {},
   "outputs": [],
   "source": [
    "# Also we can set-up the step of sequence"
   ]
  },
  {
   "cell_type": "code",
   "execution_count": 11,
   "metadata": {},
   "outputs": [
    {
     "name": "stdout",
     "output_type": "stream",
     "text": [
      "1\n",
      "3\n",
      "5\n",
      "7\n",
      "9\n"
     ]
    }
   ],
   "source": [
    "for i in range(1, 10, 2):\n",
    "    print(i)"
   ]
  },
  {
   "cell_type": "code",
   "execution_count": 12,
   "metadata": {},
   "outputs": [],
   "source": [
    "# To iterate reversly we must set the first ergument greater than the second one, and set a\n",
    "# negative step"
   ]
  },
  {
   "cell_type": "code",
   "execution_count": 13,
   "metadata": {},
   "outputs": [
    {
     "name": "stdout",
     "output_type": "stream",
     "text": [
      "10\n",
      "9\n",
      "8\n",
      "7\n",
      "6\n",
      "5\n",
      "4\n",
      "3\n",
      "2\n",
      "1\n"
     ]
    }
   ],
   "source": [
    "for i in range(10, 0, -1):\n",
    "    print(i)"
   ]
  },
  {
   "cell_type": "code",
   "execution_count": 14,
   "metadata": {},
   "outputs": [],
   "source": [
    "# EXERCIZE 1: Generate the multiplication table of 2:"
   ]
  },
  {
   "cell_type": "code",
   "execution_count": 15,
   "metadata": {},
   "outputs": [
    {
     "name": "stdout",
     "output_type": "stream",
     "text": [
      "2 x 0 = 0\n",
      "2 x 1 = 2\n",
      "2 x 2 = 4\n",
      "2 x 3 = 6\n",
      "2 x 4 = 8\n",
      "2 x 5 = 10\n",
      "2 x 6 = 12\n",
      "2 x 7 = 14\n",
      "2 x 8 = 16\n",
      "2 x 9 = 18\n",
      "2 x 10 = 20\n"
     ]
    }
   ],
   "source": [
    "for i in range(11):\n",
    "    print(\"2 x {} = {}\".format(i, i*2))"
   ]
  },
  {
   "cell_type": "code",
   "execution_count": 16,
   "metadata": {},
   "outputs": [
    {
     "name": "stdout",
     "output_type": "stream",
     "text": [
      "Mutliplication table of 1\n",
      "1 x 0 = 0\n",
      "1 x 1 = 1\n",
      "1 x 2 = 2\n",
      "1 x 3 = 3\n",
      "1 x 4 = 4\n",
      "1 x 5 = 5\n",
      "1 x 6 = 6\n",
      "1 x 7 = 7\n",
      "1 x 8 = 8\n",
      "1 x 9 = 9\n",
      "1 x 10 = 10\n",
      "Mutliplication table of 2\n",
      "2 x 0 = 0\n",
      "2 x 1 = 2\n",
      "2 x 2 = 4\n",
      "2 x 3 = 6\n",
      "2 x 4 = 8\n",
      "2 x 5 = 10\n",
      "2 x 6 = 12\n",
      "2 x 7 = 14\n",
      "2 x 8 = 16\n",
      "2 x 9 = 18\n",
      "2 x 10 = 20\n",
      "Mutliplication table of 3\n",
      "3 x 0 = 0\n",
      "3 x 1 = 3\n",
      "3 x 2 = 6\n",
      "3 x 3 = 9\n",
      "3 x 4 = 12\n",
      "3 x 5 = 15\n",
      "3 x 6 = 18\n",
      "3 x 7 = 21\n",
      "3 x 8 = 24\n",
      "3 x 9 = 27\n",
      "3 x 10 = 30\n"
     ]
    }
   ],
   "source": [
    "# EXERCISE 2: Generate the multiplication table of 1, 2 and 3:\n",
    "for i in range(1, 4):\n",
    "    print(f\"Mutliplication table of {i}\")\n",
    "    for j in range(11):\n",
    "        print(f\"{i} x {j} = {i*j}\")"
   ]
  },
  {
   "cell_type": "code",
   "execution_count": 18,
   "metadata": {},
   "outputs": [],
   "source": [
    "# Continue and break"
   ]
  },
  {
   "cell_type": "code",
   "execution_count": 19,
   "metadata": {},
   "outputs": [],
   "source": [
    "# Sometimes we must break or cicle or skip some value there we will be helped by\n",
    "# break and continue keywords."
   ]
  },
  {
   "cell_type": "code",
   "execution_count": 20,
   "metadata": {},
   "outputs": [
    {
     "name": "stdout",
     "output_type": "stream",
     "text": [
      "1\n",
      "3\n",
      "5\n",
      "7\n",
      "9\n",
      "11\n",
      "13\n",
      "15\n",
      "17\n",
      "19\n"
     ]
    }
   ],
   "source": [
    "# EXAMPLE let's skip all even numbers\n",
    "for i in range(1, 20):\n",
    "    if i % 2 == 0:\n",
    "        continue\n",
    "    print(i)"
   ]
  },
  {
   "cell_type": "code",
   "execution_count": 21,
   "metadata": {},
   "outputs": [
    {
     "name": "stdout",
     "output_type": "stream",
     "text": [
      "1\n",
      "2\n",
      "3\n",
      "4\n"
     ]
    }
   ],
   "source": [
    "# EXAMPLE let's stop our cicle when we get to a number that can be devided to 5\n",
    "for i in range(1, 10):\n",
    "    if i % 5 == 0:\n",
    "        break\n",
    "    print(i)"
   ]
  },
  {
   "cell_type": "code",
   "execution_count": 22,
   "metadata": {},
   "outputs": [],
   "source": [
    "# WHILE"
   ]
  },
  {
   "cell_type": "code",
   "execution_count": 23,
   "metadata": {},
   "outputs": [],
   "source": [
    "# While is the second type of cycle in python. The diference between for and while is that\n",
    "# for uses a defined number of iterations, meening that you or computer must know before,\n",
    "# starting the loop how many iterations will take place.\n",
    "# While, however stops only the condition becomes false."
   ]
  },
  {
   "cell_type": "code",
   "execution_count": 25,
   "metadata": {},
   "outputs": [
    {
     "name": "stdout",
     "output_type": "stream",
     "text": [
      "0\n",
      "1\n",
      "2\n",
      "3\n",
      "4\n",
      "5\n",
      "6\n",
      "7\n",
      "8\n"
     ]
    }
   ],
   "source": [
    "i = 0\n",
    "while i < 9:\n",
    "    print(i)\n",
    "    i+=1"
   ]
  },
  {
   "cell_type": "code",
   "execution_count": 26,
   "metadata": {},
   "outputs": [],
   "source": [
    "# If we will put in the while a condition that from the beinning is false then the loop,\n",
    "# will not even start.\n",
    "i = 0\n",
    "while i > 9:\n",
    "    print(i)\n",
    "    i+=1"
   ]
  },
  {
   "cell_type": "code",
   "execution_count": 27,
   "metadata": {},
   "outputs": [],
   "source": [
    "# Also we can put a combination of expression\n",
    "# for example we will use the example from our past lecture, names for male and female in the \n",
    "# romanian language"
   ]
  },
  {
   "cell_type": "code",
   "execution_count": 30,
   "metadata": {},
   "outputs": [
    {
     "name": "stdout",
     "output_type": "stream",
     "text": [
      "0 - domnisor\n",
      "1 - domnisor\n",
      "2 - domnisor\n",
      "3 - domnisor\n",
      "4 - domnisor\n",
      "5 - domnisor\n",
      "6 - domnisor\n",
      "7 - domnisor\n",
      "8 - domnisor\n",
      "9 - domnisor\n",
      "10 - domnisor\n",
      "11 - domnisor\n",
      "12 - domnisor\n",
      "13 - domnisor\n",
      "14 - domnisor\n",
      "15 - domnisor\n",
      "16 - domnisor\n",
      "17 - domnisor\n",
      "18 - domnisor\n",
      "19 - domnisor\n",
      "20 - domnisor\n",
      "21 - domn\n",
      "22 - domn\n",
      "23 - domn\n",
      "24 - domn\n",
      "25 - domn\n",
      "26 - domn\n",
      "27 - domn\n",
      "28 - domn\n",
      "29 - domn\n"
     ]
    }
   ],
   "source": [
    "gender = 'male'\n",
    "age = 0\n",
    "status = 'domnisor'\n",
    "while age < 30 or status == 'domnisor':\n",
    "    print(f\"{age} - {status}\")\n",
    "    if age == 20:\n",
    "        status = 'domn'\n",
    "    age += 1"
   ]
  },
  {
   "cell_type": "code",
   "execution_count": 35,
   "metadata": {},
   "outputs": [
    {
     "name": "stdout",
     "output_type": "stream",
     "text": [
      "0 - domnisor\n",
      "1 - domnisor\n",
      "2 - domnisor\n",
      "3 - domnisor\n",
      "4 - domnisor\n",
      "5 - domnisor\n",
      "6 - domnisor\n",
      "7 - domnisor\n",
      "8 - domnisor\n",
      "9 - domnisor\n",
      "10 - domnisor\n",
      "11 - domnisor\n",
      "12 - domnisor\n",
      "13 - domnisor\n",
      "14 - domnisor\n",
      "15 - domnisor\n",
      "16 - domnisor\n",
      "17 - domnisor\n",
      "18 - domnisor\n",
      "19 - domnisor\n",
      "20 - domnisor\n",
      "21 - domn\n",
      "22 - domn\n",
      "23 - domn\n",
      "24 - domn\n",
      "25 - domn\n",
      "26 - domn\n",
      "27 - domn\n",
      "28 - domn\n",
      "29 - domn\n",
      "Ben succesfully married\n"
     ]
    }
   ],
   "source": [
    "gender = 'male'\n",
    "age = 0\n",
    "status = 'domnisor'\n",
    "name = 'Ben'\n",
    "while age < 30 or status == 'domnisor':\n",
    "    print(f\"{age} - {status}\")\n",
    "    if age == 20:\n",
    "        status = 'domn'\n",
    "    age += 1\n",
    "else:\n",
    "    print(f\"{name} succesfully married\")"
   ]
  },
  {
   "cell_type": "code",
   "execution_count": 36,
   "metadata": {},
   "outputs": [
    {
     "name": "stdout",
     "output_type": "stream",
     "text": [
      "0 - domnisor\n",
      "1 - domnisor\n",
      "2 - domnisor\n",
      "3 - domnisor\n",
      "4 - domnisor\n",
      "5 - domnisor\n",
      "6 - domnisor\n",
      "7 - domnisor\n",
      "8 - domnisor\n",
      "9 - domnisor\n",
      "10 - domnisor\n",
      "11 - domnisor\n",
      "12 - domnisor\n",
      "13 - domnisor\n",
      "14 - domnisor\n",
      "15 - domnisor\n",
      "16 - domnisor\n",
      "17 - domnisor\n",
      "18 - domnisor\n",
      "19 - domnisor\n",
      "20 - domnisor\n",
      "21 - domn\n",
      "22 - domn\n",
      "23 - domn\n",
      "24 - domn\n"
     ]
    }
   ],
   "source": [
    "gender = 'male'\n",
    "age = 0\n",
    "status = 'domnisor'\n",
    "name = 'Ben'\n",
    "while age < 30 or status == 'domnisor':\n",
    "    print(f\"{age} - {status}\")\n",
    "    if age == 20:\n",
    "        status = 'domn'\n",
    "    age += 1\n",
    "    if age == 25:\n",
    "        break\n",
    "else:\n",
    "    print(f\"{name} succesfully married\")"
   ]
  },
  {
   "cell_type": "code",
   "execution_count": 38,
   "metadata": {},
   "outputs": [],
   "source": [
    "# The same comes with for cycle"
   ]
  },
  {
   "cell_type": "code",
   "execution_count": 39,
   "metadata": {},
   "outputs": [
    {
     "name": "stdout",
     "output_type": "stream",
     "text": [
      "1\n",
      "2\n",
      "3\n",
      "4\n"
     ]
    }
   ],
   "source": [
    "for i in range(1, 11):\n",
    "    if i % 5 == 0:\n",
    "        break\n",
    "    print(i)\n",
    "else:\n",
    "    print(\"While finished succesfully\")"
   ]
  },
  {
   "cell_type": "code",
   "execution_count": 47,
   "metadata": {},
   "outputs": [
    {
     "name": "stdout",
     "output_type": "stream",
     "text": [
      "1\n",
      "4\n",
      "7\n",
      "While finished succesfully\n"
     ]
    }
   ],
   "source": [
    "for i in range(1, 10, 3):\n",
    "    if i % 5 == 0:\n",
    "        break\n",
    "    print(i)\n",
    "else:\n",
    "    print(\"While finished succesfully\")"
   ]
  },
  {
   "cell_type": "code",
   "execution_count": 49,
   "metadata": {},
   "outputs": [],
   "source": [
    "# EXERCIZE : Vectorina\n",
    "# We will create a vectorina where we will please our user to ask it, we will end the\n",
    "# vectorian when the user answers the questions corectly"
   ]
  },
  {
   "cell_type": "code",
   "execution_count": null,
   "metadata": {},
   "outputs": [],
   "source": [
    "while True:\n",
    "    res = int(input(\"How much is 2 + 2:\"))\n",
    "    if res == 2 + 2:\n",
    "        print(\"The answer is correct\")\n",
    "        break\n",
    "    else:\n",
    "        print(\"The answer is wrong, please try again\")"
   ]
  },
  {
   "cell_type": "code",
   "execution_count": null,
   "metadata": {},
   "outputs": [],
   "source": []
  }
 ],
 "metadata": {
  "kernelspec": {
   "display_name": "Python 3",
   "language": "python",
   "name": "python3"
  },
  "language_info": {
   "codemirror_mode": {
    "name": "ipython",
    "version": 3
   },
   "file_extension": ".py",
   "mimetype": "text/x-python",
   "name": "python",
   "nbconvert_exporter": "python",
   "pygments_lexer": "ipython3",
   "version": "3.9.1"
  }
 },
 "nbformat": 4,
 "nbformat_minor": 4
}
