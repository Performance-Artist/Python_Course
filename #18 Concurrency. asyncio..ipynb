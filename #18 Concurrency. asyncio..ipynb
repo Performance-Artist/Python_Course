{
 "cells": [
  {
   "cell_type": "code",
   "execution_count": 1,
   "metadata": {},
   "outputs": [],
   "source": [
    "# Concurrency. asyncio."
   ]
  },
  {
   "cell_type": "code",
   "execution_count": 2,
   "metadata": {},
   "outputs": [],
   "source": [
    "# In the last lecture we seen how corotines and threds can help us by speeding up the running\n",
    "# time of a scrpt. However threds have a drawback, they can be canceled if the raise a stoping\n",
    "# point, to protect the important resources."
   ]
  },
  {
   "cell_type": "code",
   "execution_count": 3,
   "metadata": {},
   "outputs": [],
   "source": [
    "# Now we will tak a look at coroutines with asycio and aiohttp."
   ]
  },
  {
   "cell_type": "code",
   "execution_count": 4,
   "metadata": {},
   "outputs": [],
   "source": [
    "# Firstly let's try load our list of ids.\n",
    "import json\n",
    "albums_id = json.load(open('albums_ids.json', 'r'))"
   ]
  },
  {
   "cell_type": "code",
   "execution_count": 5,
   "metadata": {},
   "outputs": [
    {
     "data": {
      "text/plain": [
       "['6VH2op0GKIl3WNTbZmmcmI',\n",
       " '23FJTTzUIUjhmimOE2CTX2',\n",
       " '0kTe1sQd9yhDsdG2Zth7X6',\n",
       " '4wExFfncaUIqSgoxnqa3Eh',\n",
       " '3otvl9PN3kOgk5uwAh1CBL',\n",
       " '56G9UnPmRifbubzPDJfAyd',\n",
       " '228mANuRrV20jS5DCA0eER',\n",
       " '5WRmchevXvk5eXPT0gEuTL',\n",
       " '1jCYuXr0Ujke24z1ymBr5U',\n",
       " '1W5CtQ7Ng0kP3lXyz7PIT2',\n",
       " '4wVHvawxZy52Oemd4sGyUm',\n",
       " '0ui4S0TZghkf1d1Wz0oWpk',\n",
       " '6vSiY2OVanKKforfEOT2PD',\n",
       " '3uhD8hNpb0m3iIZ18RHH5u',\n",
       " '3xiPkaTzfC48CcsXYgz5v0',\n",
       " '1lZahjeu4AhPkg9JARZr5F',\n",
       " '0ovKDDAHiTwg4AEjKdgdWo',\n",
       " '4Q7cPyiP8cMIlUEHAqeYfd',\n",
       " '26tH0kjUhkxBEd3ipGkx3Y',\n",
       " '7gS8ozSkvPW3VBPLnXOZ7S']"
      ]
     },
     "execution_count": 5,
     "metadata": {},
     "output_type": "execute_result"
    }
   ],
   "source": [
    "albums_id"
   ]
  },
  {
   "cell_type": "code",
   "execution_count": 6,
   "metadata": {},
   "outputs": [],
   "source": [
    "# Now as the last time we must autentificate ourselves on spotify.\n",
    "import requests"
   ]
  },
  {
   "cell_type": "code",
   "execution_count": 7,
   "metadata": {},
   "outputs": [],
   "source": [
    "# Now we need to setup the CLIENT_ID and the CLIENT_SECRET\n",
    "CLIENT_ID = '1e8df497a8254e4b8ee14e464f164d71'\n",
    "CLIENT_SECRET = '6d83175281d1495db717693dcbbf59fa'"
   ]
  },
  {
   "cell_type": "code",
   "execution_count": 8,
   "metadata": {},
   "outputs": [],
   "source": [
    "# To get the data from spotify we must firstly autetithicate ourselves, let's define the \n",
    "# Autehtification url\n",
    "AUTH_URL = 'https://accounts.spotify.com/api/token'"
   ]
  },
  {
   "cell_type": "code",
   "execution_count": 9,
   "metadata": {},
   "outputs": [],
   "source": [
    "# Now we can send the aiutetification request\n",
    "auth_response = requests.post(AUTH_URL, {\n",
    "    'grant_type': 'client_credentials',\n",
    "    'client_id': CLIENT_ID,\n",
    "    'client_secret': CLIENT_SECRET,\n",
    "})"
   ]
  },
  {
   "cell_type": "code",
   "execution_count": 10,
   "metadata": {},
   "outputs": [],
   "source": [
    "# Now we must use the json funtion to convert the response into json format\n",
    "auth_response_data = auth_response.json()"
   ]
  },
  {
   "cell_type": "code",
   "execution_count": 11,
   "metadata": {},
   "outputs": [],
   "source": [
    "# Now we can get the accese token to get the data\n",
    "access_token = auth_response_data['access_token']"
   ]
  },
  {
   "cell_type": "code",
   "execution_count": 12,
   "metadata": {},
   "outputs": [],
   "source": [
    "# Let's extract the headers\n",
    "headers = {\n",
    "    'Authorization': 'Bearer {token}'.format(token=access_token)\n",
    "}"
   ]
  },
  {
   "cell_type": "code",
   "execution_count": 24,
   "metadata": {},
   "outputs": [],
   "source": [
    "TRACKS_NAMES = []\n",
    "BASE_URL = 'https://api.spotify.com/v1/'"
   ]
  },
  {
   "cell_type": "code",
   "execution_count": 14,
   "metadata": {},
   "outputs": [],
   "source": [
    "# Now we need a function that will return our tracks from the album.\n",
    "# But firstly let's import the asyncio and aiohttp"
   ]
  },
  {
   "cell_type": "code",
   "execution_count": 15,
   "metadata": {},
   "outputs": [],
   "source": [
    "import asyncio\n",
    "import aiohttp"
   ]
  },
  {
   "cell_type": "code",
   "execution_count": 16,
   "metadata": {},
   "outputs": [],
   "source": [
    "# of course we must firstly download aiohttp"
   ]
  },
  {
   "cell_type": "code",
   "execution_count": 141,
   "metadata": {},
   "outputs": [
    {
     "name": "stdout",
     "output_type": "stream",
     "text": [
      "Requirement already satisfied: aiohttp in c:\\users\\asus vivobook\\miniconda3\\lib\\site-packages (3.7.3)\n",
      "Requirement already satisfied: typing-extensions>=3.6.5 in c:\\users\\asus vivobook\\miniconda3\\lib\\site-packages (from aiohttp) (3.7.4.3)\n",
      "Requirement already satisfied: yarl<2.0,>=1.0 in c:\\users\\asus vivobook\\miniconda3\\lib\\site-packages (from aiohttp) (1.6.3)\n",
      "Requirement already satisfied: multidict<7.0,>=4.5 in c:\\users\\asus vivobook\\miniconda3\\lib\\site-packages (from aiohttp) (5.1.0)\n",
      "Requirement already satisfied: attrs>=17.3.0 in c:\\users\\asus vivobook\\miniconda3\\lib\\site-packages (from aiohttp) (19.3.0)\n",
      "Requirement already satisfied: chardet<4.0,>=2.0 in c:\\users\\asus vivobook\\miniconda3\\lib\\site-packages (from aiohttp) (3.0.4)\n",
      "Requirement already satisfied: async-timeout<4.0,>=3.0 in c:\\users\\asus vivobook\\miniconda3\\lib\\site-packages (from aiohttp) (3.0.1)\n",
      "Requirement already satisfied: idna>=2.0 in c:\\users\\asus vivobook\\miniconda3\\lib\\site-packages (from yarl<2.0,>=1.0->aiohttp) (2.10)\n"
     ]
    }
   ],
   "source": [
    "!pip install aiohttp"
   ]
  },
  {
   "cell_type": "code",
   "execution_count": 142,
   "metadata": {},
   "outputs": [
    {
     "name": "stdout",
     "output_type": "stream",
     "text": [
      "Requirement already satisfied: nest_asyncio in c:\\users\\asus vivobook\\miniconda3\\lib\\site-packages (1.4.3)\n"
     ]
    }
   ],
   "source": [
    "!pip install nest_asyncio"
   ]
  },
  {
   "cell_type": "code",
   "execution_count": 17,
   "metadata": {},
   "outputs": [],
   "source": [
    "import asyncio\n",
    "import aiohttp\n",
    "import nest_asyncio\n",
    "nest_asyncio.apply()"
   ]
  },
  {
   "cell_type": "code",
   "execution_count": 18,
   "metadata": {},
   "outputs": [],
   "source": [
    "# Now we must define a async function that will add all Led Zepelin's tracks\n",
    "async def get_track(album_id):\n",
    "    # Adding 2 global variables\n",
    "    global BASE_URL, TRACKS_NAMES\n",
    "    async with aiohttp.request('get', BASE_URL + 'albums/' + album_id + '/tracks', \n",
    "                               headers=headers) as r:\n",
    "        data = json.loads((await r.read()).decode())['items']\n",
    "        # Adding the tracks to the global variable\n",
    "        TRACKS_NAMES.extend([track['name'] for track in data])"
   ]
  },
  {
   "cell_type": "code",
   "execution_count": 19,
   "metadata": {},
   "outputs": [],
   "source": [
    "# 'async' is a special key word from the asuncion library.\n",
    "# It allows to define the asyncron functions."
   ]
  },
  {
   "cell_type": "code",
   "execution_count": 20,
   "metadata": {},
   "outputs": [],
   "source": [
    "# Now we must define a general function what will create the async tasks.\n",
    "async def get_tracks(albums_ids):\n",
    "    loop = asyncio.get_event_loop()\n",
    "    to_do = [get_track(album_id) for album_id in sorted(albums_ids)]\n",
    "    wait_coro = asyncio.wait(to_do)\n",
    "    res, _ = loop.run_until_complete(wait_coro)"
   ]
  },
  {
   "cell_type": "code",
   "execution_count": 25,
   "metadata": {},
   "outputs": [],
   "source": [
    "# Now let's run the main function.\n",
    "# For this we will use the asyncio.run function, passing the main function and it's arguments.\n",
    "asyncio.run(get_tracks(albums_id))"
   ]
  },
  {
   "cell_type": "code",
   "execution_count": 26,
   "metadata": {},
   "outputs": [
    {
     "data": {
      "text/plain": [
       "['The Song Remains the Same - Remaster',\n",
       " 'The Rain Song - Remaster',\n",
       " 'Over the Hills and Far Away - Remaster',\n",
       " 'The Crunge - Remaster',\n",
       " 'Dancing Days - Remaster',\n",
       " \"D'yer Mak'er - Remaster\",\n",
       " 'No Quarter - Remaster',\n",
       " 'The Ocean - Remaster',\n",
       " 'The Song Remains the Same - Guitar Overdub Reference Mix',\n",
       " 'The Rain Song - Mix Minus Piano',\n",
       " 'Over the Hills and Far Away - Guitar Mix Backing Track',\n",
       " 'The Crunge - Rough Mix - Keys Up',\n",
       " 'Dancing Days - Rough Mix with Vocal',\n",
       " 'No Quarter - Rough Mix with JPJ Keyboard Overdubs - No Vocal',\n",
       " 'The Ocean - Working Mix',\n",
       " 'Custard Pie - 1990 Remaster',\n",
       " 'The Rover - 1993 Remaster',\n",
       " 'In My Time of Dying - 1990 Remaster',\n",
       " 'Houses of the Holy - 1990 Remaster',\n",
       " 'Trampled Under Foot - 1990 Remaster',\n",
       " 'Kashmir - 1990 Remaster',\n",
       " 'In the Light - 1990 Remaster',\n",
       " 'Bron-Yr-Aur - 1993 Remaster',\n",
       " 'Down by the Seaside - 1993 Remaster',\n",
       " 'Ten Years Gone - 1990 Remaster',\n",
       " 'Night Flight - 1993 Remaster',\n",
       " 'The Wanton Song - 1990 Remaster',\n",
       " 'Boogie with Stu - 1993 Remaster',\n",
       " 'Black Country Woman - 1993 Remaster',\n",
       " 'Sick Again - 1993 Remaster',\n",
       " 'In the Evening - Remaster',\n",
       " 'South Bound Saurez - Remaster',\n",
       " 'Fool in the Rain - Remaster',\n",
       " 'Hot Dog - Remaster',\n",
       " 'Carouselambra - Remaster',\n",
       " 'All My Love - Remaster',\n",
       " \"I'm Gonna Crawl - Remaster\",\n",
       " 'Rock and Roll - (Live at MSG 1973) [Remaster]',\n",
       " 'Celebration Day - (Live at MSG 1973) [Remaster]',\n",
       " 'Black Dog - (Live at MSG 1973) [Remaster]',\n",
       " 'Over the Hills and Far Away - (Live at MSG 1973) [Remaster]',\n",
       " 'Misty Mountain Hop - (Live at MSG 1973) [Remaster]',\n",
       " \"Since I've Been Loving You - (Live at MSG 1973) [Remaster]\",\n",
       " 'No Quarter - (Live at MSG 1973) [Remaster]',\n",
       " 'The Song Remains the Same - (Live at MSG 1973) [Remaster]',\n",
       " 'The Rain Song - (Live at MSG 1973) [Remaster]',\n",
       " 'The Ocean - Live at MSG 1973; 2018 Remaster',\n",
       " 'Dazed and Confused - (Live at MSG 1973) [Remaster]',\n",
       " 'Stairway to Heaven - (Live at MSG 1973) [Remaster]',\n",
       " 'Moby Dick - (Live at MSG 1973) [Remaster]',\n",
       " 'Heartbreaker - (Live at MSG 1973) [Remaster]',\n",
       " 'Whole Lotta Love - (Live at MSG 1973) [Remaster]',\n",
       " 'Good Times Bad Times - Live: O2 Arena, London - December 10, 2007',\n",
       " 'Ramble On - Live: O2 Arena, London - December 10, 2007',\n",
       " 'Black Dog - Live: O2 Arena, London - December 10, 2007',\n",
       " 'In My Time of Dying - Live: O2 Arena, London - December 10, 2007',\n",
       " 'For Your Life - Live: O2 Arena, London - December 10, 2007',\n",
       " 'Trampled Under Foot - Live: O2 Arena, London - December 10, 2007',\n",
       " \"Nobody's Fault but Mine - Live: O2 Arena, London - December 10, 2007\",\n",
       " 'No Quarter - Live: O2 Arena, London - December 10, 2007',\n",
       " \"Since I've Been Loving You - Live: O2 Arena, London - December 10, 2007\",\n",
       " 'Dazed and Confused - Live: O2 Arena, London - December 10, 2007',\n",
       " 'Stairway to Heaven - Live: O2 Arena, London - December 10, 2007',\n",
       " 'The Song Remains the Same - Live: O2 Arena, London - December 10, 2007',\n",
       " 'Misty Mountain Hop - Live: O2 Arena, London - December 10, 2007',\n",
       " 'Kashmir - Live: O2 Arena, London - December 10, 2007',\n",
       " 'Whole Lotta Love - Live: O2 Arena, London - December 10, 2007',\n",
       " 'Rock and Roll - Live: O2 Arena, London - December 10, 2007',\n",
       " \"We're Gonna Groove - Remaster\",\n",
       " 'Poor Tom - Remaster',\n",
       " \"I Can't Quit You Baby - Remaster\",\n",
       " \"Walter's Walk - Remaster\",\n",
       " 'Ozone Baby - Remaster',\n",
       " 'Darlene - Remaster',\n",
       " \"Bonzo's Montreux - Remaster\",\n",
       " 'Wearing and Tearing - Remaster',\n",
       " 'Custard Pie - 1990 Remaster',\n",
       " 'The Rover - 1993 Remaster',\n",
       " 'In My Time of Dying - 1990 Remaster',\n",
       " 'Houses of the Holy - 1990 Remaster',\n",
       " 'Trampled Under Foot - 1990 Remaster',\n",
       " 'Kashmir - 1990 Remaster',\n",
       " 'In the Light - 1990 Remaster',\n",
       " 'Bron-Yr-Aur - 1993 Remaster',\n",
       " 'Down by the Seaside - 1993 Remaster',\n",
       " 'Ten Years Gone - 1990 Remaster',\n",
       " 'Night Flight - 1993 Remaster',\n",
       " 'The Wanton Song - 1990 Remaster',\n",
       " 'Boogie with Stu - 1993 Remaster',\n",
       " 'Black Country Woman - 1993 Remaster',\n",
       " 'Sick Again - 1993 Remaster',\n",
       " 'Achilles Last Stand - Remaster',\n",
       " 'For Your Life - Remaster',\n",
       " 'Royal Orleans - Remaster',\n",
       " \"Nobody's Fault but Mine - Remaster\",\n",
       " 'Candy Store Rock - Remaster',\n",
       " 'Hots on for Nowhere - Remaster',\n",
       " 'Tea for One - Remaster',\n",
       " 'Two Ones Are Won - Achilles Last Stand Reference Mix',\n",
       " 'For Your Life - Reference Mix',\n",
       " '10 Ribs & All / Carrot Pod Pod (Pod) - Reference Mix',\n",
       " 'Royal Orleans - Reference Mix',\n",
       " 'Hots on for Nowhere - Reference Mix',\n",
       " 'Custard Pie - Remaster',\n",
       " 'The Rover - Remaster',\n",
       " 'In My Time of Dying - Remaster',\n",
       " 'Houses of the Holy - Remaster',\n",
       " 'Trampled Under Foot - Remaster',\n",
       " 'Kashmir - Remaster',\n",
       " 'In the Light - Remaster',\n",
       " 'Bron-Yr-Aur - Remaster',\n",
       " 'Down by the Seaside - Remaster',\n",
       " 'Ten Years Gone - Remaster',\n",
       " 'Night Flight - Remaster',\n",
       " 'The Wanton Song - Remaster',\n",
       " 'Boogie with Stu - Remaster',\n",
       " 'Black Country Woman - Remaster',\n",
       " 'Sick Again - Remaster',\n",
       " 'Brandy & Coke - Trampled Under Foot; Initial / Rough Mix',\n",
       " 'Sick Again - Early Version',\n",
       " 'In My Time of Dying - Initial / Rough Mix',\n",
       " 'Houses of the Holy - Rough Mix with Overdubs',\n",
       " 'Everybody Makes It Through - In the Light; Early Version / In Transit',\n",
       " \"We're Gonna Groove - Remaster\",\n",
       " 'Poor Tom - Remaster',\n",
       " \"I Can't Quit You Baby - Remaster\",\n",
       " \"Walter's Walk - Remaster\",\n",
       " 'Ozone Baby - Remaster',\n",
       " 'Darlene - Remaster',\n",
       " \"Bonzo's Montreux - Remaster\",\n",
       " 'Wearing and Tearing - Remaster',\n",
       " \"We're Gonna Groove - Alternate Mix\",\n",
       " 'If It Keeps on Raining - Rough Mix',\n",
       " \"Bonzo's Montreux - Mix Construction in Progress\",\n",
       " 'Baby Come on Home - Remastered',\n",
       " 'Sugar Mama - Mix',\n",
       " 'Poor Tom - Instrumental Mix',\n",
       " 'Travelling Riverside Blues (BBC Session) - Remastered',\n",
       " 'Hey, Hey, What Can I Do - Remaster',\n",
       " 'Four Hands (Four Sticks) [Bombay Orchestra]',\n",
       " 'Friends (Bombay Orchestra)',\n",
       " \"St. Tristan's Sword - Rough Mix\",\n",
       " 'Desire (The Wanton Song) - Rough Mix',\n",
       " 'Custard Pie - Remaster',\n",
       " 'The Rover - Remaster',\n",
       " 'In My Time of Dying - Remaster',\n",
       " 'Houses of the Holy - Remaster',\n",
       " 'Trampled Under Foot - Remaster',\n",
       " 'Kashmir - Remaster',\n",
       " 'In the Light - Remaster',\n",
       " 'Bron-Yr-Aur - Remaster',\n",
       " 'Down by the Seaside - Remaster',\n",
       " 'Ten Years Gone - Remaster',\n",
       " 'Night Flight - Remaster',\n",
       " 'The Wanton Song - Remaster',\n",
       " 'Boogie with Stu - Remaster',\n",
       " 'Black Country Woman - Remaster',\n",
       " 'Sick Again - Remaster',\n",
       " 'Brandy & Coke - Trampled Under Foot; Initial / Rough Mix',\n",
       " 'Sick Again - Early Version',\n",
       " 'In My Time of Dying - Initial / Rough Mix',\n",
       " 'Houses of the Holy - Rough Mix with Overdubs',\n",
       " 'Everybody Makes It Through - In the Light; Early Version / In Transit',\n",
       " 'You Shook Me - 23/3/69 Top Gear; 2016 Remaster',\n",
       " \"I Can't Quit You Baby - 23/3/69 Top Gear; 2016 Remaster\",\n",
       " 'Communication Breakdown - Live on Tasty Pop Sundae from BBC Sessions; 2016 Remaster',\n",
       " 'Dazed and Confused - 3/23/69 Top Gear; 2016 Remaster',\n",
       " 'The Girl I Love She Got Long Black Wavy Hair - Live on Tasty Pop Sundae from BBC Sessions; 2016 Remaster',\n",
       " 'What Is and What Should Never Be - 29/6/69 Top Gear; 2016 Remaster',\n",
       " 'Communication Breakdown - 29/6/69 Top Gear; 2016 Remaster',\n",
       " 'Travelling Riverside Blues - 29/6/69 Top Gear; 2016 Remaster',\n",
       " 'Whole Lotta Love - 29/6/69 Top Gear; 2016 Remaster',\n",
       " \"Somethin' Else - Live on Tasty Pop Sundae from BBC Sessions; 2016 Remaster\",\n",
       " 'Communication Breakdown - 10/8/69 Playhouse Theatre; 2016 Remaster',\n",
       " \"I Can't Quit You Baby - 10/8/69 Playhouse Theatre; 2016 Remaster\",\n",
       " 'You Shook Me - 10/8/69 Playhouse Theatre; 2016 Remaster',\n",
       " 'How Many More Times - 10/8/69 Playhouse Theatre; 2016 Remaster',\n",
       " 'Immigrant Song - 1/4/71 Paris Theatre; 2016 Remaster',\n",
       " 'Heartbreaker - 1/4/71 Paris Theatre; 2016 Remaster',\n",
       " \"Since I've Been Loving You - 1/4/71 Paris Theatre; 2016 Remaster\",\n",
       " 'Black Dog - 1/4/71 Paris Theatre; 2016 Remaster',\n",
       " 'Dazed and Confused - 1/4/71 Paris Theatre; 2016 Remaster',\n",
       " 'Stairway to Heaven - Live: 1/4/71 Paris Theatre; 2016 Remaster',\n",
       " 'In the Evening - 1990 Remaster',\n",
       " 'South Bound Saurez - 1993 Remaster',\n",
       " 'Fool in the Rain - 1990 Remaster',\n",
       " 'Hot Dog - 1993 Remaster',\n",
       " 'Carouselambra - 1993 Remaster',\n",
       " 'All My Love - 1990 Remaster',\n",
       " \"I'm Gonna Crawl - 1990 Remaster\",\n",
       " \"We're Gonna Groove - 1993 Remaster\",\n",
       " 'Poor Tom - 1990 Remaster',\n",
       " \"I Can't Quit You Baby - 1990 Remaster\",\n",
       " \"Walter's Walk - 1993 Remaster\",\n",
       " 'Ozone Baby - 1990 Remaster',\n",
       " 'Darlene - 1993 Remaster',\n",
       " \"Bonzo's Montreux - 1993 Remaster\",\n",
       " 'Wearing and Tearing - 1990 Remaster',\n",
       " 'In the Evening - Remaster',\n",
       " 'South Bound Saurez - Remaster',\n",
       " 'Fool in the Rain - Remaster',\n",
       " 'Hot Dog - Remaster',\n",
       " 'Carouselambra - Remaster',\n",
       " 'All My Love - Remaster',\n",
       " \"I'm Gonna Crawl - Remaster\",\n",
       " 'In the Evening - Rough Mix',\n",
       " 'Southbound Piano (South Bound Saurez) - Rough Mix',\n",
       " 'Fool in the Rain - Rough Mix',\n",
       " 'Hot Dog - Rough Mix',\n",
       " 'The Epic (Carouselambra) - Rough Mix',\n",
       " 'The Hook (All My Love) - Rough Mix',\n",
       " \"Blot (I'm Gonna Crawl) - Rough Mix\",\n",
       " 'Good Times Bad Times - Remaster',\n",
       " 'Communication Breakdown - Remaster',\n",
       " 'Dazed and Confused - Remaster',\n",
       " \"Babe I'm Gonna Leave You - Remaster\",\n",
       " 'Whole Lotta Love - Remaster',\n",
       " 'Ramble On - Remaster',\n",
       " 'Heartbreaker - Remaster',\n",
       " 'Immigrant Song - Remaster',\n",
       " \"Since I've Been Loving You - Remaster\",\n",
       " 'Rock and Roll - Remaster',\n",
       " 'Black Dog - Remaster',\n",
       " 'When the Levee Breaks - Remaster',\n",
       " 'Stairway to Heaven - Remaster',\n",
       " 'The Song Remains the Same - Remaster',\n",
       " 'Over the Hills and Far Away - Remaster',\n",
       " \"D'yer Mak'er - Remaster\",\n",
       " 'No Quarter - Remaster',\n",
       " 'Trampled Under Foot - Remaster',\n",
       " 'Houses of the Holy - Remaster',\n",
       " 'Kashmir - Remaster',\n",
       " 'LA Drone - Live 1972; 2018 Remaster',\n",
       " 'Immigrant Song - Live 1972; 2018 Remaster',\n",
       " 'Heartbreaker - Live 1972; 2018 Remaster',\n",
       " 'Black Dog - Live 1972; 2018 Remaster',\n",
       " 'Over the Hills and Far Away - Live 1972; 2018 Remaster',\n",
       " \"Since I've Been Loving You - Live 1972; 2018 Remaster\",\n",
       " 'Stairway to Heaven - Live 1972; 2018 Remaster',\n",
       " 'Going to California - Live 1972; 2018 Remaster',\n",
       " \"That's The Way - Live 1972; 2018 Remaster\",\n",
       " 'Bron-Y-Aur Stomp - Live 1972; 2018 Remaster',\n",
       " 'Dazed and Confused - Live 1972; 2018 Remaster',\n",
       " 'What Is and What Should Never Be (Live) - Live 1972; 2018 Remaster',\n",
       " 'Dancing Days - Live 1972; 2018 Remaster',\n",
       " 'Moby Dick - Live 1972; 2018 Remaster',\n",
       " 'Whole Lotta Love - Live 1972; 2018 Remaster',\n",
       " 'Rock and Roll - Live 1972; 2018 Remaster',\n",
       " 'The Ocean - Live 1972; 2018 Remaster',\n",
       " 'Bring It on Home / Bring It on Back - Live 1972; 2018 Remaster',\n",
       " 'Custard Pie - Remaster',\n",
       " 'The Rover - Remaster',\n",
       " 'In My Time of Dying - Remaster',\n",
       " 'Houses of the Holy - Remaster',\n",
       " 'Trampled Under Foot - Remaster',\n",
       " 'Kashmir - Remaster',\n",
       " 'In the Light - Remaster',\n",
       " 'Bron-Yr-Aur - Remaster',\n",
       " 'Down by the Seaside - Remaster',\n",
       " 'Ten Years Gone - Remaster',\n",
       " 'Night Flight - Remaster',\n",
       " 'The Wanton Song - Remaster',\n",
       " 'Boogie with Stu - Remaster',\n",
       " 'Black Country Woman - Remaster',\n",
       " 'Sick Again - Remaster',\n",
       " 'Achilles Last Stand - 1990 Remaster',\n",
       " 'For Your Life - 1990 Remaster',\n",
       " 'Royal Orleans - 1993 Remaster',\n",
       " \"Nobody's Fault but Mine - 1990 Remaster\",\n",
       " 'Candy Store Rock - 1990 Remaster',\n",
       " 'Hots on for Nowhere - 1993 Remaster',\n",
       " 'Tea for One - 1993 Remaster',\n",
       " 'Achilles Last Stand - Remaster',\n",
       " 'For Your Life - Remaster',\n",
       " 'Royal Orleans - Remaster',\n",
       " \"Nobody's Fault but Mine - Remaster\",\n",
       " 'Candy Store Rock - Remaster',\n",
       " 'Hots on for Nowhere - Remaster',\n",
       " 'Tea for One - Remaster']"
      ]
     },
     "execution_count": 26,
     "metadata": {},
     "output_type": "execute_result"
    }
   ],
   "source": [
    "# Let's look at the added tracks names\n",
    "TRACKS_NAMES"
   ]
  },
  {
   "cell_type": "code",
   "execution_count": 27,
   "metadata": {},
   "outputs": [
    {
     "data": {
      "text/plain": [
       "279"
      ]
     },
     "execution_count": 27,
     "metadata": {},
     "output_type": "execute_result"
    }
   ],
   "source": [
    "# How many tracks do we have?\n",
    "len(TRACKS_NAMES)"
   ]
  },
  {
   "cell_type": "code",
   "execution_count": 30,
   "metadata": {},
   "outputs": [],
   "source": [
    "# Now let's see how much it takes to run our task with asyncio"
   ]
  },
  {
   "cell_type": "code",
   "execution_count": 31,
   "metadata": {},
   "outputs": [
    {
     "name": "stdout",
     "output_type": "stream",
     "text": [
      "229 ms ± 0 ns per loop (mean ± std. dev. of 1 run, 1 loop each)\n"
     ]
    }
   ],
   "source": [
    "%%timeit -n 1 -r 1\n",
    "asyncio.run(get_tracks(albums_id))"
   ]
  },
  {
   "cell_type": "code",
   "execution_count": 32,
   "metadata": {},
   "outputs": [],
   "source": [
    "# 229 ms. good job, even fuster than with the futures."
   ]
  },
  {
   "cell_type": "code",
   "execution_count": null,
   "metadata": {},
   "outputs": [],
   "source": []
  }
 ],
 "metadata": {
  "kernelspec": {
   "display_name": "Python 3",
   "language": "python",
   "name": "python3"
  },
  "language_info": {
   "codemirror_mode": {
    "name": "ipython",
    "version": 3
   },
   "file_extension": ".py",
   "mimetype": "text/x-python",
   "name": "python",
   "nbconvert_exporter": "python",
   "pygments_lexer": "ipython3",
   "version": "3.7.4"
  }
 },
 "nbformat": 4,
 "nbformat_minor": 4
}
