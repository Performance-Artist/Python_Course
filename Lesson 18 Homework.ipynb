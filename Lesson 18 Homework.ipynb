{
 "cells": [
  {
   "cell_type": "code",
   "execution_count": 1,
   "id": "ultimate-franklin",
   "metadata": {},
   "outputs": [],
   "source": [
    "import json\n",
    "albums_id = json.load(open('albums_ids.json', 'r'))"
   ]
  },
  {
   "cell_type": "code",
   "execution_count": 2,
   "id": "double-silicon",
   "metadata": {},
   "outputs": [
    {
     "data": {
      "text/plain": [
       "['1iSsdlURK7CGUVlcz4M5Li',\n",
       " '007KuGgJRyLlPvIkGtgqQV',\n",
       " '7maywFP1bQZyit0l9l0VHb',\n",
       " '5uEm5O3gMHJ1AZRQxSvDPV',\n",
       " '1M6ArhCSxqwEkKwei79qhK',\n",
       " '1y6lNpSBJck5Fi0iRwHot1',\n",
       " '50wYRXPk6GTJ6xDA3dQqas',\n",
       " '26jbVB8h8umHU1jEaUf8LZ',\n",
       " '2GadAFQi9OW9PrAB3519Fg',\n",
       " '1tVEWlyn2nsAke3Lp7HoZ0',\n",
       " '2FviQq6iUOb4FBrnySgWuh',\n",
       " '6wuR99S9OuyyWN5tD1EMQZ',\n",
       " '2EIvvMqgrCHORCpQBmJDjm',\n",
       " '7EIjgr1QML6dfSsShfwgE0',\n",
       " '63enh9Qs0Ec3AssU4wMTI1',\n",
       " '5Iugg1hYMiPy4KXEIPrShM',\n",
       " '33knvUBRR5ekNBrtLqQVTD',\n",
       " '1yssEiclrpPwxfzpMyHaHb',\n",
       " '24FEHm9O5fBnBtolT1jP41',\n",
       " '2AoBiklyaR5oKHfnN67fea']"
      ]
     },
     "execution_count": 2,
     "metadata": {},
     "output_type": "execute_result"
    }
   ],
   "source": [
    "albums_id"
   ]
  },
  {
   "cell_type": "code",
   "execution_count": 3,
   "id": "solved-possible",
   "metadata": {},
   "outputs": [],
   "source": [
    "import requests"
   ]
  },
  {
   "cell_type": "code",
   "execution_count": 4,
   "id": "suffering-gamma",
   "metadata": {},
   "outputs": [],
   "source": [
    "CLIENT_ID = '9488ac2510bf4bf78e6a9a1d673beeca'\n",
    "CLIENT_SECRET = '7c3b1d3fb90c4f7ea5ec4cc065461403'"
   ]
  },
  {
   "cell_type": "code",
   "execution_count": 5,
   "id": "pharmaceutical-asset",
   "metadata": {},
   "outputs": [],
   "source": [
    "AUTH_URL = 'https://accounts.spotify.com/api/token'"
   ]
  },
  {
   "cell_type": "code",
   "execution_count": 6,
   "id": "lucky-teacher",
   "metadata": {},
   "outputs": [],
   "source": [
    "auth_response = requests.post(AUTH_URL, {\n",
    "    'grant_type': 'client_credentials',\n",
    "    'client_id': CLIENT_ID,\n",
    "    'client_secret': CLIENT_SECRET,\n",
    "})"
   ]
  },
  {
   "cell_type": "code",
   "execution_count": 7,
   "id": "efficient-avatar",
   "metadata": {},
   "outputs": [
    {
     "data": {
      "text/plain": [
       "<Response [200]>"
      ]
     },
     "execution_count": 7,
     "metadata": {},
     "output_type": "execute_result"
    }
   ],
   "source": [
    "auth_response"
   ]
  },
  {
   "cell_type": "code",
   "execution_count": 8,
   "id": "discrete-avenue",
   "metadata": {},
   "outputs": [],
   "source": [
    "auth_response_data = auth_response.json()"
   ]
  },
  {
   "cell_type": "code",
   "execution_count": 9,
   "id": "secure-freight",
   "metadata": {},
   "outputs": [],
   "source": [
    "access_token = auth_response_data['access_token']"
   ]
  },
  {
   "cell_type": "code",
   "execution_count": 10,
   "id": "sound-objective",
   "metadata": {},
   "outputs": [],
   "source": [
    "header = {\n",
    "    'Authorization': 'Bearer {token}'.format(token=access_token)\n",
    "}"
   ]
  },
  {
   "cell_type": "code",
   "execution_count": 11,
   "id": "coordinate-weight",
   "metadata": {},
   "outputs": [],
   "source": [
    "TRACKS_NAMES = []\n",
    "BASE_URL = 'https://api.spotify.com/v1/'"
   ]
  },
  {
   "cell_type": "code",
   "execution_count": 12,
   "id": "japanese-preserve",
   "metadata": {},
   "outputs": [
    {
     "name": "stdout",
     "output_type": "stream",
     "text": [
      "Requirement already satisfied: asyncio in c:\\users\\simple\\appdata\\local\\programs\\python\\python39\\lib\\site-packages (3.4.3)\n"
     ]
    },
    {
     "name": "stderr",
     "output_type": "stream",
     "text": [
      "WARNING: You are using pip version 20.2.3; however, version 21.0.1 is available.\n",
      "You should consider upgrading via the 'c:\\users\\simple\\appdata\\local\\programs\\python\\python39\\python.exe -m pip install --upgrade pip' command.\n"
     ]
    }
   ],
   "source": [
    "!pip install asyncio"
   ]
  },
  {
   "cell_type": "code",
   "execution_count": 13,
   "id": "controversial-cornell",
   "metadata": {},
   "outputs": [
    {
     "name": "stdout",
     "output_type": "stream",
     "text": [
      "Requirement already satisfied: aiohttp in c:\\users\\simple\\appdata\\local\\programs\\python\\python39\\lib\\site-packages (3.7.4.post0)\n",
      "Requirement already satisfied: attrs>=17.3.0 in c:\\users\\simple\\appdata\\local\\programs\\python\\python39\\lib\\site-packages (from aiohttp) (20.3.0)\n",
      "Requirement already satisfied: multidict<7.0,>=4.5 in c:\\users\\simple\\appdata\\local\\programs\\python\\python39\\lib\\site-packages (from aiohttp) (5.1.0)\n",
      "Requirement already satisfied: chardet<5.0,>=2.0 in c:\\users\\simple\\appdata\\local\\programs\\python\\python39\\lib\\site-packages (from aiohttp) (4.0.0)\n",
      "Requirement already satisfied: yarl<2.0,>=1.0 in c:\\users\\simple\\appdata\\local\\programs\\python\\python39\\lib\\site-packages (from aiohttp) (1.6.3)\n",
      "Requirement already satisfied: typing-extensions>=3.6.5 in c:\\users\\simple\\appdata\\local\\programs\\python\\python39\\lib\\site-packages (from aiohttp) (3.7.4.3)\n",
      "Requirement already satisfied: async-timeout<4.0,>=3.0 in c:\\users\\simple\\appdata\\local\\programs\\python\\python39\\lib\\site-packages (from aiohttp) (3.0.1)\n",
      "Requirement already satisfied: idna>=2.0 in c:\\users\\simple\\appdata\\local\\programs\\python\\python39\\lib\\site-packages (from yarl<2.0,>=1.0->aiohttp) (2.10)\n"
     ]
    },
    {
     "name": "stderr",
     "output_type": "stream",
     "text": [
      "WARNING: You are using pip version 20.2.3; however, version 21.0.1 is available.\n",
      "You should consider upgrading via the 'c:\\users\\simple\\appdata\\local\\programs\\python\\python39\\python.exe -m pip install --upgrade pip' command.\n"
     ]
    }
   ],
   "source": [
    "!pip install aiohttp"
   ]
  },
  {
   "cell_type": "code",
   "execution_count": 14,
   "id": "received-jewel",
   "metadata": {},
   "outputs": [
    {
     "name": "stdout",
     "output_type": "stream",
     "text": [
      "Requirement already satisfied: nest_asyncio in c:\\users\\simple\\appdata\\local\\programs\\python\\python39\\lib\\site-packages (1.5.1)\n"
     ]
    },
    {
     "name": "stderr",
     "output_type": "stream",
     "text": [
      "WARNING: You are using pip version 20.2.3; however, version 21.0.1 is available.\n",
      "You should consider upgrading via the 'c:\\users\\simple\\appdata\\local\\programs\\python\\python39\\python.exe -m pip install --upgrade pip' command.\n"
     ]
    }
   ],
   "source": [
    "!pip install nest_asyncio"
   ]
  },
  {
   "cell_type": "code",
   "execution_count": 15,
   "id": "criminal-arlington",
   "metadata": {},
   "outputs": [],
   "source": [
    "import asyncio\n",
    "import aiohttp\n",
    "import nest_asyncio\n",
    "nest_asyncio.apply()"
   ]
  },
  {
   "cell_type": "code",
   "execution_count": 16,
   "id": "verified-karaoke",
   "metadata": {},
   "outputs": [],
   "source": [
    "async def get_track(album_id):\n",
    "    global BASE_URL, TRACKS_NAME\n",
    "    async with aiohttp.request('get', BASE_URL + 'albums/' + album_id + '/tracks',\n",
    "                               headers = header) as r: \n",
    "        data = json.loads((await r.read()).decode())['items']\n",
    "        TRACKS_NAMES.extend([track['name'] for track in data])"
   ]
  },
  {
   "cell_type": "code",
   "execution_count": 17,
   "id": "intermediate-reasoning",
   "metadata": {},
   "outputs": [],
   "source": [
    "async def get_tracks(albums_ids):\n",
    "    loop = asyncio.get_event_loop()\n",
    "    to_do = [get_track(album_id) for album_id in albums_ids]\n",
    "    wait_coro = asyncio.wait(to_do)\n",
    "    res, _ = loop.run_until_complete(wait_coro)"
   ]
  },
  {
   "cell_type": "code",
   "execution_count": 18,
   "id": "flexible-bruce",
   "metadata": {},
   "outputs": [],
   "source": [
    "asyncio.run(get_tracks(albums_id))"
   ]
  },
  {
   "cell_type": "code",
   "execution_count": 19,
   "id": "altered-plastic",
   "metadata": {},
   "outputs": [
    {
     "data": {
      "text/plain": [
       "['The Greatest Show on Earth - Remastered',\n",
       " 'Élan - Remastered',\n",
       " 'My Walden - Remastered',\n",
       " 'Storytime - Remastered',\n",
       " 'I Want My Tears Back - Remastered',\n",
       " 'Amaranth - Remastered',\n",
       " 'The Poet and the Pendulum - Remastered',\n",
       " 'Nemo - Remastered',\n",
       " 'Wish I Had an Angel - Remastered',\n",
       " 'Ghost Love Score - Remastered',\n",
       " 'Slaying the Dreamer - Remastered',\n",
       " 'End of All Hope - Remastered',\n",
       " '10th Man Down - Remastered',\n",
       " 'The Kinslayer - Remastered',\n",
       " \"Dead Boy's Poem - Remastered\",\n",
       " 'Gethsemane - Remastered',\n",
       " 'Devil & the Deep Dark Ocean - Remastered',\n",
       " 'Sacrament of Wilderness - Remastered',\n",
       " 'Sleeping Sun - Remastered',\n",
       " 'Elvenpath - Remastered',\n",
       " 'The Greatest Show on Earth - Remastered',\n",
       " 'Élan - Remastered',\n",
       " 'My Walden - Remastered',\n",
       " 'Storytime - Remastered',\n",
       " 'I Want My Tears Back - Remastered',\n",
       " 'Amaranth - Remastered',\n",
       " 'The Poet and the Pendulum - Remastered',\n",
       " 'Nemo - Remastered',\n",
       " 'Wish I Had an Angel - Remastered',\n",
       " 'Ghost Love Score - Remastered',\n",
       " 'Slaying the Dreamer - Remastered',\n",
       " 'End of All Hope - Remastered',\n",
       " '10th Man Down - Remastered',\n",
       " 'The Kinslayer - Remastered',\n",
       " \"Dead Boy's Poem - Remastered\",\n",
       " 'Gethsemane - Remastered',\n",
       " 'Devil & the Deep Dark Ocean - Remastered',\n",
       " 'Sacrament of Wilderness - Remastered',\n",
       " 'Sleeping Sun - Remastered',\n",
       " 'Elvenpath - Remastered',\n",
       " 'Swanheart - Live',\n",
       " 'End of All Hope - Live',\n",
       " 'Wish I Had an Angel - Live',\n",
       " '10Th Man Down - Live',\n",
       " 'Come Cover Me - Live',\n",
       " 'Gethsemane - Live',\n",
       " 'Élan - Live',\n",
       " 'Sacrament of Wilderness - Live',\n",
       " 'Deep Silent Complete - Live',\n",
       " \"Dead Boy's Poem - Live\",\n",
       " 'Elvenjig - Live',\n",
       " 'Elvenpath - Live',\n",
       " 'I Want My Tears Back - Live',\n",
       " 'Amaranth - Live',\n",
       " 'The Carpenter - Live',\n",
       " 'The Kinslayer - Live',\n",
       " 'Devil & the Deep Dark Ocean - Live',\n",
       " 'Nemo - Live',\n",
       " 'Slaying the Dreamer - Live',\n",
       " 'The Greatest Show on Earth - Live',\n",
       " 'Bye Bye Beautiful - Live',\n",
       " 'Dark Chest of Wonders - Live',\n",
       " 'Whoever Bring the Night - Live',\n",
       " 'The Siren - Live',\n",
       " 'Amaranth - Live',\n",
       " 'Sleeping Sun - Live',\n",
       " 'Ever Dream - Live',\n",
       " 'Dead to the World - Live',\n",
       " 'Sahara - Live',\n",
       " 'Nemo - Live',\n",
       " 'Wish I Had an Angel - Live',\n",
       " 'Shudder Before the Beautiful',\n",
       " 'Weak Fantasy',\n",
       " 'Élan',\n",
       " 'Yours Is an Empty Hope',\n",
       " 'Our Decades in the Sun',\n",
       " 'My Walden',\n",
       " 'Endless Forms Most Beautiful',\n",
       " 'Edema Ruh',\n",
       " 'Alpenglow',\n",
       " 'The Eyes of Sharbat Gula',\n",
       " 'The Greatest Show on Earth',\n",
       " 'Shudder Before the Beautiful',\n",
       " 'Weak Fantasy',\n",
       " 'Élan',\n",
       " 'Yours Is an Empty Hope',\n",
       " 'Our Decades in the Sun',\n",
       " 'My Walden',\n",
       " 'Endless Forms Most Beautiful',\n",
       " 'Edema Ruh',\n",
       " 'Alpenglow',\n",
       " 'The Eyes of Sharbat Gula',\n",
       " 'The Greatest Show on Earth',\n",
       " 'Shudder Before the Beautiful',\n",
       " 'Weak Fantasy',\n",
       " 'Élan',\n",
       " 'Yours Is an Empty Hope',\n",
       " 'Our Decades in the Sun',\n",
       " 'My Walden',\n",
       " 'Endless Forms Most Beautiful',\n",
       " 'Edema Ruh',\n",
       " 'Alpenglow',\n",
       " 'The Eyes of Sharbat Gula',\n",
       " 'The Greatest Show on Earth',\n",
       " 'Shudder Before the Beautiful - Instrumental',\n",
       " 'Weak Fantasy - Instrumental',\n",
       " 'Élan - Instrumental',\n",
       " 'Yours Is an Empty Hope - Instrumental',\n",
       " 'Our Decades in the Sun - Instrumental',\n",
       " 'My Walden - Instrumental',\n",
       " 'Endless Forms Most Beautiful - Instrumental',\n",
       " 'Edema Ruh - Instrumental',\n",
       " 'Alpenglow - Instrumental',\n",
       " 'Shudder Before the Beautiful - Live, at Wembley, 2015',\n",
       " 'Yours Is an Empty Hope - Live, at Wembley, 2015',\n",
       " 'Ever Dream - Live, at Wembley, 2015',\n",
       " 'Storytime - Live, at Wembley, 2015',\n",
       " 'My Walden - Live, at Wembley, 2015',\n",
       " 'While Your Lips Are Still Red - Live, at Wembley, 2015',\n",
       " 'Élan - Live, at Wembley, 2015',\n",
       " 'Weak Fantasy - Live, at Wembley, 2015',\n",
       " '7 Days to the Wolves - Live, at Wembley, 2015',\n",
       " 'Alpenglow - Live, at Wembley, 2015',\n",
       " 'The Poet and the Pendulum - Live, at Wembley, 2015',\n",
       " 'Nemo - Live, at Wembley, 2015',\n",
       " 'I Want My Tears Back - Live, at Wembley, 2015',\n",
       " 'Stargazers - Live, at Wembley, 2015',\n",
       " 'Ghost Love Score - Live, at Wembley, 2015',\n",
       " 'Last Ride of the Day - Live, at Wembley, 2015',\n",
       " 'The Greatest Show on Earth - Live, at Wembley, 2015',\n",
       " 'Taikatalvi',\n",
       " 'Storytime',\n",
       " 'Ghost River',\n",
       " 'Slow, Love, Slow',\n",
       " 'I Want My Tears Back',\n",
       " 'Scaretale',\n",
       " 'Arabesque',\n",
       " 'Turn Loose The Mermaids',\n",
       " 'Rest Calm',\n",
       " 'The Crow, The Owl And The Dove',\n",
       " 'Last Ride Of The Day',\n",
       " 'Song Of Myself',\n",
       " 'Imaginaerum',\n",
       " 'Taikatalvi - Orchestral Version',\n",
       " 'Storytime - Orchestral Version',\n",
       " 'Ghost River - Orchestral Version',\n",
       " 'Slow, Love, Slow - Orchestral Version',\n",
       " 'Scaretale - Orchestral Version',\n",
       " 'Arabesque - Orchestral Version',\n",
       " 'Turn Loose The Mermaids - Orchestral Version',\n",
       " 'Music',\n",
       " 'Noise',\n",
       " 'Shoemaker',\n",
       " 'Harvest',\n",
       " 'Pan',\n",
       " \"How's the Heart?\",\n",
       " 'Procession',\n",
       " 'Tribal',\n",
       " 'Endlessness',\n",
       " 'All the Works of Nature Which Adorn the World - Vista',\n",
       " 'All the Works of Nature Which Adorn the World - The Blue',\n",
       " 'All the Works of Nature Which Adorn the World - The Green',\n",
       " 'All the Works of Nature Which Adorn the World - Moors',\n",
       " 'All the Works of Nature Which Adorn the World - Aurorae',\n",
       " 'All the Works of Nature Which Adorn the World - Quiet as the Snow',\n",
       " 'All the Works of Nature Which Adorn the World - Anthropocene - Including \"Hurrian Hymn to Nikkal\"',\n",
       " 'All the Works of Nature Which Adorn the World - Ad Astra',\n",
       " 'Taikatalvi',\n",
       " 'Storytime',\n",
       " 'Ghost River',\n",
       " 'Slow, Love, Slow',\n",
       " 'I Want My Tears Back',\n",
       " 'Scaretale',\n",
       " 'Arabesque',\n",
       " 'Turn Loose the Mermaids',\n",
       " 'Rest Calm',\n",
       " 'The Crow, the Owl and the Dove',\n",
       " 'Last Ride of the Day',\n",
       " 'Song of Myself',\n",
       " 'Imaginaerum',\n",
       " 'The Poet and the Pendulum',\n",
       " 'Bye Bye Beautiful',\n",
       " 'Amaranth',\n",
       " 'Cadence of Her Last Breath',\n",
       " 'Master Passion Greed',\n",
       " 'Eva',\n",
       " 'Sahara',\n",
       " 'Whoever Brings the Night',\n",
       " 'For the Heart I Once Had',\n",
       " 'The Islander',\n",
       " 'Last of the Wilds',\n",
       " '7 Days to the Wolves',\n",
       " 'Meadows of Heaven',\n",
       " 'Shudder Before the Beautiful',\n",
       " 'Weak Fantasy',\n",
       " 'Élan',\n",
       " 'Yours Is an Empty Hope',\n",
       " 'Our Decades in the Sun',\n",
       " 'My Walden',\n",
       " 'Endless Forms Most Beautiful',\n",
       " 'Edema Ruh',\n",
       " 'Alpenglow',\n",
       " 'The Eyes of Sharbat Gula',\n",
       " 'The Greatest Show on Earth',\n",
       " 'Shudder Before the Beautiful - Instrumental',\n",
       " 'Weak Fantasy - Instrumental',\n",
       " 'Élan - Instrumental',\n",
       " 'Yours Is an Empty Hope - Instrumental',\n",
       " 'Our Decades in the Sun - Instrumental',\n",
       " 'My Walden - Instrumental',\n",
       " 'Endless Forms Most Beautiful - Instrumental',\n",
       " 'Edema Ruh - Instrumental',\n",
       " 'Alpenglow - Instrumental',\n",
       " 'Find Your Story',\n",
       " 'Orphanage Airlines',\n",
       " 'Undertow',\n",
       " 'Spying in the Doorway',\n",
       " 'A Crackling Sphere',\n",
       " 'Sundown',\n",
       " 'Wonderfields',\n",
       " 'Hey Buddy',\n",
       " 'Deeper Down',\n",
       " 'Dare to Enter',\n",
       " 'I Have to Let You Go',\n",
       " 'Heart Lying Still',\n",
       " 'From G to E Minor',\n",
       " 'Dark Chest of Wonders - Live',\n",
       " 'Wish I Had an Angel - Live',\n",
       " 'She Is My Sin - Live',\n",
       " 'Ghost River - Live',\n",
       " 'Ever Dream - Live',\n",
       " 'Storytime - Live',\n",
       " 'I Want My Tears Back - Live',\n",
       " 'Nemo - Live',\n",
       " 'Last of the Wilds - Live',\n",
       " 'Bless the Child - Live',\n",
       " 'Romanticide - Live',\n",
       " 'Amaranth - Live',\n",
       " 'Ghost Love Score - Live',\n",
       " 'Song of Myself - Live',\n",
       " 'Last Ride of the Day - Live',\n",
       " 'Imaginaerum (Outro) - Live',\n",
       " 'Dark Chest of Wonders - Live, at Wacken, 2013',\n",
       " 'Wish I Had an Angel - Live, at Wacken, 2013',\n",
       " 'She Is My Sin - Live, at Wacken, 2013',\n",
       " 'Ghost River - Live, at Wacken, 2013',\n",
       " 'Ever Dream - Live, at Wacken, 2013',\n",
       " 'Storytime - Live, at Wacken, 2013',\n",
       " 'I Want My Tears Back - Live, at Wacken, 2013',\n",
       " 'Nemo - Live, at Wacken, 2013',\n",
       " 'Last of the Wilds - Live, at Wacken, 2013',\n",
       " 'Bless the Child - Live, at Wacken, 2013',\n",
       " 'Romanticide - Live, at Wacken, 2013',\n",
       " 'Amaranth - Live, at Wacken, 2013',\n",
       " 'Ghost Love Score - Live, at Wacken, 2013',\n",
       " 'Song of Myself - Live, at Wacken, 2013',\n",
       " 'Last Ride of the Day - Live, at Wacken, 2013',\n",
       " 'Imaginaerum (Outro) - Live, at Wacken, 2013',\n",
       " 'Shudder Before the Beautiful',\n",
       " 'Weak Fantasy',\n",
       " 'Élan',\n",
       " 'Yours Is an Empty Hope',\n",
       " 'Our Decades in the Sun',\n",
       " 'My Walden',\n",
       " 'Endless Forms Most Beautiful',\n",
       " 'Edema Ruh',\n",
       " 'Alpenglow',\n",
       " 'The Eyes of Sharbat Gula',\n",
       " 'The Greatest Show on Earth',\n",
       " 'Shudder Before the Beautiful - Instrumental',\n",
       " 'Weak Fantasy - Instrumental',\n",
       " 'Élan - Instrumental',\n",
       " 'Yours Is an Empty Hope - Instrumental',\n",
       " 'Our Decades in the Sun - Instrumental',\n",
       " 'My Walden - Instrumental',\n",
       " 'Endless Forms Most Beautiful - Instrumental',\n",
       " 'Edema Ruh - Instrumental',\n",
       " 'Alpenglow - Instrumental',\n",
       " 'Find Your Story',\n",
       " 'Orphanage Airlines',\n",
       " 'Undertow',\n",
       " 'Spying In The Doorway',\n",
       " 'A Crackling Phere',\n",
       " 'Sundown',\n",
       " 'Wonderfields',\n",
       " 'Hey Buddy',\n",
       " 'Deeper Down',\n",
       " 'Dare To Enter',\n",
       " 'I Have To Let You Go',\n",
       " 'Heart Lying Still',\n",
       " 'From G To E Minor',\n",
       " 'Taikatalvi',\n",
       " 'Storytime',\n",
       " 'Ghost River',\n",
       " 'Slow, Love, Slow',\n",
       " 'I Want My Tears Back',\n",
       " 'Scaretale',\n",
       " 'Arabesque',\n",
       " 'Turn Loose The Mermaids',\n",
       " 'Rest Calm',\n",
       " 'The Crow, The Owl And The Dove',\n",
       " 'Last Ride Of The Day',\n",
       " 'Song Of Myself',\n",
       " 'Imaginaerum',\n",
       " 'Taikatalvi - Instrumental',\n",
       " 'Storytime - Instrumental',\n",
       " 'Ghost River - Instrumental',\n",
       " 'Slow, Love, Slow - Instrumental',\n",
       " 'I Want My Tears Back - Instrumental',\n",
       " 'Scaretale - Instrumental',\n",
       " 'Arabesque - Instrumental',\n",
       " 'Taikatalvi',\n",
       " 'Storytime',\n",
       " 'Ghost River',\n",
       " 'Slow, Love, Slow',\n",
       " 'I Want My Tears Back',\n",
       " 'Scaretale',\n",
       " 'Arabesque',\n",
       " 'Turn Loose the Mermaids',\n",
       " 'Rest Calm',\n",
       " 'The Crow, the Owl and the Dove',\n",
       " 'Last Ride of the Day',\n",
       " 'Song of Myself',\n",
       " 'Imaginaerum',\n",
       " 'Taikatalvi - Instrumental',\n",
       " 'Storytime - Instrumental',\n",
       " 'Ghost River - Instrumental',\n",
       " 'Slow, Love, Slow - Instrumental',\n",
       " 'I Want My Tears Back - Instrumental',\n",
       " 'Scaretale - Instrumental',\n",
       " 'Arabesque - Instrumental']"
      ]
     },
     "execution_count": 19,
     "metadata": {},
     "output_type": "execute_result"
    }
   ],
   "source": [
    "TRACKS_NAMES"
   ]
  },
  {
   "cell_type": "code",
   "execution_count": 20,
   "id": "present-carry",
   "metadata": {},
   "outputs": [
    {
     "name": "stdout",
     "output_type": "stream",
     "text": [
      "207 ms ± 0 ns per loop (mean ± std. dev. of 1 run, 1 loop each)\n"
     ]
    }
   ],
   "source": [
    "%%timeit -n 1 -r 1\n",
    "asyncio.run(get_tracks(albums_id))"
   ]
  },
  {
   "cell_type": "code",
   "execution_count": null,
   "id": "appreciated-experiment",
   "metadata": {},
   "outputs": [],
   "source": []
  }
 ],
 "metadata": {
  "kernelspec": {
   "display_name": "Python 3",
   "language": "python",
   "name": "python3"
  },
  "language_info": {
   "codemirror_mode": {
    "name": "ipython",
    "version": 3
   },
   "file_extension": ".py",
   "mimetype": "text/x-python",
   "name": "python",
   "nbconvert_exporter": "python",
   "pygments_lexer": "ipython3",
   "version": "3.9.1"
  }
 },
 "nbformat": 4,
 "nbformat_minor": 5
}
