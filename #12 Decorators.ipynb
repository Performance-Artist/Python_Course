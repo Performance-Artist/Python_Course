{
 "cells": [
  {
   "cell_type": "code",
   "execution_count": 1,
   "metadata": {},
   "outputs": [],
   "source": [
    "# Decorators"
   ]
  },
  {
   "cell_type": "code",
   "execution_count": 2,
   "metadata": {},
   "outputs": [],
   "source": [
    "# Sometimes you will have the necesity to pass a function to another function as an\n",
    "# argument. Do you remember our example of the simple calculator."
   ]
  },
  {
   "cell_type": "code",
   "execution_count": 1,
   "metadata": {},
   "outputs": [],
   "source": [
    "add = lambda num1, num2 : num1 + num2\n",
    "\n",
    "substract = lambda num1, num2 : num1 - num2\n",
    "\n",
    "multiply = lambda num1, num2 : num1 * num2\n",
    "\n",
    "div = lambda num1, num2 : num1 / num2\n",
    "\n",
    "mod = lambda num1, num2 : num1 % num2"
   ]
  },
  {
   "cell_type": "code",
   "execution_count": 2,
   "metadata": {},
   "outputs": [],
   "source": [
    "def applyer(sign, expression, fun):\n",
    "    values = [float(val) for val in expression.split(sign)]\n",
    "    return fun(values[0], values[1])"
   ]
  },
  {
   "cell_type": "code",
   "execution_count": 3,
   "metadata": {},
   "outputs": [],
   "source": [
    "def checker(expression):\n",
    "    if '+' in expression:\n",
    "        return applyer('+', expression, add)\n",
    "    elif '-' in expression:\n",
    "        return applyer('-', expression, substract)\n",
    "    elif '*' in expression:\n",
    "        return applyer('*', expression, multiply)\n",
    "    elif '/' in expression:\n",
    "        return applyer('/', expression, div)\n",
    "    elif '%' in expression:\n",
    "        return applyer('%', expression, mod)\n",
    "    else:\n",
    "        print(\"This exprssion cannot be interpeted\")\n",
    "        return None"
   ]
  },
  {
   "cell_type": "code",
   "execution_count": 6,
   "metadata": {},
   "outputs": [],
   "source": [
    "# Here 'applyer' takes as an argument a function and return it's return by calling it.\n",
    "# 'applyer' here is a decorator."
   ]
  },
  {
   "cell_type": "code",
   "execution_count": 7,
   "metadata": {},
   "outputs": [],
   "source": [
    "# Decorators are special types of function, that takes as an argument one or more functions\n",
    "# and usually returns it's return."
   ]
  },
  {
   "cell_type": "code",
   "execution_count": 8,
   "metadata": {},
   "outputs": [],
   "source": [
    "# Decorators are usualy used in web frameworks, for example in flask."
   ]
  },
  {
   "cell_type": "code",
   "execution_count": 10,
   "metadata": {},
   "outputs": [],
   "source": [
    "# They allow to execute some action before and after calling a function. Let's create \n",
    "# registration system without and with decorators for you to see the diference."
   ]
  },
  {
   "cell_type": "code",
   "execution_count": 12,
   "metadata": {},
   "outputs": [],
   "source": [
    "# So, we will need function that will check our credentionals.\n",
    "def check_fun(inp):\n",
    "    numeric = set(['1', '2', '3', '4', '5', '6', '7', '8', '9', '0'])\n",
    "    symbols = set(['.', '!', '@', '#', '%', '$', '^'])\n",
    "    if 'username' in inp and 'password' in inp:\n",
    "        if len(set(inp['password']).intersection(numeric)) == 0:\n",
    "            print(\"The password must have numeric values!\")\n",
    "        elif len(set(inp['password']).intersection(symbols)) == 0:\n",
    "            print(\"The password must have symbols in it!\")\n",
    "        else:\n",
    "            return True\n",
    "    else:\n",
    "        print('Wrong input!')\n",
    "        return False"
   ]
  },
  {
   "cell_type": "code",
   "execution_count": 13,
   "metadata": {},
   "outputs": [],
   "source": [
    "def register(check_fun):\n",
    "    username = input(\"Please input a username:\")\n",
    "    password = input(\"Please input an password:\")\n",
    "    user_data = {\"username\" : username, \"password\" : password}\n",
    "    return check_fun(user_data)"
   ]
  },
  {
   "cell_type": "code",
   "execution_count": 14,
   "metadata": {},
   "outputs": [
    {
     "name": "stdout",
     "output_type": "stream",
     "text": [
      "Please input a username:Vasile\n",
      "Please input an password:12user@\n"
     ]
    },
    {
     "data": {
      "text/plain": [
       "True"
      ]
     },
     "execution_count": 14,
     "metadata": {},
     "output_type": "execute_result"
    }
   ],
   "source": [
    "register(check_fun)"
   ]
  },
  {
   "cell_type": "code",
   "execution_count": 15,
   "metadata": {},
   "outputs": [],
   "source": [
    "# As you see the check was passed succsesfully.\n",
    "# Now let's se how would we do this using decorators."
   ]
  },
  {
   "cell_type": "code",
   "execution_count": 16,
   "metadata": {},
   "outputs": [
    {
     "name": "stdout",
     "output_type": "stream",
     "text": [
      "Please input a username:Vasile\n",
      "Please input an password:12\n",
      "The password must have symbols in it!\n"
     ]
    }
   ],
   "source": [
    "@register\n",
    "def check_fun(inp):\n",
    "    numeric = set(['1', '2', '3', '4', '5', '6', '7', '8', '9', '0'])\n",
    "    symbols = set(['.', '!', '@', '#', '%', '$', '^'])\n",
    "    if 'username' in inp and 'password' in inp:\n",
    "        if len(set(inp['password']).intersection(numeric)) == 0:\n",
    "            print(\"The password must have numeric values!\")\n",
    "        elif len(set(inp['password']).intersection(symbols)) == 0:\n",
    "            print(\"The password must have symbols in it!\")\n",
    "        else:\n",
    "            return True\n",
    "    else:\n",
    "        print('Wrong input!')\n",
    "        return False"
   ]
  },
  {
   "cell_type": "code",
   "execution_count": 17,
   "metadata": {},
   "outputs": [],
   "source": [
    "# As you see as we defined the function with a decorator, the function was runed."
   ]
  },
  {
   "cell_type": "code",
   "execution_count": 18,
   "metadata": {},
   "outputs": [],
   "source": [
    "# When a function is decorated, then it is authomaticaly runned when the script is runned."
   ]
  },
  {
   "cell_type": "code",
   "execution_count": 19,
   "metadata": {},
   "outputs": [],
   "source": [
    "# Now let's sun the chech function."
   ]
  },
  {
   "cell_type": "code",
   "execution_count": null,
   "metadata": {},
   "outputs": [],
   "source": [
    "# This function usefull for the flusk. In flusk the the website is runned by running a \n",
    "# python script. So, by running this script you are registering the pages and the functions\n",
    "# that must be called when a page si accessed."
   ]
  }
 ],
 "metadata": {
  "kernelspec": {
   "display_name": "Python 3",
   "language": "python",
   "name": "python3"
  },
  "language_info": {
   "codemirror_mode": {
    "name": "ipython",
    "version": 3
   },
   "file_extension": ".py",
   "mimetype": "text/x-python",
   "name": "python",
   "nbconvert_exporter": "python",
   "pygments_lexer": "ipython3",
   "version": "3.9.2"
  }
 },
 "nbformat": 4,
 "nbformat_minor": 4
}
