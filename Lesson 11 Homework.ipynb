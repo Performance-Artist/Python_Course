{
 "cells": [
  {
   "cell_type": "code",
   "execution_count": 1,
   "id": "closed-hepatitis",
   "metadata": {},
   "outputs": [],
   "source": [
    "# Lesson 11 Homework"
   ]
  },
  {
   "cell_type": "code",
   "execution_count": 25,
   "id": "similar-suite",
   "metadata": {},
   "outputs": [
    {
     "name": "stdout",
     "output_type": "stream",
     "text": [
      "green\n",
      "gav gav gav gav \n",
      "German - True\n",
      "\n",
      "black\n",
      "gav gav gav gav gav gav gav gav gav gav \n",
      "French - True\n"
     ]
    }
   ],
   "source": [
    "class Mammal:\n",
    "    def __init__(self, eye_color):\n",
    "        self.eye_color = eye_color\n",
    "        \n",
    "    def get_eye_color(self):\n",
    "        print(self.eye_color)\n",
    "        \n",
    "# cat = Mammal('blue')\n",
    "# cat.get_eye_color()\n",
    "\n",
    "class Dog (Mammal):\n",
    "    def __init__(self, eye_color, bark_frequency):\n",
    "        super().__init__(eye_color)\n",
    "        self.bark_frequency = bark_frequency\n",
    "        \n",
    "    def bark(self):\n",
    "        print('gav ' * self.bark_frequency)\n",
    "        \n",
    "# haski = Dog('green', 5)\n",
    "# haski.get_eye_color()\n",
    "# haski.bark()\n",
    "\n",
    "class Cat (Mammal):\n",
    "    def __init__(self, eye_color, meow_frequency):\n",
    "        super().__init__(eye_color)\n",
    "        self.meow_frequency = meow_frequency\n",
    "        \n",
    "    def meow(self):\n",
    "        print('meow ' * self.meow_frequency)\n",
    "        \n",
    "# tom = Cat('black', 7)\n",
    "# tom.get_eye_color()\n",
    "# tom.meow()\n",
    "\n",
    "class GermanShepherd (Dog):\n",
    "    def __init__(self, eye_color, bark_frequency, german):\n",
    "        super().__init__(eye_color,bark_frequency)\n",
    "        self.german = german\n",
    "    \n",
    "    def isGerman(self):\n",
    "        print(f\"German - {self.german}\")\n",
    "        \n",
    "class Poodle (Dog):\n",
    "    def __init__(self, eye_color, bark_frequency, french):\n",
    "        super().__init__(eye_color,bark_frequency)\n",
    "        self.french = french\n",
    "    \n",
    "    def isFrench(self):\n",
    "        print(f\"French - {self.french}\")\n",
    "        \n",
    "shepherd_dog = GermanShepherd('green', 4, True)\n",
    "shepherd_dog.get_eye_color()\n",
    "shepherd_dog.bark()\n",
    "shepherd_dog.isGerman()\n",
    "print()\n",
    "poodle_dog = Poodle('black', 10, True)\n",
    "poodle_dog.get_eye_color()\n",
    "poodle_dog.bark()\n",
    "poodle_dog.isFrench()"
   ]
  },
  {
   "cell_type": "code",
   "execution_count": null,
   "id": "dominant-dream",
   "metadata": {},
   "outputs": [],
   "source": []
  }
 ],
 "metadata": {
  "kernelspec": {
   "display_name": "Python 3",
   "language": "python",
   "name": "python3"
  },
  "language_info": {
   "codemirror_mode": {
    "name": "ipython",
    "version": 3
   },
   "file_extension": ".py",
   "mimetype": "text/x-python",
   "name": "python",
   "nbconvert_exporter": "python",
   "pygments_lexer": "ipython3",
   "version": "3.9.1"
  }
 },
 "nbformat": 4,
 "nbformat_minor": 5
}
